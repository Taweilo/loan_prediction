{
  "nbformat": 4,
  "nbformat_minor": 0,
  "metadata": {
    "colab": {
      "provenance": [],
      "gpuType": "T4",
      "include_colab_link": true
    },
    "kernelspec": {
      "name": "python3",
      "display_name": "Python 3"
    },
    "language_info": {
      "name": "python"
    },
    "accelerator": "GPU"
  },
  "cells": [
    {
      "cell_type": "markdown",
      "metadata": {
        "id": "view-in-github",
        "colab_type": "text"
      },
      "source": [
        "<a href=\"https://colab.research.google.com/github/Taweilo/loan_prediction/blob/main/Credit_Risk.ipynb\" target=\"_parent\"><img src=\"https://colab.research.google.com/assets/colab-badge.svg\" alt=\"Open In Colab\"/></a>"
      ]
    },
    {
      "cell_type": "markdown",
      "source": [
        "# Loan prediction"
      ],
      "metadata": {
        "id": "ntBiXvW2p79V"
      }
    },
    {
      "cell_type": "code",
      "source": [
        "! pip install scikit-learn==1.3.2\n",
        "! pip install optuna"
      ],
      "metadata": {
        "colab": {
          "base_uri": "https://localhost:8080/"
        },
        "id": "buvRXqStTg_w",
        "outputId": "743fca61-f07b-4d5e-fdf6-fc925f8d88b5"
      },
      "execution_count": 59,
      "outputs": [
        {
          "output_type": "stream",
          "name": "stdout",
          "text": [
            "Requirement already satisfied: scikit-learn==1.3.2 in /usr/local/lib/python3.11/dist-packages (1.3.2)\n",
            "Requirement already satisfied: numpy<2.0,>=1.17.3 in /usr/local/lib/python3.11/dist-packages (from scikit-learn==1.3.2) (1.26.4)\n",
            "Requirement already satisfied: scipy>=1.5.0 in /usr/local/lib/python3.11/dist-packages (from scikit-learn==1.3.2) (1.13.1)\n",
            "Requirement already satisfied: joblib>=1.1.1 in /usr/local/lib/python3.11/dist-packages (from scikit-learn==1.3.2) (1.4.2)\n",
            "Requirement already satisfied: threadpoolctl>=2.0.0 in /usr/local/lib/python3.11/dist-packages (from scikit-learn==1.3.2) (3.5.0)\n",
            "Requirement already satisfied: optuna in /usr/local/lib/python3.11/dist-packages (4.2.0)\n",
            "Requirement already satisfied: alembic>=1.5.0 in /usr/local/lib/python3.11/dist-packages (from optuna) (1.14.1)\n",
            "Requirement already satisfied: colorlog in /usr/local/lib/python3.11/dist-packages (from optuna) (6.9.0)\n",
            "Requirement already satisfied: numpy in /usr/local/lib/python3.11/dist-packages (from optuna) (1.26.4)\n",
            "Requirement already satisfied: packaging>=20.0 in /usr/local/lib/python3.11/dist-packages (from optuna) (24.2)\n",
            "Requirement already satisfied: sqlalchemy>=1.4.2 in /usr/local/lib/python3.11/dist-packages (from optuna) (2.0.37)\n",
            "Requirement already satisfied: tqdm in /usr/local/lib/python3.11/dist-packages (from optuna) (4.67.1)\n",
            "Requirement already satisfied: PyYAML in /usr/local/lib/python3.11/dist-packages (from optuna) (6.0.2)\n",
            "Requirement already satisfied: Mako in /usr/local/lib/python3.11/dist-packages (from alembic>=1.5.0->optuna) (1.3.9)\n",
            "Requirement already satisfied: typing-extensions>=4 in /usr/local/lib/python3.11/dist-packages (from alembic>=1.5.0->optuna) (4.12.2)\n",
            "Requirement already satisfied: greenlet!=0.4.17 in /usr/local/lib/python3.11/dist-packages (from sqlalchemy>=1.4.2->optuna) (3.1.1)\n",
            "Requirement already satisfied: MarkupSafe>=0.9.2 in /usr/local/lib/python3.11/dist-packages (from Mako->alembic>=1.5.0->optuna) (3.0.2)\n"
          ]
        }
      ]
    },
    {
      "cell_type": "code",
      "execution_count": 60,
      "metadata": {
        "id": "nMz9NwN4WoPW"
      },
      "outputs": [],
      "source": [
        "# data preparation\n",
        "import pandas as pd\n",
        "import numpy as np\n",
        "import seaborn as sns\n",
        "import matplotlib.pyplot as plt\n",
        "from collections import Counter\n",
        "from imblearn.under_sampling import RandomUnderSampler\n",
        "from sklearn.preprocessing import StandardScaler\n",
        "\n",
        "# modeling\n",
        "import optuna\n",
        "from sklearn.linear_model import LogisticRegression\n",
        "from sklearn.tree import DecisionTreeClassifier\n",
        "import xgboost as xgb\n",
        "from sklearn.model_selection import StratifiedKFold, train_test_split, cross_val_score, cross_val_score, KFold\n",
        "from sklearn.metrics import classification_report, accuracy_score,roc_auc_score, roc_curve\n",
        "\n",
        "\n",
        "from sklearn.metrics import precision_recall_fscore_support, accuracy_score, roc_auc_score, f1_score, confusion_matrix, ConfusionMatrixDisplay\n"
      ]
    },
    {
      "cell_type": "markdown",
      "source": [
        "## 1. Import data"
      ],
      "metadata": {
        "id": "m8ksOoXRKXc-"
      }
    },
    {
      "cell_type": "code",
      "source": [
        "url = \"https://raw.githubusercontent.com/Taweilo/credit_risk_modeling/main/loan_data.csv\"\n",
        "df = pd.read_csv(url)\n",
        "df.head()"
      ],
      "metadata": {
        "colab": {
          "base_uri": "https://localhost:8080/",
          "height": 226
        },
        "id": "rwA3PxPpKbO1",
        "outputId": "1eda7e0b-1000-486d-d458-fce550bf8753"
      },
      "execution_count": 61,
      "outputs": [
        {
          "output_type": "execute_result",
          "data": {
            "text/plain": [
              "   application_id  person_age  person_income person_home_ownership  \\\n",
              "0               1          22          59000                  RENT   \n",
              "1               2          21           9600                   OWN   \n",
              "2               3          25           9600              MORTGAGE   \n",
              "3               4          23          65500                  RENT   \n",
              "4               5          24          54400                  RENT   \n",
              "\n",
              "   person_emp_length loan_intent loan_grade  loan_amnt  loan_int_rate  \\\n",
              "0              123.0    PERSONAL          D      35000          16.02   \n",
              "1                5.0   EDUCATION          B       1000          11.14   \n",
              "2                1.0     MEDICAL          C       5500          12.87   \n",
              "3                4.0     MEDICAL          C      35000          15.23   \n",
              "4                8.0     MEDICAL          C      35000          14.27   \n",
              "\n",
              "   loan_status  loan_percent_income cb_person_default_on_file  \\\n",
              "0            1                 0.59                         Y   \n",
              "1            0                 0.10                         N   \n",
              "2            1                 0.57                         N   \n",
              "3            1                 0.53                         N   \n",
              "4            1                 0.55                         Y   \n",
              "\n",
              "   cb_person_cred_hist_length  \n",
              "0                           3  \n",
              "1                           2  \n",
              "2                           3  \n",
              "3                           2  \n",
              "4                           4  "
            ],
            "text/html": [
              "\n",
              "  <div id=\"df-782c655f-e6e5-418b-9e2d-78cebb41997f\" class=\"colab-df-container\">\n",
              "    <div>\n",
              "<style scoped>\n",
              "    .dataframe tbody tr th:only-of-type {\n",
              "        vertical-align: middle;\n",
              "    }\n",
              "\n",
              "    .dataframe tbody tr th {\n",
              "        vertical-align: top;\n",
              "    }\n",
              "\n",
              "    .dataframe thead th {\n",
              "        text-align: right;\n",
              "    }\n",
              "</style>\n",
              "<table border=\"1\" class=\"dataframe\">\n",
              "  <thead>\n",
              "    <tr style=\"text-align: right;\">\n",
              "      <th></th>\n",
              "      <th>application_id</th>\n",
              "      <th>person_age</th>\n",
              "      <th>person_income</th>\n",
              "      <th>person_home_ownership</th>\n",
              "      <th>person_emp_length</th>\n",
              "      <th>loan_intent</th>\n",
              "      <th>loan_grade</th>\n",
              "      <th>loan_amnt</th>\n",
              "      <th>loan_int_rate</th>\n",
              "      <th>loan_status</th>\n",
              "      <th>loan_percent_income</th>\n",
              "      <th>cb_person_default_on_file</th>\n",
              "      <th>cb_person_cred_hist_length</th>\n",
              "    </tr>\n",
              "  </thead>\n",
              "  <tbody>\n",
              "    <tr>\n",
              "      <th>0</th>\n",
              "      <td>1</td>\n",
              "      <td>22</td>\n",
              "      <td>59000</td>\n",
              "      <td>RENT</td>\n",
              "      <td>123.0</td>\n",
              "      <td>PERSONAL</td>\n",
              "      <td>D</td>\n",
              "      <td>35000</td>\n",
              "      <td>16.02</td>\n",
              "      <td>1</td>\n",
              "      <td>0.59</td>\n",
              "      <td>Y</td>\n",
              "      <td>3</td>\n",
              "    </tr>\n",
              "    <tr>\n",
              "      <th>1</th>\n",
              "      <td>2</td>\n",
              "      <td>21</td>\n",
              "      <td>9600</td>\n",
              "      <td>OWN</td>\n",
              "      <td>5.0</td>\n",
              "      <td>EDUCATION</td>\n",
              "      <td>B</td>\n",
              "      <td>1000</td>\n",
              "      <td>11.14</td>\n",
              "      <td>0</td>\n",
              "      <td>0.10</td>\n",
              "      <td>N</td>\n",
              "      <td>2</td>\n",
              "    </tr>\n",
              "    <tr>\n",
              "      <th>2</th>\n",
              "      <td>3</td>\n",
              "      <td>25</td>\n",
              "      <td>9600</td>\n",
              "      <td>MORTGAGE</td>\n",
              "      <td>1.0</td>\n",
              "      <td>MEDICAL</td>\n",
              "      <td>C</td>\n",
              "      <td>5500</td>\n",
              "      <td>12.87</td>\n",
              "      <td>1</td>\n",
              "      <td>0.57</td>\n",
              "      <td>N</td>\n",
              "      <td>3</td>\n",
              "    </tr>\n",
              "    <tr>\n",
              "      <th>3</th>\n",
              "      <td>4</td>\n",
              "      <td>23</td>\n",
              "      <td>65500</td>\n",
              "      <td>RENT</td>\n",
              "      <td>4.0</td>\n",
              "      <td>MEDICAL</td>\n",
              "      <td>C</td>\n",
              "      <td>35000</td>\n",
              "      <td>15.23</td>\n",
              "      <td>1</td>\n",
              "      <td>0.53</td>\n",
              "      <td>N</td>\n",
              "      <td>2</td>\n",
              "    </tr>\n",
              "    <tr>\n",
              "      <th>4</th>\n",
              "      <td>5</td>\n",
              "      <td>24</td>\n",
              "      <td>54400</td>\n",
              "      <td>RENT</td>\n",
              "      <td>8.0</td>\n",
              "      <td>MEDICAL</td>\n",
              "      <td>C</td>\n",
              "      <td>35000</td>\n",
              "      <td>14.27</td>\n",
              "      <td>1</td>\n",
              "      <td>0.55</td>\n",
              "      <td>Y</td>\n",
              "      <td>4</td>\n",
              "    </tr>\n",
              "  </tbody>\n",
              "</table>\n",
              "</div>\n",
              "    <div class=\"colab-df-buttons\">\n",
              "\n",
              "  <div class=\"colab-df-container\">\n",
              "    <button class=\"colab-df-convert\" onclick=\"convertToInteractive('df-782c655f-e6e5-418b-9e2d-78cebb41997f')\"\n",
              "            title=\"Convert this dataframe to an interactive table.\"\n",
              "            style=\"display:none;\">\n",
              "\n",
              "  <svg xmlns=\"http://www.w3.org/2000/svg\" height=\"24px\" viewBox=\"0 -960 960 960\">\n",
              "    <path d=\"M120-120v-720h720v720H120Zm60-500h600v-160H180v160Zm220 220h160v-160H400v160Zm0 220h160v-160H400v160ZM180-400h160v-160H180v160Zm440 0h160v-160H620v160ZM180-180h160v-160H180v160Zm440 0h160v-160H620v160Z\"/>\n",
              "  </svg>\n",
              "    </button>\n",
              "\n",
              "  <style>\n",
              "    .colab-df-container {\n",
              "      display:flex;\n",
              "      gap: 12px;\n",
              "    }\n",
              "\n",
              "    .colab-df-convert {\n",
              "      background-color: #E8F0FE;\n",
              "      border: none;\n",
              "      border-radius: 50%;\n",
              "      cursor: pointer;\n",
              "      display: none;\n",
              "      fill: #1967D2;\n",
              "      height: 32px;\n",
              "      padding: 0 0 0 0;\n",
              "      width: 32px;\n",
              "    }\n",
              "\n",
              "    .colab-df-convert:hover {\n",
              "      background-color: #E2EBFA;\n",
              "      box-shadow: 0px 1px 2px rgba(60, 64, 67, 0.3), 0px 1px 3px 1px rgba(60, 64, 67, 0.15);\n",
              "      fill: #174EA6;\n",
              "    }\n",
              "\n",
              "    .colab-df-buttons div {\n",
              "      margin-bottom: 4px;\n",
              "    }\n",
              "\n",
              "    [theme=dark] .colab-df-convert {\n",
              "      background-color: #3B4455;\n",
              "      fill: #D2E3FC;\n",
              "    }\n",
              "\n",
              "    [theme=dark] .colab-df-convert:hover {\n",
              "      background-color: #434B5C;\n",
              "      box-shadow: 0px 1px 3px 1px rgba(0, 0, 0, 0.15);\n",
              "      filter: drop-shadow(0px 1px 2px rgba(0, 0, 0, 0.3));\n",
              "      fill: #FFFFFF;\n",
              "    }\n",
              "  </style>\n",
              "\n",
              "    <script>\n",
              "      const buttonEl =\n",
              "        document.querySelector('#df-782c655f-e6e5-418b-9e2d-78cebb41997f button.colab-df-convert');\n",
              "      buttonEl.style.display =\n",
              "        google.colab.kernel.accessAllowed ? 'block' : 'none';\n",
              "\n",
              "      async function convertToInteractive(key) {\n",
              "        const element = document.querySelector('#df-782c655f-e6e5-418b-9e2d-78cebb41997f');\n",
              "        const dataTable =\n",
              "          await google.colab.kernel.invokeFunction('convertToInteractive',\n",
              "                                                    [key], {});\n",
              "        if (!dataTable) return;\n",
              "\n",
              "        const docLinkHtml = 'Like what you see? Visit the ' +\n",
              "          '<a target=\"_blank\" href=https://colab.research.google.com/notebooks/data_table.ipynb>data table notebook</a>'\n",
              "          + ' to learn more about interactive tables.';\n",
              "        element.innerHTML = '';\n",
              "        dataTable['output_type'] = 'display_data';\n",
              "        await google.colab.output.renderOutput(dataTable, element);\n",
              "        const docLink = document.createElement('div');\n",
              "        docLink.innerHTML = docLinkHtml;\n",
              "        element.appendChild(docLink);\n",
              "      }\n",
              "    </script>\n",
              "  </div>\n",
              "\n",
              "\n",
              "<div id=\"df-d6455d50-fc41-430c-9766-81d2ccbc2de1\">\n",
              "  <button class=\"colab-df-quickchart\" onclick=\"quickchart('df-d6455d50-fc41-430c-9766-81d2ccbc2de1')\"\n",
              "            title=\"Suggest charts\"\n",
              "            style=\"display:none;\">\n",
              "\n",
              "<svg xmlns=\"http://www.w3.org/2000/svg\" height=\"24px\"viewBox=\"0 0 24 24\"\n",
              "     width=\"24px\">\n",
              "    <g>\n",
              "        <path d=\"M19 3H5c-1.1 0-2 .9-2 2v14c0 1.1.9 2 2 2h14c1.1 0 2-.9 2-2V5c0-1.1-.9-2-2-2zM9 17H7v-7h2v7zm4 0h-2V7h2v10zm4 0h-2v-4h2v4z\"/>\n",
              "    </g>\n",
              "</svg>\n",
              "  </button>\n",
              "\n",
              "<style>\n",
              "  .colab-df-quickchart {\n",
              "      --bg-color: #E8F0FE;\n",
              "      --fill-color: #1967D2;\n",
              "      --hover-bg-color: #E2EBFA;\n",
              "      --hover-fill-color: #174EA6;\n",
              "      --disabled-fill-color: #AAA;\n",
              "      --disabled-bg-color: #DDD;\n",
              "  }\n",
              "\n",
              "  [theme=dark] .colab-df-quickchart {\n",
              "      --bg-color: #3B4455;\n",
              "      --fill-color: #D2E3FC;\n",
              "      --hover-bg-color: #434B5C;\n",
              "      --hover-fill-color: #FFFFFF;\n",
              "      --disabled-bg-color: #3B4455;\n",
              "      --disabled-fill-color: #666;\n",
              "  }\n",
              "\n",
              "  .colab-df-quickchart {\n",
              "    background-color: var(--bg-color);\n",
              "    border: none;\n",
              "    border-radius: 50%;\n",
              "    cursor: pointer;\n",
              "    display: none;\n",
              "    fill: var(--fill-color);\n",
              "    height: 32px;\n",
              "    padding: 0;\n",
              "    width: 32px;\n",
              "  }\n",
              "\n",
              "  .colab-df-quickchart:hover {\n",
              "    background-color: var(--hover-bg-color);\n",
              "    box-shadow: 0 1px 2px rgba(60, 64, 67, 0.3), 0 1px 3px 1px rgba(60, 64, 67, 0.15);\n",
              "    fill: var(--button-hover-fill-color);\n",
              "  }\n",
              "\n",
              "  .colab-df-quickchart-complete:disabled,\n",
              "  .colab-df-quickchart-complete:disabled:hover {\n",
              "    background-color: var(--disabled-bg-color);\n",
              "    fill: var(--disabled-fill-color);\n",
              "    box-shadow: none;\n",
              "  }\n",
              "\n",
              "  .colab-df-spinner {\n",
              "    border: 2px solid var(--fill-color);\n",
              "    border-color: transparent;\n",
              "    border-bottom-color: var(--fill-color);\n",
              "    animation:\n",
              "      spin 1s steps(1) infinite;\n",
              "  }\n",
              "\n",
              "  @keyframes spin {\n",
              "    0% {\n",
              "      border-color: transparent;\n",
              "      border-bottom-color: var(--fill-color);\n",
              "      border-left-color: var(--fill-color);\n",
              "    }\n",
              "    20% {\n",
              "      border-color: transparent;\n",
              "      border-left-color: var(--fill-color);\n",
              "      border-top-color: var(--fill-color);\n",
              "    }\n",
              "    30% {\n",
              "      border-color: transparent;\n",
              "      border-left-color: var(--fill-color);\n",
              "      border-top-color: var(--fill-color);\n",
              "      border-right-color: var(--fill-color);\n",
              "    }\n",
              "    40% {\n",
              "      border-color: transparent;\n",
              "      border-right-color: var(--fill-color);\n",
              "      border-top-color: var(--fill-color);\n",
              "    }\n",
              "    60% {\n",
              "      border-color: transparent;\n",
              "      border-right-color: var(--fill-color);\n",
              "    }\n",
              "    80% {\n",
              "      border-color: transparent;\n",
              "      border-right-color: var(--fill-color);\n",
              "      border-bottom-color: var(--fill-color);\n",
              "    }\n",
              "    90% {\n",
              "      border-color: transparent;\n",
              "      border-bottom-color: var(--fill-color);\n",
              "    }\n",
              "  }\n",
              "</style>\n",
              "\n",
              "  <script>\n",
              "    async function quickchart(key) {\n",
              "      const quickchartButtonEl =\n",
              "        document.querySelector('#' + key + ' button');\n",
              "      quickchartButtonEl.disabled = true;  // To prevent multiple clicks.\n",
              "      quickchartButtonEl.classList.add('colab-df-spinner');\n",
              "      try {\n",
              "        const charts = await google.colab.kernel.invokeFunction(\n",
              "            'suggestCharts', [key], {});\n",
              "      } catch (error) {\n",
              "        console.error('Error during call to suggestCharts:', error);\n",
              "      }\n",
              "      quickchartButtonEl.classList.remove('colab-df-spinner');\n",
              "      quickchartButtonEl.classList.add('colab-df-quickchart-complete');\n",
              "    }\n",
              "    (() => {\n",
              "      let quickchartButtonEl =\n",
              "        document.querySelector('#df-d6455d50-fc41-430c-9766-81d2ccbc2de1 button');\n",
              "      quickchartButtonEl.style.display =\n",
              "        google.colab.kernel.accessAllowed ? 'block' : 'none';\n",
              "    })();\n",
              "  </script>\n",
              "</div>\n",
              "\n",
              "    </div>\n",
              "  </div>\n"
            ],
            "application/vnd.google.colaboratory.intrinsic+json": {
              "type": "dataframe",
              "variable_name": "df",
              "summary": "{\n  \"name\": \"df\",\n  \"rows\": 32581,\n  \"fields\": [\n    {\n      \"column\": \"application_id\",\n      \"properties\": {\n        \"dtype\": \"number\",\n        \"std\": 9405,\n        \"min\": 1,\n        \"max\": 32581,\n        \"num_unique_values\": 32581,\n        \"samples\": [\n          14669,\n          24615,\n          11097\n        ],\n        \"semantic_type\": \"\",\n        \"description\": \"\"\n      }\n    },\n    {\n      \"column\": \"person_age\",\n      \"properties\": {\n        \"dtype\": \"number\",\n        \"std\": 6,\n        \"min\": 20,\n        \"max\": 144,\n        \"num_unique_values\": 58,\n        \"samples\": [\n          22,\n          26,\n          65\n        ],\n        \"semantic_type\": \"\",\n        \"description\": \"\"\n      }\n    },\n    {\n      \"column\": \"person_income\",\n      \"properties\": {\n        \"dtype\": \"number\",\n        \"std\": 61983,\n        \"min\": 4000,\n        \"max\": 6000000,\n        \"num_unique_values\": 4295,\n        \"samples\": [\n          20800,\n          54417,\n          144000\n        ],\n        \"semantic_type\": \"\",\n        \"description\": \"\"\n      }\n    },\n    {\n      \"column\": \"person_home_ownership\",\n      \"properties\": {\n        \"dtype\": \"category\",\n        \"num_unique_values\": 4,\n        \"samples\": [\n          \"OWN\",\n          \"OTHER\",\n          \"RENT\"\n        ],\n        \"semantic_type\": \"\",\n        \"description\": \"\"\n      }\n    },\n    {\n      \"column\": \"person_emp_length\",\n      \"properties\": {\n        \"dtype\": \"number\",\n        \"std\": 4.142630148887972,\n        \"min\": 0.0,\n        \"max\": 123.0,\n        \"num_unique_values\": 36,\n        \"samples\": [\n          30.0,\n          18.0,\n          26.0\n        ],\n        \"semantic_type\": \"\",\n        \"description\": \"\"\n      }\n    },\n    {\n      \"column\": \"loan_intent\",\n      \"properties\": {\n        \"dtype\": \"category\",\n        \"num_unique_values\": 6,\n        \"samples\": [\n          \"PERSONAL\",\n          \"EDUCATION\",\n          \"DEBTCONSOLIDATION\"\n        ],\n        \"semantic_type\": \"\",\n        \"description\": \"\"\n      }\n    },\n    {\n      \"column\": \"loan_grade\",\n      \"properties\": {\n        \"dtype\": \"category\",\n        \"num_unique_values\": 7,\n        \"samples\": [\n          \"D\",\n          \"B\",\n          \"F\"\n        ],\n        \"semantic_type\": \"\",\n        \"description\": \"\"\n      }\n    },\n    {\n      \"column\": \"loan_amnt\",\n      \"properties\": {\n        \"dtype\": \"number\",\n        \"std\": 6322,\n        \"min\": 500,\n        \"max\": 35000,\n        \"num_unique_values\": 753,\n        \"samples\": [\n          13125,\n          3675,\n          13800\n        ],\n        \"semantic_type\": \"\",\n        \"description\": \"\"\n      }\n    },\n    {\n      \"column\": \"loan_int_rate\",\n      \"properties\": {\n        \"dtype\": \"number\",\n        \"std\": 3.2404594649559195,\n        \"min\": 5.42,\n        \"max\": 23.22,\n        \"num_unique_values\": 348,\n        \"samples\": [\n          10.28,\n          13.35,\n          18.07\n        ],\n        \"semantic_type\": \"\",\n        \"description\": \"\"\n      }\n    },\n    {\n      \"column\": \"loan_status\",\n      \"properties\": {\n        \"dtype\": \"number\",\n        \"std\": 0,\n        \"min\": 0,\n        \"max\": 1,\n        \"num_unique_values\": 2,\n        \"samples\": [\n          0,\n          1\n        ],\n        \"semantic_type\": \"\",\n        \"description\": \"\"\n      }\n    },\n    {\n      \"column\": \"loan_percent_income\",\n      \"properties\": {\n        \"dtype\": \"number\",\n        \"std\": 0.10678175634492885,\n        \"min\": 0.0,\n        \"max\": 0.83,\n        \"num_unique_values\": 77,\n        \"samples\": [\n          0.55,\n          0.34\n        ],\n        \"semantic_type\": \"\",\n        \"description\": \"\"\n      }\n    },\n    {\n      \"column\": \"cb_person_default_on_file\",\n      \"properties\": {\n        \"dtype\": \"category\",\n        \"num_unique_values\": 2,\n        \"samples\": [\n          \"N\",\n          \"Y\"\n        ],\n        \"semantic_type\": \"\",\n        \"description\": \"\"\n      }\n    },\n    {\n      \"column\": \"cb_person_cred_hist_length\",\n      \"properties\": {\n        \"dtype\": \"number\",\n        \"std\": 4,\n        \"min\": 2,\n        \"max\": 30,\n        \"num_unique_values\": 29,\n        \"samples\": [\n          24,\n          25\n        ],\n        \"semantic_type\": \"\",\n        \"description\": \"\"\n      }\n    }\n  ]\n}"
            }
          },
          "metadata": {},
          "execution_count": 61
        }
      ]
    },
    {
      "cell_type": "code",
      "source": [
        "print(df.shape)\n",
        "print(\"\")\n",
        "print(df.describe())"
      ],
      "metadata": {
        "colab": {
          "base_uri": "https://localhost:8080/"
        },
        "id": "T9dialWsKbSO",
        "outputId": "2e9afb09-7585-45ef-e718-baa692f56716"
      },
      "execution_count": 62,
      "outputs": [
        {
          "output_type": "stream",
          "name": "stdout",
          "text": [
            "(32581, 13)\n",
            "\n",
            "       application_id    person_age  person_income  person_emp_length  \\\n",
            "count    32581.000000  32581.000000   3.258100e+04       31686.000000   \n",
            "mean     16291.000000     27.734600   6.607485e+04           4.789686   \n",
            "std       9405.468897      6.348078   6.198312e+04           4.142630   \n",
            "min          1.000000     20.000000   4.000000e+03           0.000000   \n",
            "25%       8146.000000     23.000000   3.850000e+04           2.000000   \n",
            "50%      16291.000000     26.000000   5.500000e+04           4.000000   \n",
            "75%      24436.000000     30.000000   7.920000e+04           7.000000   \n",
            "max      32581.000000    144.000000   6.000000e+06         123.000000   \n",
            "\n",
            "          loan_amnt  loan_int_rate   loan_status  loan_percent_income  \\\n",
            "count  32581.000000   29465.000000  32581.000000         32581.000000   \n",
            "mean    9589.371106      11.011695      0.218164             0.170203   \n",
            "std     6322.086646       3.240459      0.413006             0.106782   \n",
            "min      500.000000       5.420000      0.000000             0.000000   \n",
            "25%     5000.000000       7.900000      0.000000             0.090000   \n",
            "50%     8000.000000      10.990000      0.000000             0.150000   \n",
            "75%    12200.000000      13.470000      0.000000             0.230000   \n",
            "max    35000.000000      23.220000      1.000000             0.830000   \n",
            "\n",
            "       cb_person_cred_hist_length  \n",
            "count                32581.000000  \n",
            "mean                     5.804211  \n",
            "std                      4.055001  \n",
            "min                      2.000000  \n",
            "25%                      3.000000  \n",
            "50%                      4.000000  \n",
            "75%                      8.000000  \n",
            "max                     30.000000  \n"
          ]
        }
      ]
    },
    {
      "cell_type": "code",
      "source": [
        "print(df.info())\n",
        "print(\"\")\n",
        "# Assuming df is your DataFrame\n",
        "object_cols = df.select_dtypes(include='object').columns\n",
        "for col in object_cols:\n",
        "    print(f\"Column '{col}' has data type 'object'.\")\n",
        "    unique_values = df[col].unique()\n",
        "    print(\"Unique values:\")\n",
        "    for val in unique_values:\n",
        "        print(val)\n",
        "    print()"
      ],
      "metadata": {
        "colab": {
          "base_uri": "https://localhost:8080/"
        },
        "id": "jUUir9xuLZKc",
        "outputId": "33de600b-bfe6-422b-f4ce-ed2fdece54ae"
      },
      "execution_count": 63,
      "outputs": [
        {
          "output_type": "stream",
          "name": "stdout",
          "text": [
            "<class 'pandas.core.frame.DataFrame'>\n",
            "RangeIndex: 32581 entries, 0 to 32580\n",
            "Data columns (total 13 columns):\n",
            " #   Column                      Non-Null Count  Dtype  \n",
            "---  ------                      --------------  -----  \n",
            " 0   application_id              32581 non-null  int64  \n",
            " 1   person_age                  32581 non-null  int64  \n",
            " 2   person_income               32581 non-null  int64  \n",
            " 3   person_home_ownership       32581 non-null  object \n",
            " 4   person_emp_length           31686 non-null  float64\n",
            " 5   loan_intent                 32581 non-null  object \n",
            " 6   loan_grade                  32581 non-null  object \n",
            " 7   loan_amnt                   32581 non-null  int64  \n",
            " 8   loan_int_rate               29465 non-null  float64\n",
            " 9   loan_status                 32581 non-null  int64  \n",
            " 10  loan_percent_income         32581 non-null  float64\n",
            " 11  cb_person_default_on_file   32581 non-null  object \n",
            " 12  cb_person_cred_hist_length  32581 non-null  int64  \n",
            "dtypes: float64(3), int64(6), object(4)\n",
            "memory usage: 3.2+ MB\n",
            "None\n",
            "\n",
            "Column 'person_home_ownership' has data type 'object'.\n",
            "Unique values:\n",
            "RENT\n",
            "OWN\n",
            "MORTGAGE\n",
            "OTHER\n",
            "\n",
            "Column 'loan_intent' has data type 'object'.\n",
            "Unique values:\n",
            "PERSONAL\n",
            "EDUCATION\n",
            "MEDICAL\n",
            "VENTURE\n",
            "HOMEIMPROVEMENT\n",
            "DEBTCONSOLIDATION\n",
            "\n",
            "Column 'loan_grade' has data type 'object'.\n",
            "Unique values:\n",
            "D\n",
            "B\n",
            "C\n",
            "A\n",
            "E\n",
            "F\n",
            "G\n",
            "\n",
            "Column 'cb_person_default_on_file' has data type 'object'.\n",
            "Unique values:\n",
            "Y\n",
            "N\n",
            "\n"
          ]
        }
      ]
    },
    {
      "cell_type": "code",
      "source": [
        "print(\"How many customers whose employment length are above 40 years: \",len(df[df['person_emp_length']>40]))\n",
        "print(\"\")\n",
        "print(df[df['person_emp_length']>40]['person_emp_length'])"
      ],
      "metadata": {
        "colab": {
          "base_uri": "https://localhost:8080/"
        },
        "id": "9GfYCseW6sN7",
        "outputId": "5449bb29-ba3f-487f-84ab-a6cb18846e58"
      },
      "execution_count": 64,
      "outputs": [
        {
          "output_type": "stream",
          "name": "stdout",
          "text": [
            "How many customers whose employment length are above 40 years:  3\n",
            "\n",
            "0        123.0\n",
            "210      123.0\n",
            "32355     41.0\n",
            "Name: person_emp_length, dtype: float64\n"
          ]
        }
      ]
    },
    {
      "cell_type": "code",
      "source": [
        "print(\"How many customers are above 100 years old: \",len(df[df['person_age']>100]))\n",
        "print(\"\")\n",
        "print(df[df['person_age']>100]['person_age'])"
      ],
      "metadata": {
        "colab": {
          "base_uri": "https://localhost:8080/"
        },
        "id": "r5qu5dSJ7gcw",
        "outputId": "b82e3723-be0a-48fa-f514-babea52101f8"
      },
      "execution_count": 65,
      "outputs": [
        {
          "output_type": "stream",
          "name": "stdout",
          "text": [
            "How many customers are above 100 years old:  5\n",
            "\n",
            "81       144\n",
            "183      144\n",
            "575      123\n",
            "747      123\n",
            "32297    144\n",
            "Name: person_age, dtype: int64\n"
          ]
        }
      ]
    },
    {
      "cell_type": "code",
      "source": [
        "df.loan_status.value_counts()"
      ],
      "metadata": {
        "colab": {
          "base_uri": "https://localhost:8080/",
          "height": 178
        },
        "id": "KIWqzptRl5kH",
        "outputId": "eb2e9e83-27b8-4333-fb32-27697927e55c"
      },
      "execution_count": 66,
      "outputs": [
        {
          "output_type": "execute_result",
          "data": {
            "text/plain": [
              "loan_status\n",
              "0    25473\n",
              "1     7108\n",
              "Name: count, dtype: int64"
            ],
            "text/html": [
              "<div>\n",
              "<style scoped>\n",
              "    .dataframe tbody tr th:only-of-type {\n",
              "        vertical-align: middle;\n",
              "    }\n",
              "\n",
              "    .dataframe tbody tr th {\n",
              "        vertical-align: top;\n",
              "    }\n",
              "\n",
              "    .dataframe thead th {\n",
              "        text-align: right;\n",
              "    }\n",
              "</style>\n",
              "<table border=\"1\" class=\"dataframe\">\n",
              "  <thead>\n",
              "    <tr style=\"text-align: right;\">\n",
              "      <th></th>\n",
              "      <th>count</th>\n",
              "    </tr>\n",
              "    <tr>\n",
              "      <th>loan_status</th>\n",
              "      <th></th>\n",
              "    </tr>\n",
              "  </thead>\n",
              "  <tbody>\n",
              "    <tr>\n",
              "      <th>0</th>\n",
              "      <td>25473</td>\n",
              "    </tr>\n",
              "    <tr>\n",
              "      <th>1</th>\n",
              "      <td>7108</td>\n",
              "    </tr>\n",
              "  </tbody>\n",
              "</table>\n",
              "</div><br><label><b>dtype:</b> int64</label>"
            ]
          },
          "metadata": {},
          "execution_count": 66
        }
      ]
    },
    {
      "cell_type": "markdown",
      "source": [
        "Data issue:<br>\n",
        "1. no need of application ID\n",
        "2. missing data: person_emp_length, loan_int_rate\n",
        "3. data quality: employment lenght and age above 100 years are abnormal\n",
        "4. imbalance data: nondefault data is more than three times of default data"
      ],
      "metadata": {
        "id": "ZeG4cI-s5Urp"
      }
    },
    {
      "cell_type": "code",
      "source": [
        "# drop ID\n",
        "df = df.drop([\"application_id\"], axis = 1)\n"
      ],
      "metadata": {
        "id": "qZjRBLiA8fNN"
      },
      "execution_count": 67,
      "outputs": []
    },
    {
      "cell_type": "code",
      "source": [
        "# Create the cross table for loan status, home ownership, and the max employment length\n",
        "print(pd.crosstab(df['loan_status'],df['person_home_ownership'],\n",
        "                  values=df['person_emp_length'], aggfunc='max'))\n",
        "\n",
        "# Create an array of indices where employment length is greater than 100\n",
        "indices = df[df['person_emp_length'] > 100].index\n",
        "\n",
        "# Drop the records from the data based on the indices and create a new dataframe\n",
        "df_new = df.drop(indices)"
      ],
      "metadata": {
        "colab": {
          "base_uri": "https://localhost:8080/"
        },
        "id": "Dou_MhCcPvjY",
        "outputId": "10b20b02-82d2-442a-a63e-570bd070363f"
      },
      "execution_count": 68,
      "outputs": [
        {
          "output_type": "stream",
          "name": "stdout",
          "text": [
            "person_home_ownership  MORTGAGE  OTHER   OWN   RENT\n",
            "loan_status                                        \n",
            "0                         123.0   24.0  31.0   41.0\n",
            "1                          34.0   11.0  17.0  123.0\n"
          ]
        }
      ]
    },
    {
      "cell_type": "code",
      "source": [
        "# Use Pandas to drop the record from the data frame and create a new one\n",
        "df_new = df.drop(df[df[\"person_age\"] > 100].index)\n"
      ],
      "metadata": {
        "id": "QouTSg7B2jTA"
      },
      "execution_count": 69,
      "outputs": []
    },
    {
      "cell_type": "code",
      "source": [
        "print(pd.crosstab(df_new[\"loan_intent\"], df[\"loan_status\"], margins = True))"
      ],
      "metadata": {
        "colab": {
          "base_uri": "https://localhost:8080/"
        },
        "id": "U6G-PaEdNC_H",
        "outputId": "14014dee-a201-4497-da49-7b44ec2491c3"
      },
      "execution_count": 70,
      "outputs": [
        {
          "output_type": "stream",
          "name": "stdout",
          "text": [
            "loan_status            0     1    All\n",
            "loan_intent                          \n",
            "DEBTCONSOLIDATION   3722  1490   5212\n",
            "EDUCATION           5340  1111   6451\n",
            "HOMEIMPROVEMENT     2664   941   3605\n",
            "MEDICAL             4450  1621   6071\n",
            "PERSONAL            4422  1098   5520\n",
            "VENTURE             4870   847   5717\n",
            "All                25468  7108  32576\n"
          ]
        }
      ]
    },
    {
      "cell_type": "code",
      "source": [
        "# Print a null value column array\n",
        "print(df_new.columns[df_new.isnull().any()])\n",
        "\n",
        "# Print the top five rows with nulls for employment length\n",
        "print(df_new[df_new[\"person_emp_length\"].isnull()].head())\n",
        "\n",
        "# Impute the null values with the median value for all employment lengths\n",
        "df_new[\"person_emp_length\"].fillna((df_new['person_emp_length'].median()), inplace=True)\n",
        "\n",
        "# Create a histogram of employment length\n",
        "n, bins, patches = plt.hist(df_new[\"person_emp_length\"], bins='auto', color='blue')\n",
        "plt.xlabel(\"Person Employment Length\")\n",
        "plt.show()"
      ],
      "metadata": {
        "colab": {
          "base_uri": "https://localhost:8080/",
          "height": 955
        },
        "id": "7WUiDIKcNoDT",
        "outputId": "4f5ca569-2f0b-4c8e-93be-85344cab0439"
      },
      "execution_count": 71,
      "outputs": [
        {
          "output_type": "stream",
          "name": "stdout",
          "text": [
            "Index(['person_emp_length', 'loan_int_rate'], dtype='object')\n",
            "     person_age  person_income person_home_ownership  person_emp_length  \\\n",
            "105          22          12600              MORTGAGE                NaN   \n",
            "222          24         185000              MORTGAGE                NaN   \n",
            "379          24          16800              MORTGAGE                NaN   \n",
            "407          25          52000                  RENT                NaN   \n",
            "408          22          17352              MORTGAGE                NaN   \n",
            "\n",
            "           loan_intent loan_grade  loan_amnt  loan_int_rate  loan_status  \\\n",
            "105           PERSONAL          A       2000           5.42            1   \n",
            "222          EDUCATION          B      35000          12.42            0   \n",
            "379  DEBTCONSOLIDATION          A       3900            NaN            1   \n",
            "407           PERSONAL          B      24000          10.74            1   \n",
            "408          EDUCATION          C       2250          15.27            0   \n",
            "\n",
            "     loan_percent_income cb_person_default_on_file  cb_person_cred_hist_length  \n",
            "105                 0.16                         N                           4  \n",
            "222                 0.19                         N                           2  \n",
            "379                 0.23                         N                           3  \n",
            "407                 0.46                         N                           2  \n",
            "408                 0.13                         Y                           3  \n"
          ]
        },
        {
          "output_type": "stream",
          "name": "stderr",
          "text": [
            "<ipython-input-71-a954cf6c169d>:8: FutureWarning: A value is trying to be set on a copy of a DataFrame or Series through chained assignment using an inplace method.\n",
            "The behavior will change in pandas 3.0. This inplace method will never work because the intermediate object on which we are setting values always behaves as a copy.\n",
            "\n",
            "For example, when doing 'df[col].method(value, inplace=True)', try using 'df.method({col: value}, inplace=True)' or df[col] = df[col].method(value) instead, to perform the operation inplace on the original object.\n",
            "\n",
            "\n",
            "  df_new[\"person_emp_length\"].fillna((df_new['person_emp_length'].median()), inplace=True)\n"
          ]
        },
        {
          "output_type": "display_data",
          "data": {
            "text/plain": [
              "<Figure size 640x480 with 1 Axes>"
            ],
            "image/png": "[encoded data removed]"
          },
          "metadata": {}
        }
      ]
    },
    {
      "cell_type": "code",
      "source": [
        "# Print the number of nulls\n",
        "print(df_new[\"loan_int_rate\"].isnull().sum())\n",
        "\n",
        "# Store the array on indices\n",
        "indices = df_new[df_new[\"loan_int_rate\"].isnull()].index\n",
        "\n",
        "# Save the new data without missing data\n",
        "df_clean = df_new.drop(indices)"
      ],
      "metadata": {
        "colab": {
          "base_uri": "https://localhost:8080/"
        },
        "id": "pKDXhPN7N6Zy",
        "outputId": "e75c44cd-3c02-4cbd-da40-a81b3b047a32"
      },
      "execution_count": 72,
      "outputs": [
        {
          "output_type": "stream",
          "name": "stdout",
          "text": [
            "3115\n"
          ]
        }
      ]
    },
    {
      "cell_type": "code",
      "source": [
        "df_clean.info()"
      ],
      "metadata": {
        "colab": {
          "base_uri": "https://localhost:8080/"
        },
        "id": "smIsUYT83r3b",
        "outputId": "e634d373-0d33-409c-f378-f2118d9fb399"
      },
      "execution_count": 73,
      "outputs": [
        {
          "output_type": "stream",
          "name": "stdout",
          "text": [
            "<class 'pandas.core.frame.DataFrame'>\n",
            "Index: 29461 entries, 0 to 32580\n",
            "Data columns (total 12 columns):\n",
            " #   Column                      Non-Null Count  Dtype  \n",
            "---  ------                      --------------  -----  \n",
            " 0   person_age                  29461 non-null  int64  \n",
            " 1   person_income               29461 non-null  int64  \n",
            " 2   person_home_ownership       29461 non-null  object \n",
            " 3   person_emp_length           29461 non-null  float64\n",
            " 4   loan_intent                 29461 non-null  object \n",
            " 5   loan_grade                  29461 non-null  object \n",
            " 6   loan_amnt                   29461 non-null  int64  \n",
            " 7   loan_int_rate               29461 non-null  float64\n",
            " 8   loan_status                 29461 non-null  int64  \n",
            " 9   loan_percent_income         29461 non-null  float64\n",
            " 10  cb_person_default_on_file   29461 non-null  object \n",
            " 11  cb_person_cred_hist_length  29461 non-null  int64  \n",
            "dtypes: float64(3), int64(5), object(4)\n",
            "memory usage: 2.9+ MB\n"
          ]
        }
      ]
    },
    {
      "cell_type": "markdown",
      "source": [
        "## Data preparation\n",
        "1. Define X, y\n",
        "2. Split data (train 0.4, val 0.3, test 0.3)\n",
        "3. Undersampling data"
      ],
      "metadata": {
        "id": "Hjs710rbOYP4"
      }
    },
    {
      "cell_type": "code",
      "source": [
        "X = df_clean.drop('loan_status', axis=1)  # 'loan_status' is the target column\n",
        "X = pd.get_dummies(X, drop_first=True)  # Set drop_first=True to avoid multicollinearity\n",
        "y = df_clean['loan_status']"
      ],
      "metadata": {
        "id": "-1YBbweF4ADz"
      },
      "execution_count": 74,
      "outputs": []
    },
    {
      "cell_type": "code",
      "source": [
        "X.head()"
      ],
      "metadata": {
        "colab": {
          "base_uri": "https://localhost:8080/",
          "height": 256
        },
        "id": "ShSV92jGdooH",
        "outputId": "294be43f-f4a7-48ec-dee1-54e4ed43831e"
      },
      "execution_count": 75,
      "outputs": [
        {
          "output_type": "execute_result",
          "data": {
            "text/plain": [
              "   person_age  person_income  person_emp_length  loan_amnt  loan_int_rate  \\\n",
              "0          22          59000              123.0      35000          16.02   \n",
              "1          21           9600                5.0       1000          11.14   \n",
              "2          25           9600                1.0       5500          12.87   \n",
              "3          23          65500                4.0      35000          15.23   \n",
              "4          24          54400                8.0      35000          14.27   \n",
              "\n",
              "   loan_percent_income  cb_person_cred_hist_length  \\\n",
              "0                 0.59                           3   \n",
              "1                 0.10                           2   \n",
              "2                 0.57                           3   \n",
              "3                 0.53                           2   \n",
              "4                 0.55                           4   \n",
              "\n",
              "   person_home_ownership_OTHER  person_home_ownership_OWN  \\\n",
              "0                        False                      False   \n",
              "1                        False                       True   \n",
              "2                        False                      False   \n",
              "3                        False                      False   \n",
              "4                        False                      False   \n",
              "\n",
              "   person_home_ownership_RENT  ...  loan_intent_MEDICAL  loan_intent_PERSONAL  \\\n",
              "0                        True  ...                False                  True   \n",
              "1                       False  ...                False                 False   \n",
              "2                       False  ...                 True                 False   \n",
              "3                        True  ...                 True                 False   \n",
              "4                        True  ...                 True                 False   \n",
              "\n",
              "   loan_intent_VENTURE  loan_grade_B  loan_grade_C  loan_grade_D  \\\n",
              "0                False         False         False          True   \n",
              "1                False          True         False         False   \n",
              "2                False         False          True         False   \n",
              "3                False         False          True         False   \n",
              "4                False         False          True         False   \n",
              "\n",
              "   loan_grade_E  loan_grade_F  loan_grade_G  cb_person_default_on_file_Y  \n",
              "0         False         False         False                         True  \n",
              "1         False         False         False                        False  \n",
              "2         False         False         False                        False  \n",
              "3         False         False         False                        False  \n",
              "4         False         False         False                         True  \n",
              "\n",
              "[5 rows x 22 columns]"
            ],
            "text/html": [
              "\n",
              "  <div id=\"df-abe9ede7-552e-4dbd-8d3e-4b3b29b024f9\" class=\"colab-df-container\">\n",
              "    <div>\n",
              "<style scoped>\n",
              "    .dataframe tbody tr th:only-of-type {\n",
              "        vertical-align: middle;\n",
              "    }\n",
              "\n",
              "    .dataframe tbody tr th {\n",
              "        vertical-align: top;\n",
              "    }\n",
              "\n",
              "    .dataframe thead th {\n",
              "        text-align: right;\n",
              "    }\n",
              "</style>\n",
              "<table border=\"1\" class=\"dataframe\">\n",
              "  <thead>\n",
              "    <tr style=\"text-align: right;\">\n",
              "      <th></th>\n",
              "      <th>person_age</th>\n",
              "      <th>person_income</th>\n",
              "      <th>person_emp_length</th>\n",
              "      <th>loan_amnt</th>\n",
              "      <th>loan_int_rate</th>\n",
              "      <th>loan_percent_income</th>\n",
              "      <th>cb_person_cred_hist_length</th>\n",
              "      <th>person_home_ownership_OTHER</th>\n",
              "      <th>person_home_ownership_OWN</th>\n",
              "      <th>person_home_ownership_RENT</th>\n",
              "      <th>...</th>\n",
              "      <th>loan_intent_MEDICAL</th>\n",
              "      <th>loan_intent_PERSONAL</th>\n",
              "      <th>loan_intent_VENTURE</th>\n",
              "      <th>loan_grade_B</th>\n",
              "      <th>loan_grade_C</th>\n",
              "      <th>loan_grade_D</th>\n",
              "      <th>loan_grade_E</th>\n",
              "      <th>loan_grade_F</th>\n",
              "      <th>loan_grade_G</th>\n",
              "      <th>cb_person_default_on_file_Y</th>\n",
              "    </tr>\n",
              "  </thead>\n",
              "  <tbody>\n",
              "    <tr>\n",
              "      <th>0</th>\n",
              "      <td>22</td>\n",
              "      <td>59000</td>\n",
              "      <td>123.0</td>\n",
              "      <td>35000</td>\n",
              "      <td>16.02</td>\n",
              "      <td>0.59</td>\n",
              "      <td>3</td>\n",
              "      <td>False</td>\n",
              "      <td>False</td>\n",
              "      <td>True</td>\n",
              "      <td>...</td>\n",
              "      <td>False</td>\n",
              "      <td>True</td>\n",
              "      <td>False</td>\n",
              "      <td>False</td>\n",
              "      <td>False</td>\n",
              "      <td>True</td>\n",
              "      <td>False</td>\n",
              "      <td>False</td>\n",
              "      <td>False</td>\n",
              "      <td>True</td>\n",
              "    </tr>\n",
              "    <tr>\n",
              "      <th>1</th>\n",
              "      <td>21</td>\n",
              "      <td>9600</td>\n",
              "      <td>5.0</td>\n",
              "      <td>1000</td>\n",
              "      <td>11.14</td>\n",
              "      <td>0.10</td>\n",
              "      <td>2</td>\n",
              "      <td>False</td>\n",
              "      <td>True</td>\n",
              "      <td>False</td>\n",
              "      <td>...</td>\n",
              "      <td>False</td>\n",
              "      <td>False</td>\n",
              "      <td>False</td>\n",
              "      <td>True</td>\n",
              "      <td>False</td>\n",
              "      <td>False</td>\n",
              "      <td>False</td>\n",
              "      <td>False</td>\n",
              "      <td>False</td>\n",
              "      <td>False</td>\n",
              "    </tr>\n",
              "    <tr>\n",
              "      <th>2</th>\n",
              "      <td>25</td>\n",
              "      <td>9600</td>\n",
              "      <td>1.0</td>\n",
              "      <td>5500</td>\n",
              "      <td>12.87</td>\n",
              "      <td>0.57</td>\n",
              "      <td>3</td>\n",
              "      <td>False</td>\n",
              "      <td>False</td>\n",
              "      <td>False</td>\n",
              "      <td>...</td>\n",
              "      <td>True</td>\n",
              "      <td>False</td>\n",
              "      <td>False</td>\n",
              "      <td>False</td>\n",
              "      <td>True</td>\n",
              "      <td>False</td>\n",
              "      <td>False</td>\n",
              "      <td>False</td>\n",
              "      <td>False</td>\n",
              "      <td>False</td>\n",
              "    </tr>\n",
              "    <tr>\n",
              "      <th>3</th>\n",
              "      <td>23</td>\n",
              "      <td>65500</td>\n",
              "      <td>4.0</td>\n",
              "      <td>35000</td>\n",
              "      <td>15.23</td>\n",
              "      <td>0.53</td>\n",
              "      <td>2</td>\n",
              "      <td>False</td>\n",
              "      <td>False</td>\n",
              "      <td>True</td>\n",
              "      <td>...</td>\n",
              "      <td>True</td>\n",
              "      <td>False</td>\n",
              "      <td>False</td>\n",
              "      <td>False</td>\n",
              "      <td>True</td>\n",
              "      <td>False</td>\n",
              "      <td>False</td>\n",
              "      <td>False</td>\n",
              "      <td>False</td>\n",
              "      <td>False</td>\n",
              "    </tr>\n",
              "    <tr>\n",
              "      <th>4</th>\n",
              "      <td>24</td>\n",
              "      <td>54400</td>\n",
              "      <td>8.0</td>\n",
              "      <td>35000</td>\n",
              "      <td>14.27</td>\n",
              "      <td>0.55</td>\n",
              "      <td>4</td>\n",
              "      <td>False</td>\n",
              "      <td>False</td>\n",
              "      <td>True</td>\n",
              "      <td>...</td>\n",
              "      <td>True</td>\n",
              "      <td>False</td>\n",
              "      <td>False</td>\n",
              "      <td>False</td>\n",
              "      <td>True</td>\n",
              "      <td>False</td>\n",
              "      <td>False</td>\n",
              "      <td>False</td>\n",
              "      <td>False</td>\n",
              "      <td>True</td>\n",
              "    </tr>\n",
              "  </tbody>\n",
              "</table>\n",
              "<p>5 rows × 22 columns</p>\n",
              "</div>\n",
              "    <div class=\"colab-df-buttons\">\n",
              "\n",
              "  <div class=\"colab-df-container\">\n",
              "    <button class=\"colab-df-convert\" onclick=\"convertToInteractive('df-abe9ede7-552e-4dbd-8d3e-4b3b29b024f9')\"\n",
              "            title=\"Convert this dataframe to an interactive table.\"\n",
              "            style=\"display:none;\">\n",
              "\n",
              "  <svg xmlns=\"http://www.w3.org/2000/svg\" height=\"24px\" viewBox=\"0 -960 960 960\">\n",
              "    <path d=\"M120-120v-720h720v720H120Zm60-500h600v-160H180v160Zm220 220h160v-160H400v160Zm0 220h160v-160H400v160ZM180-400h160v-160H180v160Zm440 0h160v-160H620v160ZM180-180h160v-160H180v160Zm440 0h160v-160H620v160Z\"/>\n",
              "  </svg>\n",
              "    </button>\n",
              "\n",
              "  <style>\n",
              "    .colab-df-container {\n",
              "      display:flex;\n",
              "      gap: 12px;\n",
              "    }\n",
              "\n",
              "    .colab-df-convert {\n",
              "      background-color: #E8F0FE;\n",
              "      border: none;\n",
              "      border-radius: 50%;\n",
              "      cursor: pointer;\n",
              "      display: none;\n",
              "      fill: #1967D2;\n",
              "      height: 32px;\n",
              "      padding: 0 0 0 0;\n",
              "      width: 32px;\n",
              "    }\n",
              "\n",
              "    .colab-df-convert:hover {\n",
              "      background-color: #E2EBFA;\n",
              "      box-shadow: 0px 1px 2px rgba(60, 64, 67, 0.3), 0px 1px 3px 1px rgba(60, 64, 67, 0.15);\n",
              "      fill: #174EA6;\n",
              "    }\n",
              "\n",
              "    .colab-df-buttons div {\n",
              "      margin-bottom: 4px;\n",
              "    }\n",
              "\n",
              "    [theme=dark] .colab-df-convert {\n",
              "      background-color: #3B4455;\n",
              "      fill: #D2E3FC;\n",
              "    }\n",
              "\n",
              "    [theme=dark] .colab-df-convert:hover {\n",
              "      background-color: #434B5C;\n",
              "      box-shadow: 0px 1px 3px 1px rgba(0, 0, 0, 0.15);\n",
              "      filter: drop-shadow(0px 1px 2px rgba(0, 0, 0, 0.3));\n",
              "      fill: #FFFFFF;\n",
              "    }\n",
              "  </style>\n",
              "\n",
              "    <script>\n",
              "      const buttonEl =\n",
              "        document.querySelector('#df-abe9ede7-552e-4dbd-8d3e-4b3b29b024f9 button.colab-df-convert');\n",
              "      buttonEl.style.display =\n",
              "        google.colab.kernel.accessAllowed ? 'block' : 'none';\n",
              "\n",
              "      async function convertToInteractive(key) {\n",
              "        const element = document.querySelector('#df-abe9ede7-552e-4dbd-8d3e-4b3b29b024f9');\n",
              "        const dataTable =\n",
              "          await google.colab.kernel.invokeFunction('convertToInteractive',\n",
              "                                                    [key], {});\n",
              "        if (!dataTable) return;\n",
              "\n",
              "        const docLinkHtml = 'Like what you see? Visit the ' +\n",
              "          '<a target=\"_blank\" href=https://colab.research.google.com/notebooks/data_table.ipynb>data table notebook</a>'\n",
              "          + ' to learn more about interactive tables.';\n",
              "        element.innerHTML = '';\n",
              "        dataTable['output_type'] = 'display_data';\n",
              "        await google.colab.output.renderOutput(dataTable, element);\n",
              "        const docLink = document.createElement('div');\n",
              "        docLink.innerHTML = docLinkHtml;\n",
              "        element.appendChild(docLink);\n",
              "      }\n",
              "    </script>\n",
              "  </div>\n",
              "\n",
              "\n",
              "<div id=\"df-e12297d3-2aae-4576-8c00-6162922e870c\">\n",
              "  <button class=\"colab-df-quickchart\" onclick=\"quickchart('df-e12297d3-2aae-4576-8c00-6162922e870c')\"\n",
              "            title=\"Suggest charts\"\n",
              "            style=\"display:none;\">\n",
              "\n",
              "<svg xmlns=\"http://www.w3.org/2000/svg\" height=\"24px\"viewBox=\"0 0 24 24\"\n",
              "     width=\"24px\">\n",
              "    <g>\n",
              "        <path d=\"M19 3H5c-1.1 0-2 .9-2 2v14c0 1.1.9 2 2 2h14c1.1 0 2-.9 2-2V5c0-1.1-.9-2-2-2zM9 17H7v-7h2v7zm4 0h-2V7h2v10zm4 0h-2v-4h2v4z\"/>\n",
              "    </g>\n",
              "</svg>\n",
              "  </button>\n",
              "\n",
              "<style>\n",
              "  .colab-df-quickchart {\n",
              "      --bg-color: #E8F0FE;\n",
              "      --fill-color: #1967D2;\n",
              "      --hover-bg-color: #E2EBFA;\n",
              "      --hover-fill-color: #174EA6;\n",
              "      --disabled-fill-color: #AAA;\n",
              "      --disabled-bg-color: #DDD;\n",
              "  }\n",
              "\n",
              "  [theme=dark] .colab-df-quickchart {\n",
              "      --bg-color: #3B4455;\n",
              "      --fill-color: #D2E3FC;\n",
              "      --hover-bg-color: #434B5C;\n",
              "      --hover-fill-color: #FFFFFF;\n",
              "      --disabled-bg-color: #3B4455;\n",
              "      --disabled-fill-color: #666;\n",
              "  }\n",
              "\n",
              "  .colab-df-quickchart {\n",
              "    background-color: var(--bg-color);\n",
              "    border: none;\n",
              "    border-radius: 50%;\n",
              "    cursor: pointer;\n",
              "    display: none;\n",
              "    fill: var(--fill-color);\n",
              "    height: 32px;\n",
              "    padding: 0;\n",
              "    width: 32px;\n",
              "  }\n",
              "\n",
              "  .colab-df-quickchart:hover {\n",
              "    background-color: var(--hover-bg-color);\n",
              "    box-shadow: 0 1px 2px rgba(60, 64, 67, 0.3), 0 1px 3px 1px rgba(60, 64, 67, 0.15);\n",
              "    fill: var(--button-hover-fill-color);\n",
              "  }\n",
              "\n",
              "  .colab-df-quickchart-complete:disabled,\n",
              "  .colab-df-quickchart-complete:disabled:hover {\n",
              "    background-color: var(--disabled-bg-color);\n",
              "    fill: var(--disabled-fill-color);\n",
              "    box-shadow: none;\n",
              "  }\n",
              "\n",
              "  .colab-df-spinner {\n",
              "    border: 2px solid var(--fill-color);\n",
              "    border-color: transparent;\n",
              "    border-bottom-color: var(--fill-color);\n",
              "    animation:\n",
              "      spin 1s steps(1) infinite;\n",
              "  }\n",
              "\n",
              "  @keyframes spin {\n",
              "    0% {\n",
              "      border-color: transparent;\n",
              "      border-bottom-color: var(--fill-color);\n",
              "      border-left-color: var(--fill-color);\n",
              "    }\n",
              "    20% {\n",
              "      border-color: transparent;\n",
              "      border-left-color: var(--fill-color);\n",
              "      border-top-color: var(--fill-color);\n",
              "    }\n",
              "    30% {\n",
              "      border-color: transparent;\n",
              "      border-left-color: var(--fill-color);\n",
              "      border-top-color: var(--fill-color);\n",
              "      border-right-color: var(--fill-color);\n",
              "    }\n",
              "    40% {\n",
              "      border-color: transparent;\n",
              "      border-right-color: var(--fill-color);\n",
              "      border-top-color: var(--fill-color);\n",
              "    }\n",
              "    60% {\n",
              "      border-color: transparent;\n",
              "      border-right-color: var(--fill-color);\n",
              "    }\n",
              "    80% {\n",
              "      border-color: transparent;\n",
              "      border-right-color: var(--fill-color);\n",
              "      border-bottom-color: var(--fill-color);\n",
              "    }\n",
              "    90% {\n",
              "      border-color: transparent;\n",
              "      border-bottom-color: var(--fill-color);\n",
              "    }\n",
              "  }\n",
              "</style>\n",
              "\n",
              "  <script>\n",
              "    async function quickchart(key) {\n",
              "      const quickchartButtonEl =\n",
              "        document.querySelector('#' + key + ' button');\n",
              "      quickchartButtonEl.disabled = true;  // To prevent multiple clicks.\n",
              "      quickchartButtonEl.classList.add('colab-df-spinner');\n",
              "      try {\n",
              "        const charts = await google.colab.kernel.invokeFunction(\n",
              "            'suggestCharts', [key], {});\n",
              "      } catch (error) {\n",
              "        console.error('Error during call to suggestCharts:', error);\n",
              "      }\n",
              "      quickchartButtonEl.classList.remove('colab-df-spinner');\n",
              "      quickchartButtonEl.classList.add('colab-df-quickchart-complete');\n",
              "    }\n",
              "    (() => {\n",
              "      let quickchartButtonEl =\n",
              "        document.querySelector('#df-e12297d3-2aae-4576-8c00-6162922e870c button');\n",
              "      quickchartButtonEl.style.display =\n",
              "        google.colab.kernel.accessAllowed ? 'block' : 'none';\n",
              "    })();\n",
              "  </script>\n",
              "</div>\n",
              "\n",
              "    </div>\n",
              "  </div>\n"
            ],
            "application/vnd.google.colaboratory.intrinsic+json": {
              "type": "dataframe",
              "variable_name": "X"
            }
          },
          "metadata": {},
          "execution_count": 75
        }
      ]
    },
    {
      "cell_type": "code",
      "source": [
        "# Splitting the data into training and temporary sets\n",
        "X_train, X_tem, y_train, y_tem = train_test_split(X, y, test_size=0.4, random_state=123)\n",
        "X_val, X_test, y_val, y_test = train_test_split(X_tem, y_tem, test_size=0.5, random_state=123)"
      ],
      "metadata": {
        "id": "4UYV1cQjOXTE"
      },
      "execution_count": 76,
      "outputs": []
    },
    {
      "cell_type": "code",
      "source": [
        "# Check the class distribution before undersampling\n",
        "print(\"Before Undersampling:\", Counter(y_train))"
      ],
      "metadata": {
        "id": "p8r-CwPf4AOb",
        "colab": {
          "base_uri": "https://localhost:8080/"
        },
        "outputId": "e432f9b6-319a-44c1-efce-538042be29c3"
      },
      "execution_count": 77,
      "outputs": [
        {
          "output_type": "stream",
          "name": "stdout",
          "text": [
            "Before Undersampling: Counter({0: 13807, 1: 3869})\n"
          ]
        }
      ]
    },
    {
      "cell_type": "code",
      "source": [
        "# Initialize the RandomUnderSampler\n",
        "undersampler = RandomUnderSampler(random_state=42)\n",
        "\n",
        "# Perform undersampling on train_X and train_y\n",
        "X_train_undersampled, y_train_undersampled = undersampler.fit_resample(X_train, y_train)\n",
        "\n",
        "# Check the class distribution after undersampling\n",
        "print(\"After Undersampling:\", Counter(y_train_undersampled))\n"
      ],
      "metadata": {
        "id": "vU6AKpSS4AX5",
        "colab": {
          "base_uri": "https://localhost:8080/"
        },
        "outputId": "3c3e7f82-a93a-4d8a-b25b-cbdadeb452aa"
      },
      "execution_count": 78,
      "outputs": [
        {
          "output_type": "stream",
          "name": "stdout",
          "text": [
            "After Undersampling: Counter({0: 3869, 1: 3869})\n"
          ]
        }
      ]
    },
    {
      "cell_type": "code",
      "source": [
        "# rename original train data\n",
        "X_old_train = X_train\n",
        "y_old_train = y_train\n",
        "\n",
        "# rename undersampling train data\n",
        "X_train = X_train_undersampled\n",
        "y_train = y_train_undersampled"
      ],
      "metadata": {
        "id": "Fw1AmxD4e244"
      },
      "execution_count": 79,
      "outputs": []
    },
    {
      "cell_type": "code",
      "source": [
        "# set of train data\n",
        "print(X_old_train.shape)\n",
        "print(y_old_train.shape)\n",
        "print(X_train.shape)\n",
        "print(y_train.shape)\n",
        "# validation data\n",
        "print(X_val.shape)\n",
        "print(y_val.shape)\n",
        "# test data\n",
        "print(X_test.shape)\n",
        "print(y_test.shape)"
      ],
      "metadata": {
        "colab": {
          "base_uri": "https://localhost:8080/"
        },
        "id": "5_jIUMmZg8W-",
        "outputId": "a18c26d5-a34d-49bb-d4ef-cfc77fdf7870"
      },
      "execution_count": 80,
      "outputs": [
        {
          "output_type": "stream",
          "name": "stdout",
          "text": [
            "(17676, 22)\n",
            "(17676,)\n",
            "(7738, 22)\n",
            "(7738,)\n",
            "(5892, 22)\n",
            "(5892,)\n",
            "(5893, 22)\n",
            "(5893,)\n"
          ]
        }
      ]
    },
    {
      "cell_type": "markdown",
      "source": [
        "## Modeling\n",
        "- Logistic regression\n",
        "- Decision tree\n",
        "- XGB"
      ],
      "metadata": {
        "id": "-ObYDefqRD3I"
      }
    },
    {
      "cell_type": "markdown",
      "source": [
        "1. Logistic regression"
      ],
      "metadata": {
        "id": "HbDUkOxVQarQ"
      }
    },
    {
      "cell_type": "code",
      "source": [
        "# Initialize StandardScaler\n",
        "scaler = StandardScaler()\n",
        "\n",
        "# Fit on training data and transform both training and validation sets\n",
        "X_train_scaled = scaler.fit_transform(X_train)\n",
        "X_val_scaled = scaler.transform(X_val)"
      ],
      "metadata": {
        "id": "s2_pKZEn2PJz"
      },
      "execution_count": 81,
      "outputs": []
    },
    {
      "cell_type": "code",
      "source": [
        "# logit model\n",
        "log_model=LogisticRegression(solver='lbfgs')\n",
        "log_model.fit(X_train_scaled, np.ravel(y_train))\n",
        "y_log_pred = log_model.predict(X_val_scaled)\n",
        "y_log_pred_prob =log_model.predict_proba(X_val_scaled)[:, 1]\n",
        "\n",
        "# Calculate accuracy score\n",
        "acc_log = accuracy_score(y_val, y_log_pred)\n",
        "print(\"Accuracy score:\", acc_log)"
      ],
      "metadata": {
        "id": "vlBXvm7mRGBY",
        "colab": {
          "base_uri": "https://localhost:8080/"
        },
        "outputId": "2298aac6-1cbb-49b0-f9bc-da5ffdd38664"
      },
      "execution_count": 82,
      "outputs": [
        {
          "output_type": "stream",
          "name": "stdout",
          "text": [
            "Accuracy score: 0.8070264765784114\n"
          ]
        }
      ]
    },
    {
      "cell_type": "code",
      "source": [
        "# Set logging to ERROR to suppress INFO messages from Optuna\n",
        "optuna.logging.set_verbosity(optuna.logging.ERROR)\n",
        "\n",
        "# Define Optuna objective function\n",
        "def objective(trial):\n",
        "    # Suggest hyperparameters\n",
        "    C = trial.suggest_loguniform('C', 1e-4, 1e2)  # Regularization strength\n",
        "    solver = trial.suggest_categorical('solver', ['lbfgs', 'liblinear', 'saga'])  # Solver selection\n",
        "    penalty = 'l2' if solver in ['lbfgs', 'saga'] else trial.suggest_categorical('penalty', ['l1', 'l2'])  # Solver-penalty compatibility\n",
        "\n",
        "    # Create Logistic Regression model\n",
        "    log_model = LogisticRegression(C=C, solver=solver, penalty=penalty, max_iter=1000, random_state=42)\n",
        "\n",
        "    # Stratified K-Fold cross-validation\n",
        "    skf = StratifiedKFold(n_splits=5, shuffle=True, random_state=42)\n",
        "    accuracy_scores = cross_val_score(log_model, X_train_scaled, np.ravel(y_train), cv=skf, scoring='accuracy')\n",
        "\n",
        "    # Pruning logic: Report intermediate results\n",
        "    trial.report(accuracy_scores.mean(), step=1)\n",
        "    if trial.should_prune():\n",
        "        raise optuna.exceptions.TrialPruned()\n",
        "\n",
        "    return accuracy_scores.mean()  # Return mean accuracy score\n",
        "\n",
        "# Create Optuna study with pruning\n",
        "study = optuna.create_study(direction='maximize', pruner=optuna.pruners.MedianPruner())\n",
        "study.optimize(objective, n_trials=50)  # Increase trials for better tuning\n",
        "\n",
        "# Get the best parameters\n",
        "best_params = study.best_params\n",
        "print(\"Best hyperparameters found by Optuna:\", best_params)"
      ],
      "metadata": {
        "colab": {
          "base_uri": "https://localhost:8080/"
        },
        "id": "sLN9JBvybvLX",
        "outputId": "90492301-b8b8-4462-d547-765247fc9992"
      },
      "execution_count": 83,
      "outputs": [
        {
          "output_type": "stream",
          "name": "stderr",
          "text": [
            "<ipython-input-83-05166508794d>:7: FutureWarning: suggest_loguniform has been deprecated in v3.0.0. This feature will be removed in v6.0.0. See https://github.com/optuna/optuna/releases/tag/v3.0.0. Use suggest_float(..., log=True) instead.\n",
            "  C = trial.suggest_loguniform('C', 1e-4, 1e2)  # Regularization strength\n",
            "<ipython-input-83-05166508794d>:7: FutureWarning: suggest_loguniform has been deprecated in v3.0.0. This feature will be removed in v6.0.0. See https://github.com/optuna/optuna/releases/tag/v3.0.0. Use suggest_float(..., log=True) instead.\n",
            "  C = trial.suggest_loguniform('C', 1e-4, 1e2)  # Regularization strength\n",
            "<ipython-input-83-05166508794d>:7: FutureWarning: suggest_loguniform has been deprecated in v3.0.0. This feature will be removed in v6.0.0. See https://github.com/optuna/optuna/releases/tag/v3.0.0. Use suggest_float(..., log=True) instead.\n",
            "  C = trial.suggest_loguniform('C', 1e-4, 1e2)  # Regularization strength\n",
            "<ipython-input-83-05166508794d>:7: FutureWarning: suggest_loguniform has been deprecated in v3.0.0. This feature will be removed in v6.0.0. See https://github.com/optuna/optuna/releases/tag/v3.0.0. Use suggest_float(..., log=True) instead.\n",
            "  C = trial.suggest_loguniform('C', 1e-4, 1e2)  # Regularization strength\n",
            "<ipython-input-83-05166508794d>:7: FutureWarning: suggest_loguniform has been deprecated in v3.0.0. This feature will be removed in v6.0.0. See https://github.com/optuna/optuna/releases/tag/v3.0.0. Use suggest_float(..., log=True) instead.\n",
            "  C = trial.suggest_loguniform('C', 1e-4, 1e2)  # Regularization strength\n",
            "<ipython-input-83-05166508794d>:7: FutureWarning: suggest_loguniform has been deprecated in v3.0.0. This feature will be removed in v6.0.0. See https://github.com/optuna/optuna/releases/tag/v3.0.0. Use suggest_float(..., log=True) instead.\n",
            "  C = trial.suggest_loguniform('C', 1e-4, 1e2)  # Regularization strength\n",
            "<ipython-input-83-05166508794d>:7: FutureWarning: suggest_loguniform has been deprecated in v3.0.0. This feature will be removed in v6.0.0. See https://github.com/optuna/optuna/releases/tag/v3.0.0. Use suggest_float(..., log=True) instead.\n",
            "  C = trial.suggest_loguniform('C', 1e-4, 1e2)  # Regularization strength\n",
            "<ipython-input-83-05166508794d>:7: FutureWarning: suggest_loguniform has been deprecated in v3.0.0. This feature will be removed in v6.0.0. See https://github.com/optuna/optuna/releases/tag/v3.0.0. Use suggest_float(..., log=True) instead.\n",
            "  C = trial.suggest_loguniform('C', 1e-4, 1e2)  # Regularization strength\n",
            "<ipython-input-83-05166508794d>:7: FutureWarning: suggest_loguniform has been deprecated in v3.0.0. This feature will be removed in v6.0.0. See https://github.com/optuna/optuna/releases/tag/v3.0.0. Use suggest_float(..., log=True) instead.\n",
            "  C = trial.suggest_loguniform('C', 1e-4, 1e2)  # Regularization strength\n",
            "<ipython-input-83-05166508794d>:7: FutureWarning: suggest_loguniform has been deprecated in v3.0.0. This feature will be removed in v6.0.0. See https://github.com/optuna/optuna/releases/tag/v3.0.0. Use suggest_float(..., log=True) instead.\n",
            "  C = trial.suggest_loguniform('C', 1e-4, 1e2)  # Regularization strength\n",
            "<ipython-input-83-05166508794d>:7: FutureWarning: suggest_loguniform has been deprecated in v3.0.0. This feature will be removed in v6.0.0. See https://github.com/optuna/optuna/releases/tag/v3.0.0. Use suggest_float(..., log=True) instead.\n",
            "  C = trial.suggest_loguniform('C', 1e-4, 1e2)  # Regularization strength\n",
            "<ipython-input-83-05166508794d>:7: FutureWarning: suggest_loguniform has been deprecated in v3.0.0. This feature will be removed in v6.0.0. See https://github.com/optuna/optuna/releases/tag/v3.0.0. Use suggest_float(..., log=True) instead.\n",
            "  C = trial.suggest_loguniform('C', 1e-4, 1e2)  # Regularization strength\n",
            "<ipython-input-83-05166508794d>:7: FutureWarning: suggest_loguniform has been deprecated in v3.0.0. This feature will be removed in v6.0.0. See https://github.com/optuna/optuna/releases/tag/v3.0.0. Use suggest_float(..., log=True) instead.\n",
            "  C = trial.suggest_loguniform('C', 1e-4, 1e2)  # Regularization strength\n",
            "<ipython-input-83-05166508794d>:7: FutureWarning: suggest_loguniform has been deprecated in v3.0.0. This feature will be removed in v6.0.0. See https://github.com/optuna/optuna/releases/tag/v3.0.0. Use suggest_float(..., log=True) instead.\n",
            "  C = trial.suggest_loguniform('C', 1e-4, 1e2)  # Regularization strength\n",
            "<ipython-input-83-05166508794d>:7: FutureWarning: suggest_loguniform has been deprecated in v3.0.0. This feature will be removed in v6.0.0. See https://github.com/optuna/optuna/releases/tag/v3.0.0. Use suggest_float(..., log=True) instead.\n",
            "  C = trial.suggest_loguniform('C', 1e-4, 1e2)  # Regularization strength\n",
            "<ipython-input-83-05166508794d>:7: FutureWarning: suggest_loguniform has been deprecated in v3.0.0. This feature will be removed in v6.0.0. See https://github.com/optuna/optuna/releases/tag/v3.0.0. Use suggest_float(..., log=True) instead.\n",
            "  C = trial.suggest_loguniform('C', 1e-4, 1e2)  # Regularization strength\n",
            "<ipython-input-83-05166508794d>:7: FutureWarning: suggest_loguniform has been deprecated in v3.0.0. This feature will be removed in v6.0.0. See https://github.com/optuna/optuna/releases/tag/v3.0.0. Use suggest_float(..., log=True) instead.\n",
            "  C = trial.suggest_loguniform('C', 1e-4, 1e2)  # Regularization strength\n",
            "<ipython-input-83-05166508794d>:7: FutureWarning: suggest_loguniform has been deprecated in v3.0.0. This feature will be removed in v6.0.0. See https://github.com/optuna/optuna/releases/tag/v3.0.0. Use suggest_float(..., log=True) instead.\n",
            "  C = trial.suggest_loguniform('C', 1e-4, 1e2)  # Regularization strength\n",
            "<ipython-input-83-05166508794d>:7: FutureWarning: suggest_loguniform has been deprecated in v3.0.0. This feature will be removed in v6.0.0. See https://github.com/optuna/optuna/releases/tag/v3.0.0. Use suggest_float(..., log=True) instead.\n",
            "  C = trial.suggest_loguniform('C', 1e-4, 1e2)  # Regularization strength\n",
            "<ipython-input-83-05166508794d>:7: FutureWarning: suggest_loguniform has been deprecated in v3.0.0. This feature will be removed in v6.0.0. See https://github.com/optuna/optuna/releases/tag/v3.0.0. Use suggest_float(..., log=True) instead.\n",
            "  C = trial.suggest_loguniform('C', 1e-4, 1e2)  # Regularization strength\n",
            "<ipython-input-83-05166508794d>:7: FutureWarning: suggest_loguniform has been deprecated in v3.0.0. This feature will be removed in v6.0.0. See https://github.com/optuna/optuna/releases/tag/v3.0.0. Use suggest_float(..., log=True) instead.\n",
            "  C = trial.suggest_loguniform('C', 1e-4, 1e2)  # Regularization strength\n",
            "<ipython-input-83-05166508794d>:7: FutureWarning: suggest_loguniform has been deprecated in v3.0.0. This feature will be removed in v6.0.0. See https://github.com/optuna/optuna/releases/tag/v3.0.0. Use suggest_float(..., log=True) instead.\n",
            "  C = trial.suggest_loguniform('C', 1e-4, 1e2)  # Regularization strength\n",
            "<ipython-input-83-05166508794d>:7: FutureWarning: suggest_loguniform has been deprecated in v3.0.0. This feature will be removed in v6.0.0. See https://github.com/optuna/optuna/releases/tag/v3.0.0. Use suggest_float(..., log=True) instead.\n",
            "  C = trial.suggest_loguniform('C', 1e-4, 1e2)  # Regularization strength\n",
            "<ipython-input-83-05166508794d>:7: FutureWarning: suggest_loguniform has been deprecated in v3.0.0. This feature will be removed in v6.0.0. See https://github.com/optuna/optuna/releases/tag/v3.0.0. Use suggest_float(..., log=True) instead.\n",
            "  C = trial.suggest_loguniform('C', 1e-4, 1e2)  # Regularization strength\n",
            "<ipython-input-83-05166508794d>:7: FutureWarning: suggest_loguniform has been deprecated in v3.0.0. This feature will be removed in v6.0.0. See https://github.com/optuna/optuna/releases/tag/v3.0.0. Use suggest_float(..., log=True) instead.\n",
            "  C = trial.suggest_loguniform('C', 1e-4, 1e2)  # Regularization strength\n",
            "<ipython-input-83-05166508794d>:7: FutureWarning: suggest_loguniform has been deprecated in v3.0.0. This feature will be removed in v6.0.0. See https://github.com/optuna/optuna/releases/tag/v3.0.0. Use suggest_float(..., log=True) instead.\n",
            "  C = trial.suggest_loguniform('C', 1e-4, 1e2)  # Regularization strength\n",
            "<ipython-input-83-05166508794d>:7: FutureWarning: suggest_loguniform has been deprecated in v3.0.0. This feature will be removed in v6.0.0. See https://github.com/optuna/optuna/releases/tag/v3.0.0. Use suggest_float(..., log=True) instead.\n",
            "  C = trial.suggest_loguniform('C', 1e-4, 1e2)  # Regularization strength\n",
            "<ipython-input-83-05166508794d>:7: FutureWarning: suggest_loguniform has been deprecated in v3.0.0. This feature will be removed in v6.0.0. See https://github.com/optuna/optuna/releases/tag/v3.0.0. Use suggest_float(..., log=True) instead.\n",
            "  C = trial.suggest_loguniform('C', 1e-4, 1e2)  # Regularization strength\n",
            "<ipython-input-83-05166508794d>:7: FutureWarning: suggest_loguniform has been deprecated in v3.0.0. This feature will be removed in v6.0.0. See https://github.com/optuna/optuna/releases/tag/v3.0.0. Use suggest_float(..., log=True) instead.\n",
            "  C = trial.suggest_loguniform('C', 1e-4, 1e2)  # Regularization strength\n",
            "<ipython-input-83-05166508794d>:7: FutureWarning: suggest_loguniform has been deprecated in v3.0.0. This feature will be removed in v6.0.0. See https://github.com/optuna/optuna/releases/tag/v3.0.0. Use suggest_float(..., log=True) instead.\n",
            "  C = trial.suggest_loguniform('C', 1e-4, 1e2)  # Regularization strength\n",
            "<ipython-input-83-05166508794d>:7: FutureWarning: suggest_loguniform has been deprecated in v3.0.0. This feature will be removed in v6.0.0. See https://github.com/optuna/optuna/releases/tag/v3.0.0. Use suggest_float(..., log=True) instead.\n",
            "  C = trial.suggest_loguniform('C', 1e-4, 1e2)  # Regularization strength\n",
            "<ipython-input-83-05166508794d>:7: FutureWarning: suggest_loguniform has been deprecated in v3.0.0. This feature will be removed in v6.0.0. See https://github.com/optuna/optuna/releases/tag/v3.0.0. Use suggest_float(..., log=True) instead.\n",
            "  C = trial.suggest_loguniform('C', 1e-4, 1e2)  # Regularization strength\n",
            "<ipython-input-83-05166508794d>:7: FutureWarning: suggest_loguniform has been deprecated in v3.0.0. This feature will be removed in v6.0.0. See https://github.com/optuna/optuna/releases/tag/v3.0.0. Use suggest_float(..., log=True) instead.\n",
            "  C = trial.suggest_loguniform('C', 1e-4, 1e2)  # Regularization strength\n",
            "<ipython-input-83-05166508794d>:7: FutureWarning: suggest_loguniform has been deprecated in v3.0.0. This feature will be removed in v6.0.0. See https://github.com/optuna/optuna/releases/tag/v3.0.0. Use suggest_float(..., log=True) instead.\n",
            "  C = trial.suggest_loguniform('C', 1e-4, 1e2)  # Regularization strength\n",
            "<ipython-input-83-05166508794d>:7: FutureWarning: suggest_loguniform has been deprecated in v3.0.0. This feature will be removed in v6.0.0. See https://github.com/optuna/optuna/releases/tag/v3.0.0. Use suggest_float(..., log=True) instead.\n",
            "  C = trial.suggest_loguniform('C', 1e-4, 1e2)  # Regularization strength\n",
            "<ipython-input-83-05166508794d>:7: FutureWarning: suggest_loguniform has been deprecated in v3.0.0. This feature will be removed in v6.0.0. See https://github.com/optuna/optuna/releases/tag/v3.0.0. Use suggest_float(..., log=True) instead.\n",
            "  C = trial.suggest_loguniform('C', 1e-4, 1e2)  # Regularization strength\n",
            "<ipython-input-83-05166508794d>:7: FutureWarning: suggest_loguniform has been deprecated in v3.0.0. This feature will be removed in v6.0.0. See https://github.com/optuna/optuna/releases/tag/v3.0.0. Use suggest_float(..., log=True) instead.\n",
            "  C = trial.suggest_loguniform('C', 1e-4, 1e2)  # Regularization strength\n",
            "<ipython-input-83-05166508794d>:7: FutureWarning: suggest_loguniform has been deprecated in v3.0.0. This feature will be removed in v6.0.0. See https://github.com/optuna/optuna/releases/tag/v3.0.0. Use suggest_float(..., log=True) instead.\n",
            "  C = trial.suggest_loguniform('C', 1e-4, 1e2)  # Regularization strength\n",
            "<ipython-input-83-05166508794d>:7: FutureWarning: suggest_loguniform has been deprecated in v3.0.0. This feature will be removed in v6.0.0. See https://github.com/optuna/optuna/releases/tag/v3.0.0. Use suggest_float(..., log=True) instead.\n",
            "  C = trial.suggest_loguniform('C', 1e-4, 1e2)  # Regularization strength\n",
            "<ipython-input-83-05166508794d>:7: FutureWarning: suggest_loguniform has been deprecated in v3.0.0. This feature will be removed in v6.0.0. See https://github.com/optuna/optuna/releases/tag/v3.0.0. Use suggest_float(..., log=True) instead.\n",
            "  C = trial.suggest_loguniform('C', 1e-4, 1e2)  # Regularization strength\n",
            "<ipython-input-83-05166508794d>:7: FutureWarning: suggest_loguniform has been deprecated in v3.0.0. This feature will be removed in v6.0.0. See https://github.com/optuna/optuna/releases/tag/v3.0.0. Use suggest_float(..., log=True) instead.\n",
            "  C = trial.suggest_loguniform('C', 1e-4, 1e2)  # Regularization strength\n",
            "<ipython-input-83-05166508794d>:7: FutureWarning: suggest_loguniform has been deprecated in v3.0.0. This feature will be removed in v6.0.0. See https://github.com/optuna/optuna/releases/tag/v3.0.0. Use suggest_float(..., log=True) instead.\n",
            "  C = trial.suggest_loguniform('C', 1e-4, 1e2)  # Regularization strength\n",
            "<ipython-input-83-05166508794d>:7: FutureWarning: suggest_loguniform has been deprecated in v3.0.0. This feature will be removed in v6.0.0. See https://github.com/optuna/optuna/releases/tag/v3.0.0. Use suggest_float(..., log=True) instead.\n",
            "  C = trial.suggest_loguniform('C', 1e-4, 1e2)  # Regularization strength\n",
            "<ipython-input-83-05166508794d>:7: FutureWarning: suggest_loguniform has been deprecated in v3.0.0. This feature will be removed in v6.0.0. See https://github.com/optuna/optuna/releases/tag/v3.0.0. Use suggest_float(..., log=True) instead.\n",
            "  C = trial.suggest_loguniform('C', 1e-4, 1e2)  # Regularization strength\n",
            "<ipython-input-83-05166508794d>:7: FutureWarning: suggest_loguniform has been deprecated in v3.0.0. This feature will be removed in v6.0.0. See https://github.com/optuna/optuna/releases/tag/v3.0.0. Use suggest_float(..., log=True) instead.\n",
            "  C = trial.suggest_loguniform('C', 1e-4, 1e2)  # Regularization strength\n",
            "<ipython-input-83-05166508794d>:7: FutureWarning: suggest_loguniform has been deprecated in v3.0.0. This feature will be removed in v6.0.0. See https://github.com/optuna/optuna/releases/tag/v3.0.0. Use suggest_float(..., log=True) instead.\n",
            "  C = trial.suggest_loguniform('C', 1e-4, 1e2)  # Regularization strength\n",
            "<ipython-input-83-05166508794d>:7: FutureWarning: suggest_loguniform has been deprecated in v3.0.0. This feature will be removed in v6.0.0. See https://github.com/optuna/optuna/releases/tag/v3.0.0. Use suggest_float(..., log=True) instead.\n",
            "  C = trial.suggest_loguniform('C', 1e-4, 1e2)  # Regularization strength\n",
            "<ipython-input-83-05166508794d>:7: FutureWarning: suggest_loguniform has been deprecated in v3.0.0. This feature will be removed in v6.0.0. See https://github.com/optuna/optuna/releases/tag/v3.0.0. Use suggest_float(..., log=True) instead.\n",
            "  C = trial.suggest_loguniform('C', 1e-4, 1e2)  # Regularization strength\n",
            "<ipython-input-83-05166508794d>:7: FutureWarning: suggest_loguniform has been deprecated in v3.0.0. This feature will be removed in v6.0.0. See https://github.com/optuna/optuna/releases/tag/v3.0.0. Use suggest_float(..., log=True) instead.\n",
            "  C = trial.suggest_loguniform('C', 1e-4, 1e2)  # Regularization strength\n",
            "<ipython-input-83-05166508794d>:7: FutureWarning: suggest_loguniform has been deprecated in v3.0.0. This feature will be removed in v6.0.0. See https://github.com/optuna/optuna/releases/tag/v3.0.0. Use suggest_float(..., log=True) instead.\n",
            "  C = trial.suggest_loguniform('C', 1e-4, 1e2)  # Regularization strength\n"
          ]
        },
        {
          "output_type": "stream",
          "name": "stdout",
          "text": [
            "Best hyperparameters found by Optuna: {'C': 1.1162577880315152, 'solver': 'lbfgs'}\n"
          ]
        }
      ]
    },
    {
      "cell_type": "code",
      "source": [
        "# Train Logistic Regression with best hyperparameters\n",
        "log_model = LogisticRegression(**best_params, max_iter=1000)\n",
        "log_model.fit(X_train_scaled, np.ravel(y_train))\n",
        "y_log_pred = log_model.predict(X_val_scaled )\n",
        "y_log_pred_prob =log_model.predict_proba(X_val_scaled)[:, 1]\n",
        "\n",
        "# Calculate accuracy score\n",
        "acc_log = accuracy_score(y_val, y_log_pred)\n",
        "print(\"Accuracy score:\", acc_log)"
      ],
      "metadata": {
        "colab": {
          "base_uri": "https://localhost:8080/"
        },
        "id": "-KSbuYq738sD",
        "outputId": "1a2a5a8c-6d37-4acd-9e36-c0cd35f61dfe"
      },
      "execution_count": 84,
      "outputs": [
        {
          "output_type": "stream",
          "name": "stdout",
          "text": [
            "Accuracy score: 0.8070264765784114\n"
          ]
        }
      ]
    },
    {
      "cell_type": "markdown",
      "source": [
        "2. Decision tree"
      ],
      "metadata": {
        "id": "zDJEy66hQVRh"
      }
    },
    {
      "cell_type": "code",
      "source": [
        "# Decision tree model\n",
        "# Initialize and train Decision Tree model\n",
        "dt_model = DecisionTreeClassifier(random_state=42)\n",
        "dt_model.fit(X_train, y_train)\n",
        "\n",
        "# Make predictions\n",
        "y_dt_pred = dt_model.predict(X_val)\n",
        "y_dt_pred_prob = dt_model.predict_proba(X_val)[:, 1]\n",
        "\n",
        "# Calculate accuracy score\n",
        "acc_dt = accuracy_score(y_val, y_dt_pred)\n",
        "print(\"Decision Tree Accuracy:\", acc_dt)"
      ],
      "metadata": {
        "id": "j5jDl22-mc0N",
        "colab": {
          "base_uri": "https://localhost:8080/"
        },
        "outputId": "af07b897-76dc-4129-ee53-124927d33a88"
      },
      "execution_count": 85,
      "outputs": [
        {
          "output_type": "stream",
          "name": "stdout",
          "text": [
            "Decision Tree Accuracy: 0.8015953835709436\n"
          ]
        }
      ]
    },
    {
      "cell_type": "code",
      "source": [
        "from sklearn import tree  # Import tree module\n",
        "# train decision tree\n",
        "# with validation-based early stopping\n",
        "\n",
        "# train 12 different models from depth 1 to depth 12\n",
        "max_depth = 12\n",
        "candidate_models = {}\n",
        "\n",
        "# loop through depth and train a decision tree\n",
        "for depth in range(0, max_depth):\n",
        "\n",
        "  clf = tree.DecisionTreeClassifier(max_depth = depth + 1, random_state=123)    # instantiate model\n",
        "  clf.fit(X_train, y_train)                                                      # training/fitting the classifier (cls)\n",
        "\n",
        "  # get probabilities (y values) for each row of training data set and\n",
        "  # validation data set\n",
        "  train_phat = clf.predict_proba(X_train)[:, 1]\n",
        "  valid_phat = clf.predict_proba(X_val)[:, 1]\n",
        "\n",
        "  # ROC AUC - Compute Area Under the Receiver Operating Characteristic Curve is\n",
        "  # a fixed statistic for binary classifier\n",
        "  train_auc = roc_auc_score(y_train, train_phat)\n",
        "  valid_auc = roc_auc_score(y_val, valid_phat)\n",
        "\n",
        "  # decision trees are unstable\n",
        "  # to check if the model is stable, break validation data into 5 sub-samples\n",
        "  # and calculate AUC on each sub-sample.\n",
        "  cv_scores = cross_val_score(clf, X_val, y_val, scoring='roc_auc', cv=5)\n",
        "  cv_std = np.std(cv_scores) # standard-deviation\n",
        "\n",
        "  # store results into a table\n",
        "  candidate_models[depth + 1] = {}\n",
        "  candidate_models[depth + 1]['Model'] = clf\n",
        "  candidate_models[depth + 1]['Training AUC'] = train_auc\n",
        "  candidate_models[depth + 1]['Validation AUC'] = valid_auc\n",
        "  candidate_models[depth + 1]['5-Fold SD'] = cv_std"
      ],
      "metadata": {
        "id": "Xnst0ZNJQfUf"
      },
      "execution_count": 86,
      "outputs": []
    },
    {
      "cell_type": "code",
      "source": [
        "# plot tree depth vs. training and validation AUC\n",
        "\n",
        "# create dataframe object from dictionary\n",
        "candidate_results = pd.DataFrame.from_dict(candidate_models, orient='index')\n",
        "# using pandas plotting and matplotlib\n",
        "fig, ax = plt.subplots(figsize=(8, 8))\n",
        "_ = candidate_results[['Training AUC', 'Validation AUC']].plot(title='Iteration Plot',\n",
        "                                                               ax=ax)\n",
        "_ = ax.set_xlabel('Tree Depth') # label x-axis as Tree Depth\n",
        "_ = ax.set_ylabel('AUC')        # label y-axis as AUC"
      ],
      "metadata": {
        "colab": {
          "base_uri": "https://localhost:8080/",
          "height": 718
        },
        "id": "_RmpSnPFQ0YQ",
        "outputId": "4a19ec48-414c-4fa5-a51f-28bfbbab3858"
      },
      "execution_count": 87,
      "outputs": [
        {
          "output_type": "display_data",
          "data": {
            "text/plain": [
              "<Figure size 800x800 with 1 Axes>"
            ],
            "image/png": "[encoded data removed]"
          },
          "metadata": {}
        }
      ]
    },
    {
      "cell_type": "code",
      "source": [
        "# view same results as a table, using pandas iloc to remove first column of table\n",
        "candidate_results.iloc[:, 1:]\n",
        "# From the table below, maximum validation AUC is at depth 7."
      ],
      "metadata": {
        "colab": {
          "base_uri": "https://localhost:8080/",
          "height": 426
        },
        "id": "PH_UHWIWQ23R",
        "outputId": "8c5e8faf-3827-414d-a7e4-cffc9f126fff"
      },
      "execution_count": 88,
      "outputs": [
        {
          "output_type": "execute_result",
          "data": {
            "text/plain": [
              "    Training AUC  Validation AUC  5-Fold SD\n",
              "1       0.666839        0.667703   0.023674\n",
              "2       0.813484        0.818995   0.008956\n",
              "3       0.848848        0.849598   0.008789\n",
              "4       0.873026        0.870496   0.007101\n",
              "5       0.885735        0.876942   0.008749\n",
              "6       0.906514        0.891734   0.004567\n",
              "7       0.919522        0.900775   0.005835\n",
              "8       0.931005        0.897746   0.004894\n",
              "9       0.940883        0.893431   0.009309\n",
              "10      0.950635        0.885625   0.013483\n",
              "11      0.958474        0.874503   0.010863\n",
              "12      0.967305        0.864324   0.013016"
            ],
            "text/html": [
              "\n",
              "  <div id=\"df-f50202d8-5112-45e6-aa32-26564c0aba32\" class=\"colab-df-container\">\n",
              "    <div>\n",
              "<style scoped>\n",
              "    .dataframe tbody tr th:only-of-type {\n",
              "        vertical-align: middle;\n",
              "    }\n",
              "\n",
              "    .dataframe tbody tr th {\n",
              "        vertical-align: top;\n",
              "    }\n",
              "\n",
              "    .dataframe thead th {\n",
              "        text-align: right;\n",
              "    }\n",
              "</style>\n",
              "<table border=\"1\" class=\"dataframe\">\n",
              "  <thead>\n",
              "    <tr style=\"text-align: right;\">\n",
              "      <th></th>\n",
              "      <th>Training AUC</th>\n",
              "      <th>Validation AUC</th>\n",
              "      <th>5-Fold SD</th>\n",
              "    </tr>\n",
              "  </thead>\n",
              "  <tbody>\n",
              "    <tr>\n",
              "      <th>1</th>\n",
              "      <td>0.666839</td>\n",
              "      <td>0.667703</td>\n",
              "      <td>0.023674</td>\n",
              "    </tr>\n",
              "    <tr>\n",
              "      <th>2</th>\n",
              "      <td>0.813484</td>\n",
              "      <td>0.818995</td>\n",
              "      <td>0.008956</td>\n",
              "    </tr>\n",
              "    <tr>\n",
              "      <th>3</th>\n",
              "      <td>0.848848</td>\n",
              "      <td>0.849598</td>\n",
              "      <td>0.008789</td>\n",
              "    </tr>\n",
              "    <tr>\n",
              "      <th>4</th>\n",
              "      <td>0.873026</td>\n",
              "      <td>0.870496</td>\n",
              "      <td>0.007101</td>\n",
              "    </tr>\n",
              "    <tr>\n",
              "      <th>5</th>\n",
              "      <td>0.885735</td>\n",
              "      <td>0.876942</td>\n",
              "      <td>0.008749</td>\n",
              "    </tr>\n",
              "    <tr>\n",
              "      <th>6</th>\n",
              "      <td>0.906514</td>\n",
              "      <td>0.891734</td>\n",
              "      <td>0.004567</td>\n",
              "    </tr>\n",
              "    <tr>\n",
              "      <th>7</th>\n",
              "      <td>0.919522</td>\n",
              "      <td>0.900775</td>\n",
              "      <td>0.005835</td>\n",
              "    </tr>\n",
              "    <tr>\n",
              "      <th>8</th>\n",
              "      <td>0.931005</td>\n",
              "      <td>0.897746</td>\n",
              "      <td>0.004894</td>\n",
              "    </tr>\n",
              "    <tr>\n",
              "      <th>9</th>\n",
              "      <td>0.940883</td>\n",
              "      <td>0.893431</td>\n",
              "      <td>0.009309</td>\n",
              "    </tr>\n",
              "    <tr>\n",
              "      <th>10</th>\n",
              "      <td>0.950635</td>\n",
              "      <td>0.885625</td>\n",
              "      <td>0.013483</td>\n",
              "    </tr>\n",
              "    <tr>\n",
              "      <th>11</th>\n",
              "      <td>0.958474</td>\n",
              "      <td>0.874503</td>\n",
              "      <td>0.010863</td>\n",
              "    </tr>\n",
              "    <tr>\n",
              "      <th>12</th>\n",
              "      <td>0.967305</td>\n",
              "      <td>0.864324</td>\n",
              "      <td>0.013016</td>\n",
              "    </tr>\n",
              "  </tbody>\n",
              "</table>\n",
              "</div>\n",
              "    <div class=\"colab-df-buttons\">\n",
              "\n",
              "  <div class=\"colab-df-container\">\n",
              "    <button class=\"colab-df-convert\" onclick=\"convertToInteractive('df-f50202d8-5112-45e6-aa32-26564c0aba32')\"\n",
              "            title=\"Convert this dataframe to an interactive table.\"\n",
              "            style=\"display:none;\">\n",
              "\n",
              "  <svg xmlns=\"http://www.w3.org/2000/svg\" height=\"24px\" viewBox=\"0 -960 960 960\">\n",
              "    <path d=\"M120-120v-720h720v720H120Zm60-500h600v-160H180v160Zm220 220h160v-160H400v160Zm0 220h160v-160H400v160ZM180-400h160v-160H180v160Zm440 0h160v-160H620v160ZM180-180h160v-160H180v160Zm440 0h160v-160H620v160Z\"/>\n",
              "  </svg>\n",
              "    </button>\n",
              "\n",
              "  <style>\n",
              "    .colab-df-container {\n",
              "      display:flex;\n",
              "      gap: 12px;\n",
              "    }\n",
              "\n",
              "    .colab-df-convert {\n",
              "      background-color: #E8F0FE;\n",
              "      border: none;\n",
              "      border-radius: 50%;\n",
              "      cursor: pointer;\n",
              "      display: none;\n",
              "      fill: #1967D2;\n",
              "      height: 32px;\n",
              "      padding: 0 0 0 0;\n",
              "      width: 32px;\n",
              "    }\n",
              "\n",
              "    .colab-df-convert:hover {\n",
              "      background-color: #E2EBFA;\n",
              "      box-shadow: 0px 1px 2px rgba(60, 64, 67, 0.3), 0px 1px 3px 1px rgba(60, 64, 67, 0.15);\n",
              "      fill: #174EA6;\n",
              "    }\n",
              "\n",
              "    .colab-df-buttons div {\n",
              "      margin-bottom: 4px;\n",
              "    }\n",
              "\n",
              "    [theme=dark] .colab-df-convert {\n",
              "      background-color: #3B4455;\n",
              "      fill: #D2E3FC;\n",
              "    }\n",
              "\n",
              "    [theme=dark] .colab-df-convert:hover {\n",
              "      background-color: #434B5C;\n",
              "      box-shadow: 0px 1px 3px 1px rgba(0, 0, 0, 0.15);\n",
              "      filter: drop-shadow(0px 1px 2px rgba(0, 0, 0, 0.3));\n",
              "      fill: #FFFFFF;\n",
              "    }\n",
              "  </style>\n",
              "\n",
              "    <script>\n",
              "      const buttonEl =\n",
              "        document.querySelector('#df-f50202d8-5112-45e6-aa32-26564c0aba32 button.colab-df-convert');\n",
              "      buttonEl.style.display =\n",
              "        google.colab.kernel.accessAllowed ? 'block' : 'none';\n",
              "\n",
              "      async function convertToInteractive(key) {\n",
              "        const element = document.querySelector('#df-f50202d8-5112-45e6-aa32-26564c0aba32');\n",
              "        const dataTable =\n",
              "          await google.colab.kernel.invokeFunction('convertToInteractive',\n",
              "                                                    [key], {});\n",
              "        if (!dataTable) return;\n",
              "\n",
              "        const docLinkHtml = 'Like what you see? Visit the ' +\n",
              "          '<a target=\"_blank\" href=https://colab.research.google.com/notebooks/data_table.ipynb>data table notebook</a>'\n",
              "          + ' to learn more about interactive tables.';\n",
              "        element.innerHTML = '';\n",
              "        dataTable['output_type'] = 'display_data';\n",
              "        await google.colab.output.renderOutput(dataTable, element);\n",
              "        const docLink = document.createElement('div');\n",
              "        docLink.innerHTML = docLinkHtml;\n",
              "        element.appendChild(docLink);\n",
              "      }\n",
              "    </script>\n",
              "  </div>\n",
              "\n",
              "\n",
              "<div id=\"df-60109988-a880-4149-9ec0-b0dc65dfa6ba\">\n",
              "  <button class=\"colab-df-quickchart\" onclick=\"quickchart('df-60109988-a880-4149-9ec0-b0dc65dfa6ba')\"\n",
              "            title=\"Suggest charts\"\n",
              "            style=\"display:none;\">\n",
              "\n",
              "<svg xmlns=\"http://www.w3.org/2000/svg\" height=\"24px\"viewBox=\"0 0 24 24\"\n",
              "     width=\"24px\">\n",
              "    <g>\n",
              "        <path d=\"M19 3H5c-1.1 0-2 .9-2 2v14c0 1.1.9 2 2 2h14c1.1 0 2-.9 2-2V5c0-1.1-.9-2-2-2zM9 17H7v-7h2v7zm4 0h-2V7h2v10zm4 0h-2v-4h2v4z\"/>\n",
              "    </g>\n",
              "</svg>\n",
              "  </button>\n",
              "\n",
              "<style>\n",
              "  .colab-df-quickchart {\n",
              "      --bg-color: #E8F0FE;\n",
              "      --fill-color: #1967D2;\n",
              "      --hover-bg-color: #E2EBFA;\n",
              "      --hover-fill-color: #174EA6;\n",
              "      --disabled-fill-color: #AAA;\n",
              "      --disabled-bg-color: #DDD;\n",
              "  }\n",
              "\n",
              "  [theme=dark] .colab-df-quickchart {\n",
              "      --bg-color: #3B4455;\n",
              "      --fill-color: #D2E3FC;\n",
              "      --hover-bg-color: #434B5C;\n",
              "      --hover-fill-color: #FFFFFF;\n",
              "      --disabled-bg-color: #3B4455;\n",
              "      --disabled-fill-color: #666;\n",
              "  }\n",
              "\n",
              "  .colab-df-quickchart {\n",
              "    background-color: var(--bg-color);\n",
              "    border: none;\n",
              "    border-radius: 50%;\n",
              "    cursor: pointer;\n",
              "    display: none;\n",
              "    fill: var(--fill-color);\n",
              "    height: 32px;\n",
              "    padding: 0;\n",
              "    width: 32px;\n",
              "  }\n",
              "\n",
              "  .colab-df-quickchart:hover {\n",
              "    background-color: var(--hover-bg-color);\n",
              "    box-shadow: 0 1px 2px rgba(60, 64, 67, 0.3), 0 1px 3px 1px rgba(60, 64, 67, 0.15);\n",
              "    fill: var(--button-hover-fill-color);\n",
              "  }\n",
              "\n",
              "  .colab-df-quickchart-complete:disabled,\n",
              "  .colab-df-quickchart-complete:disabled:hover {\n",
              "    background-color: var(--disabled-bg-color);\n",
              "    fill: var(--disabled-fill-color);\n",
              "    box-shadow: none;\n",
              "  }\n",
              "\n",
              "  .colab-df-spinner {\n",
              "    border: 2px solid var(--fill-color);\n",
              "    border-color: transparent;\n",
              "    border-bottom-color: var(--fill-color);\n",
              "    animation:\n",
              "      spin 1s steps(1) infinite;\n",
              "  }\n",
              "\n",
              "  @keyframes spin {\n",
              "    0% {\n",
              "      border-color: transparent;\n",
              "      border-bottom-color: var(--fill-color);\n",
              "      border-left-color: var(--fill-color);\n",
              "    }\n",
              "    20% {\n",
              "      border-color: transparent;\n",
              "      border-left-color: var(--fill-color);\n",
              "      border-top-color: var(--fill-color);\n",
              "    }\n",
              "    30% {\n",
              "      border-color: transparent;\n",
              "      border-left-color: var(--fill-color);\n",
              "      border-top-color: var(--fill-color);\n",
              "      border-right-color: var(--fill-color);\n",
              "    }\n",
              "    40% {\n",
              "      border-color: transparent;\n",
              "      border-right-color: var(--fill-color);\n",
              "      border-top-color: var(--fill-color);\n",
              "    }\n",
              "    60% {\n",
              "      border-color: transparent;\n",
              "      border-right-color: var(--fill-color);\n",
              "    }\n",
              "    80% {\n",
              "      border-color: transparent;\n",
              "      border-right-color: var(--fill-color);\n",
              "      border-bottom-color: var(--fill-color);\n",
              "    }\n",
              "    90% {\n",
              "      border-color: transparent;\n",
              "      border-bottom-color: var(--fill-color);\n",
              "    }\n",
              "  }\n",
              "</style>\n",
              "\n",
              "  <script>\n",
              "    async function quickchart(key) {\n",
              "      const quickchartButtonEl =\n",
              "        document.querySelector('#' + key + ' button');\n",
              "      quickchartButtonEl.disabled = true;  // To prevent multiple clicks.\n",
              "      quickchartButtonEl.classList.add('colab-df-spinner');\n",
              "      try {\n",
              "        const charts = await google.colab.kernel.invokeFunction(\n",
              "            'suggestCharts', [key], {});\n",
              "      } catch (error) {\n",
              "        console.error('Error during call to suggestCharts:', error);\n",
              "      }\n",
              "      quickchartButtonEl.classList.remove('colab-df-spinner');\n",
              "      quickchartButtonEl.classList.add('colab-df-quickchart-complete');\n",
              "    }\n",
              "    (() => {\n",
              "      let quickchartButtonEl =\n",
              "        document.querySelector('#df-60109988-a880-4149-9ec0-b0dc65dfa6ba button');\n",
              "      quickchartButtonEl.style.display =\n",
              "        google.colab.kernel.accessAllowed ? 'block' : 'none';\n",
              "    })();\n",
              "  </script>\n",
              "</div>\n",
              "\n",
              "    </div>\n",
              "  </div>\n"
            ],
            "application/vnd.google.colaboratory.intrinsic+json": {
              "type": "dataframe",
              "summary": "{\n  \"name\": \"# From the table below, maximum validation AUC is at depth 7\",\n  \"rows\": 12,\n  \"fields\": [\n    {\n      \"column\": \"Training AUC\",\n      \"properties\": {\n        \"dtype\": \"number\",\n        \"std\": 0.08387505276068818,\n        \"min\": 0.6668389764797106,\n        \"max\": 0.9673052484371034,\n        \"num_unique_values\": 12,\n        \"samples\": [\n          0.9584735243344634,\n          0.9506353094872851,\n          0.6668389764797106\n        ],\n        \"semantic_type\": \"\",\n        \"description\": \"\"\n      }\n    },\n    {\n      \"column\": \"Validation AUC\",\n      \"properties\": {\n        \"dtype\": \"number\",\n        \"std\": 0.06409986315319724,\n        \"min\": 0.667703163707457,\n        \"max\": 0.9007753984334084,\n        \"num_unique_values\": 12,\n        \"samples\": [\n          0.8745033058266325,\n          0.885624841566037,\n          0.667703163707457\n        ],\n        \"semantic_type\": \"\",\n        \"description\": \"\"\n      }\n    },\n    {\n      \"column\": \"5-Fold SD\",\n      \"properties\": {\n        \"dtype\": \"number\",\n        \"std\": 0.005177210660766829,\n        \"min\": 0.004567037559134151,\n        \"max\": 0.02367414872659276,\n        \"num_unique_values\": 12,\n        \"samples\": [\n          0.010863302586510982,\n          0.013482577779644681,\n          0.02367414872659276\n        ],\n        \"semantic_type\": \"\",\n        \"description\": \"\"\n      }\n    }\n  ]\n}"
            }
          },
          "metadata": {},
          "execution_count": 88
        }
      ]
    },
    {
      "cell_type": "code",
      "source": [
        "# Set logging to ERROR to suppress INFO messages from Optuna\n",
        "optuna.logging.set_verbosity(optuna.logging.ERROR)\n",
        "\n",
        "# Optuna objective function\n",
        "def objective(trial):\n",
        "    # Suggest hyperparameters\n",
        "    max_depth = 7\n",
        "    min_samples_split = trial.suggest_int('min_samples_split', 2, 20)\n",
        "    min_samples_leaf = trial.suggest_int('min_samples_leaf', 1, 10)\n",
        "    criterion = trial.suggest_categorical('criterion', ['gini', 'entropy'])\n",
        "    ccp_alpha = trial.suggest_float('ccp_alpha', 0.0001, 0.05, log=True)  # Add pruning\n",
        "\n",
        "    # Initialize Decision Tree with pruning\n",
        "    dt_model = DecisionTreeClassifier(\n",
        "        max_depth=max_depth,\n",
        "        min_samples_split=min_samples_split,\n",
        "        min_samples_leaf=min_samples_leaf,\n",
        "        criterion=criterion,\n",
        "        ccp_alpha=ccp_alpha,  # Tree pruning\n",
        "        random_state=42\n",
        "    )\n",
        "\n",
        "    # Stratified K-Fold cross-validation\n",
        "    skf = StratifiedKFold(n_splits=5, shuffle=True, random_state=42)\n",
        "    scores = cross_val_score(dt_model, X_train, y_train, cv=skf, scoring='accuracy')\n",
        "\n",
        "    # Pruning logic (Optuna pruning)\n",
        "    trial.report(np.mean(scores), step=1)\n",
        "    if trial.should_prune():\n",
        "        raise optuna.exceptions.TrialPruned()\n",
        "\n",
        "    return np.mean(scores)  # Return average accuracy\n",
        "\n",
        "# Create Optuna study with pruning\n",
        "study = optuna.create_study(direction='maximize', pruner=optuna.pruners.MedianPruner())\n",
        "study.optimize(objective, n_trials=50)  # Increase n_trials for better results\n",
        "\n",
        "# Get best parameters\n",
        "best_params = study.best_params\n",
        "print(\"Best hyperparameters found by Optuna:\", best_params)"
      ],
      "metadata": {
        "colab": {
          "base_uri": "https://localhost:8080/"
        },
        "id": "it-ATcda4S95",
        "outputId": "a0e5691c-6681-4ef6-de55-068f9b0cb8db"
      },
      "execution_count": 89,
      "outputs": [
        {
          "output_type": "stream",
          "name": "stdout",
          "text": [
            "Best hyperparameters found by Optuna: {'min_samples_split': 10, 'min_samples_leaf': 4, 'criterion': 'gini', 'ccp_alpha': 0.00048534526568428174}\n"
          ]
        }
      ]
    },
    {
      "cell_type": "code",
      "source": [
        "# Train Decision Tree with best hyperparameters\n",
        "dt_model = DecisionTreeClassifier(**best_params, max_depth = 7, random_state=42)\n",
        "dt_model.fit(X_train, y_train)\n",
        "\n",
        "# Make predictions\n",
        "y_dt_pred_prob =dt_model.predict_proba(X_val)[:, 1]\n",
        "y_dt_pred = dt_model.predict(X_val)\n",
        "\n",
        "# Evaluate model\n",
        "acc_dt = accuracy_score(y_val, y_dt_pred)\n",
        "print(\"Optimized Decision Tree Accuracy:\", acc_dt)"
      ],
      "metadata": {
        "colab": {
          "base_uri": "https://localhost:8080/"
        },
        "id": "HcuKRpAQJnaz",
        "outputId": "9c03cd5d-89c5-4c67-f8bc-4c2d7faec81d"
      },
      "execution_count": 90,
      "outputs": [
        {
          "output_type": "stream",
          "name": "stdout",
          "text": [
            "Optimized Decision Tree Accuracy: 0.903428377460964\n"
          ]
        }
      ]
    },
    {
      "cell_type": "code",
      "source": [
        "dt_model.predict_proba(X_val)[:, 1]"
      ],
      "metadata": {
        "colab": {
          "base_uri": "https://localhost:8080/"
        },
        "id": "vKx7UAnuRxKH",
        "outputId": "08a9be2f-8f22-46cc-efd3-e69cd7b67a02"
      },
      "execution_count": 91,
      "outputs": [
        {
          "output_type": "execute_result",
          "data": {
            "text/plain": [
              "array([0.13333333, 0.25962326, 0.        , ..., 0.13333333, 0.25962326,\n",
              "       1.        ])"
            ]
          },
          "metadata": {},
          "execution_count": 91
        }
      ]
    },
    {
      "cell_type": "markdown",
      "source": [
        "3. XGB"
      ],
      "metadata": {
        "id": "DFbZ9xRHixWT"
      }
    },
    {
      "cell_type": "code",
      "source": [
        "# xgb model\n",
        "# Define the XGBoost classifier\n",
        "xgb_model = xgb.XGBClassifier()\n",
        "\n",
        "# Train the model\n",
        "xgb_model.fit(X_train, np.ravel(y_train))\n",
        "\n",
        "# Make predictions on the test data\n",
        "y_xgb_pred = xgb_model.predict(X_val)\n",
        "y_xgb_pred_prob =xgb_model.predict_proba(X_val)[:, 1]\n",
        "\n",
        "acc_xgb= accuracy_score(y_val, y_xgb_pred)\n",
        "print(\"Accuracy score:\", acc_xgb)"
      ],
      "metadata": {
        "id": "4ukeesAbRGFD",
        "colab": {
          "base_uri": "https://localhost:8080/"
        },
        "outputId": "b70b7f6f-1d03-449a-9be2-4ce0fc963313"
      },
      "execution_count": 92,
      "outputs": [
        {
          "output_type": "stream",
          "name": "stdout",
          "text": [
            "Accuracy score: 0.8810251188051595\n"
          ]
        }
      ]
    },
    {
      "cell_type": "code",
      "source": [
        "# Set logging to ERROR to suppress INFO messages from Optuna\n",
        "optuna.logging.set_verbosity(optuna.logging.ERROR)\n",
        "\n",
        "# Define the Optuna objective function\n",
        "def objective(trial):\n",
        "    params = {\n",
        "        \"reg_lambda\": trial.suggest_loguniform(\"reg_lambda\", 1e-6, 10),\n",
        "        \"reg_alpha\": trial.suggest_loguniform(\"reg_alpha\", 1e-6, 10),\n",
        "        \"colsample_bytree\": trial.suggest_float(\"colsample_bytree\", 0.5, 1.0),\n",
        "        \"subsample\": trial.suggest_float(\"subsample\", 0.5, 1.0),\n",
        "        \"learning_rate\": trial.suggest_loguniform('learning_rate', 1e-2, 1.0),\n",
        "        \"max_depth\": trial.suggest_int('max_depth', 2, 50),\n",
        "        \"min_child_weight\": trial.suggest_loguniform(\"min_child_weight\", 1e-4, 100),\n",
        "        \"n_estimators\": trial.suggest_int(\"n_estimators\", 50, 1000),\n",
        "        \"tree_method\": \"hist\",  # Using GPU for speedup\n",
        "        \"device\": \"cuda\",  # Use GPU\n",
        "        \"random_state\": 42\n",
        "    }\n",
        "\n",
        "    # Initialize XGBoost Classifier\n",
        "    model = xgb.XGBClassifier(**params, enable_categorical=True)\n",
        "\n",
        "    # Cross-validation using KFold\n",
        "    kf = KFold(n_splits=5, shuffle=True, random_state=42)\n",
        "    scores = cross_val_score(xgb_model, X_train, y_train, cv=kf, scoring='accuracy')\n",
        "\n",
        "    # Compute mean score\n",
        "    mean_score = scores.mean()\n",
        "\n",
        "    # Pruning logic: Report intermediate results\n",
        "    trial.report(mean_score, step=1)\n",
        "    if trial.should_prune():\n",
        "        raise optuna.exceptions.TrialPruned()\n",
        "\n",
        "    return mean_score\n",
        "\n",
        "# Create a study and optimize\n",
        "study = optuna.create_study(direction='maximize', pruner=optuna.pruners.MedianPruner())\n",
        "study.optimize(objective, n_trials=50)\n",
        "\n",
        "# Get the best parameters\n",
        "best_params = study.best_params\n",
        "print(\"Best parameters found by Optuna: \", best_params)"
      ],
      "metadata": {
        "colab": {
          "base_uri": "https://localhost:8080/"
        },
        "id": "cbqiYjwz-JaD",
        "outputId": "15b7298a-53f2-489d-acc9-ec67261c4ec4"
      },
      "execution_count": 93,
      "outputs": [
        {
          "output_type": "stream",
          "name": "stderr",
          "text": [
            "<ipython-input-93-22c9a6b91acf>:7: FutureWarning: suggest_loguniform has been deprecated in v3.0.0. This feature will be removed in v6.0.0. See https://github.com/optuna/optuna/releases/tag/v3.0.0. Use suggest_float(..., log=True) instead.\n",
            "  \"reg_lambda\": trial.suggest_loguniform(\"reg_lambda\", 1e-6, 10),\n",
            "<ipython-input-93-22c9a6b91acf>:8: FutureWarning: suggest_loguniform has been deprecated in v3.0.0. This feature will be removed in v6.0.0. See https://github.com/optuna/optuna/releases/tag/v3.0.0. Use suggest_float(..., log=True) instead.\n",
            "  \"reg_alpha\": trial.suggest_loguniform(\"reg_alpha\", 1e-6, 10),\n",
            "<ipython-input-93-22c9a6b91acf>:11: FutureWarning: suggest_loguniform has been deprecated in v3.0.0. This feature will be removed in v6.0.0. See https://github.com/optuna/optuna/releases/tag/v3.0.0. Use suggest_float(..., log=True) instead.\n",
            "  \"learning_rate\": trial.suggest_loguniform('learning_rate', 1e-2, 1.0),\n",
            "<ipython-input-93-22c9a6b91acf>:13: FutureWarning: suggest_loguniform has been deprecated in v3.0.0. This feature will be removed in v6.0.0. See https://github.com/optuna/optuna/releases/tag/v3.0.0. Use suggest_float(..., log=True) instead.\n",
            "  \"min_child_weight\": trial.suggest_loguniform(\"min_child_weight\", 1e-4, 100),\n",
            "<ipython-input-93-22c9a6b91acf>:7: FutureWarning: suggest_loguniform has been deprecated in v3.0.0. This feature will be removed in v6.0.0. See https://github.com/optuna/optuna/releases/tag/v3.0.0. Use suggest_float(..., log=True) instead.\n",
            "  \"reg_lambda\": trial.suggest_loguniform(\"reg_lambda\", 1e-6, 10),\n",
            "<ipython-input-93-22c9a6b91acf>:8: FutureWarning: suggest_loguniform has been deprecated in v3.0.0. This feature will be removed in v6.0.0. See https://github.com/optuna/optuna/releases/tag/v3.0.0. Use suggest_float(..., log=True) instead.\n",
            "  \"reg_alpha\": trial.suggest_loguniform(\"reg_alpha\", 1e-6, 10),\n",
            "<ipython-input-93-22c9a6b91acf>:11: FutureWarning: suggest_loguniform has been deprecated in v3.0.0. This feature will be removed in v6.0.0. See https://github.com/optuna/optuna/releases/tag/v3.0.0. Use suggest_float(..., log=True) instead.\n",
            "  \"learning_rate\": trial.suggest_loguniform('learning_rate', 1e-2, 1.0),\n",
            "<ipython-input-93-22c9a6b91acf>:13: FutureWarning: suggest_loguniform has been deprecated in v3.0.0. This feature will be removed in v6.0.0. See https://github.com/optuna/optuna/releases/tag/v3.0.0. Use suggest_float(..., log=True) instead.\n",
            "  \"min_child_weight\": trial.suggest_loguniform(\"min_child_weight\", 1e-4, 100),\n",
            "<ipython-input-93-22c9a6b91acf>:7: FutureWarning: suggest_loguniform has been deprecated in v3.0.0. This feature will be removed in v6.0.0. See https://github.com/optuna/optuna/releases/tag/v3.0.0. Use suggest_float(..., log=True) instead.\n",
            "  \"reg_lambda\": trial.suggest_loguniform(\"reg_lambda\", 1e-6, 10),\n",
            "<ipython-input-93-22c9a6b91acf>:8: FutureWarning: suggest_loguniform has been deprecated in v3.0.0. This feature will be removed in v6.0.0. See https://github.com/optuna/optuna/releases/tag/v3.0.0. Use suggest_float(..., log=True) instead.\n",
            "  \"reg_alpha\": trial.suggest_loguniform(\"reg_alpha\", 1e-6, 10),\n",
            "<ipython-input-93-22c9a6b91acf>:11: FutureWarning: suggest_loguniform has been deprecated in v3.0.0. This feature will be removed in v6.0.0. See https://github.com/optuna/optuna/releases/tag/v3.0.0. Use suggest_float(..., log=True) instead.\n",
            "  \"learning_rate\": trial.suggest_loguniform('learning_rate', 1e-2, 1.0),\n",
            "<ipython-input-93-22c9a6b91acf>:13: FutureWarning: suggest_loguniform has been deprecated in v3.0.0. This feature will be removed in v6.0.0. See https://github.com/optuna/optuna/releases/tag/v3.0.0. Use suggest_float(..., log=True) instead.\n",
            "  \"min_child_weight\": trial.suggest_loguniform(\"min_child_weight\", 1e-4, 100),\n",
            "<ipython-input-93-22c9a6b91acf>:7: FutureWarning: suggest_loguniform has been deprecated in v3.0.0. This feature will be removed in v6.0.0. See https://github.com/optuna/optuna/releases/tag/v3.0.0. Use suggest_float(..., log=True) instead.\n",
            "  \"reg_lambda\": trial.suggest_loguniform(\"reg_lambda\", 1e-6, 10),\n",
            "<ipython-input-93-22c9a6b91acf>:8: FutureWarning: suggest_loguniform has been deprecated in v3.0.0. This feature will be removed in v6.0.0. See https://github.com/optuna/optuna/releases/tag/v3.0.0. Use suggest_float(..., log=True) instead.\n",
            "  \"reg_alpha\": trial.suggest_loguniform(\"reg_alpha\", 1e-6, 10),\n",
            "<ipython-input-93-22c9a6b91acf>:11: FutureWarning: suggest_loguniform has been deprecated in v3.0.0. This feature will be removed in v6.0.0. See https://github.com/optuna/optuna/releases/tag/v3.0.0. Use suggest_float(..., log=True) instead.\n",
            "  \"learning_rate\": trial.suggest_loguniform('learning_rate', 1e-2, 1.0),\n",
            "<ipython-input-93-22c9a6b91acf>:13: FutureWarning: suggest_loguniform has been deprecated in v3.0.0. This feature will be removed in v6.0.0. See https://github.com/optuna/optuna/releases/tag/v3.0.0. Use suggest_float(..., log=True) instead.\n",
            "  \"min_child_weight\": trial.suggest_loguniform(\"min_child_weight\", 1e-4, 100),\n",
            "<ipython-input-93-22c9a6b91acf>:7: FutureWarning: suggest_loguniform has been deprecated in v3.0.0. This feature will be removed in v6.0.0. See https://github.com/optuna/optuna/releases/tag/v3.0.0. Use suggest_float(..., log=True) instead.\n",
            "  \"reg_lambda\": trial.suggest_loguniform(\"reg_lambda\", 1e-6, 10),\n",
            "<ipython-input-93-22c9a6b91acf>:8: FutureWarning: suggest_loguniform has been deprecated in v3.0.0. This feature will be removed in v6.0.0. See https://github.com/optuna/optuna/releases/tag/v3.0.0. Use suggest_float(..., log=True) instead.\n",
            "  \"reg_alpha\": trial.suggest_loguniform(\"reg_alpha\", 1e-6, 10),\n",
            "<ipython-input-93-22c9a6b91acf>:11: FutureWarning: suggest_loguniform has been deprecated in v3.0.0. This feature will be removed in v6.0.0. See https://github.com/optuna/optuna/releases/tag/v3.0.0. Use suggest_float(..., log=True) instead.\n",
            "  \"learning_rate\": trial.suggest_loguniform('learning_rate', 1e-2, 1.0),\n",
            "<ipython-input-93-22c9a6b91acf>:13: FutureWarning: suggest_loguniform has been deprecated in v3.0.0. This feature will be removed in v6.0.0. See https://github.com/optuna/optuna/releases/tag/v3.0.0. Use suggest_float(..., log=True) instead.\n",
            "  \"min_child_weight\": trial.suggest_loguniform(\"min_child_weight\", 1e-4, 100),\n",
            "<ipython-input-93-22c9a6b91acf>:7: FutureWarning: suggest_loguniform has been deprecated in v3.0.0. This feature will be removed in v6.0.0. See https://github.com/optuna/optuna/releases/tag/v3.0.0. Use suggest_float(..., log=True) instead.\n",
            "  \"reg_lambda\": trial.suggest_loguniform(\"reg_lambda\", 1e-6, 10),\n",
            "<ipython-input-93-22c9a6b91acf>:8: FutureWarning: suggest_loguniform has been deprecated in v3.0.0. This feature will be removed in v6.0.0. See https://github.com/optuna/optuna/releases/tag/v3.0.0. Use suggest_float(..., log=True) instead.\n",
            "  \"reg_alpha\": trial.suggest_loguniform(\"reg_alpha\", 1e-6, 10),\n",
            "<ipython-input-93-22c9a6b91acf>:11: FutureWarning: suggest_loguniform has been deprecated in v3.0.0. This feature will be removed in v6.0.0. See https://github.com/optuna/optuna/releases/tag/v3.0.0. Use suggest_float(..., log=True) instead.\n",
            "  \"learning_rate\": trial.suggest_loguniform('learning_rate', 1e-2, 1.0),\n",
            "<ipython-input-93-22c9a6b91acf>:13: FutureWarning: suggest_loguniform has been deprecated in v3.0.0. This feature will be removed in v6.0.0. See https://github.com/optuna/optuna/releases/tag/v3.0.0. Use suggest_float(..., log=True) instead.\n",
            "  \"min_child_weight\": trial.suggest_loguniform(\"min_child_weight\", 1e-4, 100),\n",
            "<ipython-input-93-22c9a6b91acf>:7: FutureWarning: suggest_loguniform has been deprecated in v3.0.0. This feature will be removed in v6.0.0. See https://github.com/optuna/optuna/releases/tag/v3.0.0. Use suggest_float(..., log=True) instead.\n",
            "  \"reg_lambda\": trial.suggest_loguniform(\"reg_lambda\", 1e-6, 10),\n",
            "<ipython-input-93-22c9a6b91acf>:8: FutureWarning: suggest_loguniform has been deprecated in v3.0.0. This feature will be removed in v6.0.0. See https://github.com/optuna/optuna/releases/tag/v3.0.0. Use suggest_float(..., log=True) instead.\n",
            "  \"reg_alpha\": trial.suggest_loguniform(\"reg_alpha\", 1e-6, 10),\n",
            "<ipython-input-93-22c9a6b91acf>:11: FutureWarning: suggest_loguniform has been deprecated in v3.0.0. This feature will be removed in v6.0.0. See https://github.com/optuna/optuna/releases/tag/v3.0.0. Use suggest_float(..., log=True) instead.\n",
            "  \"learning_rate\": trial.suggest_loguniform('learning_rate', 1e-2, 1.0),\n",
            "<ipython-input-93-22c9a6b91acf>:13: FutureWarning: suggest_loguniform has been deprecated in v3.0.0. This feature will be removed in v6.0.0. See https://github.com/optuna/optuna/releases/tag/v3.0.0. Use suggest_float(..., log=True) instead.\n",
            "  \"min_child_weight\": trial.suggest_loguniform(\"min_child_weight\", 1e-4, 100),\n",
            "<ipython-input-93-22c9a6b91acf>:7: FutureWarning: suggest_loguniform has been deprecated in v3.0.0. This feature will be removed in v6.0.0. See https://github.com/optuna/optuna/releases/tag/v3.0.0. Use suggest_float(..., log=True) instead.\n",
            "  \"reg_lambda\": trial.suggest_loguniform(\"reg_lambda\", 1e-6, 10),\n",
            "<ipython-input-93-22c9a6b91acf>:8: FutureWarning: suggest_loguniform has been deprecated in v3.0.0. This feature will be removed in v6.0.0. See https://github.com/optuna/optuna/releases/tag/v3.0.0. Use suggest_float(..., log=True) instead.\n",
            "  \"reg_alpha\": trial.suggest_loguniform(\"reg_alpha\", 1e-6, 10),\n",
            "<ipython-input-93-22c9a6b91acf>:11: FutureWarning: suggest_loguniform has been deprecated in v3.0.0. This feature will be removed in v6.0.0. See https://github.com/optuna/optuna/releases/tag/v3.0.0. Use suggest_float(..., log=True) instead.\n",
            "  \"learning_rate\": trial.suggest_loguniform('learning_rate', 1e-2, 1.0),\n",
            "<ipython-input-93-22c9a6b91acf>:13: FutureWarning: suggest_loguniform has been deprecated in v3.0.0. This feature will be removed in v6.0.0. See https://github.com/optuna/optuna/releases/tag/v3.0.0. Use suggest_float(..., log=True) instead.\n",
            "  \"min_child_weight\": trial.suggest_loguniform(\"min_child_weight\", 1e-4, 100),\n",
            "<ipython-input-93-22c9a6b91acf>:7: FutureWarning: suggest_loguniform has been deprecated in v3.0.0. This feature will be removed in v6.0.0. See https://github.com/optuna/optuna/releases/tag/v3.0.0. Use suggest_float(..., log=True) instead.\n",
            "  \"reg_lambda\": trial.suggest_loguniform(\"reg_lambda\", 1e-6, 10),\n",
            "<ipython-input-93-22c9a6b91acf>:8: FutureWarning: suggest_loguniform has been deprecated in v3.0.0. This feature will be removed in v6.0.0. See https://github.com/optuna/optuna/releases/tag/v3.0.0. Use suggest_float(..., log=True) instead.\n",
            "  \"reg_alpha\": trial.suggest_loguniform(\"reg_alpha\", 1e-6, 10),\n",
            "<ipython-input-93-22c9a6b91acf>:11: FutureWarning: suggest_loguniform has been deprecated in v3.0.0. This feature will be removed in v6.0.0. See https://github.com/optuna/optuna/releases/tag/v3.0.0. Use suggest_float(..., log=True) instead.\n",
            "  \"learning_rate\": trial.suggest_loguniform('learning_rate', 1e-2, 1.0),\n",
            "<ipython-input-93-22c9a6b91acf>:13: FutureWarning: suggest_loguniform has been deprecated in v3.0.0. This feature will be removed in v6.0.0. See https://github.com/optuna/optuna/releases/tag/v3.0.0. Use suggest_float(..., log=True) instead.\n",
            "  \"min_child_weight\": trial.suggest_loguniform(\"min_child_weight\", 1e-4, 100),\n",
            "<ipython-input-93-22c9a6b91acf>:7: FutureWarning: suggest_loguniform has been deprecated in v3.0.0. This feature will be removed in v6.0.0. See https://github.com/optuna/optuna/releases/tag/v3.0.0. Use suggest_float(..., log=True) instead.\n",
            "  \"reg_lambda\": trial.suggest_loguniform(\"reg_lambda\", 1e-6, 10),\n",
            "<ipython-input-93-22c9a6b91acf>:8: FutureWarning: suggest_loguniform has been deprecated in v3.0.0. This feature will be removed in v6.0.0. See https://github.com/optuna/optuna/releases/tag/v3.0.0. Use suggest_float(..., log=True) instead.\n",
            "  \"reg_alpha\": trial.suggest_loguniform(\"reg_alpha\", 1e-6, 10),\n",
            "<ipython-input-93-22c9a6b91acf>:11: FutureWarning: suggest_loguniform has been deprecated in v3.0.0. This feature will be removed in v6.0.0. See https://github.com/optuna/optuna/releases/tag/v3.0.0. Use suggest_float(..., log=True) instead.\n",
            "  \"learning_rate\": trial.suggest_loguniform('learning_rate', 1e-2, 1.0),\n",
            "<ipython-input-93-22c9a6b91acf>:13: FutureWarning: suggest_loguniform has been deprecated in v3.0.0. This feature will be removed in v6.0.0. See https://github.com/optuna/optuna/releases/tag/v3.0.0. Use suggest_float(..., log=True) instead.\n",
            "  \"min_child_weight\": trial.suggest_loguniform(\"min_child_weight\", 1e-4, 100),\n",
            "<ipython-input-93-22c9a6b91acf>:7: FutureWarning: suggest_loguniform has been deprecated in v3.0.0. This feature will be removed in v6.0.0. See https://github.com/optuna/optuna/releases/tag/v3.0.0. Use suggest_float(..., log=True) instead.\n",
            "  \"reg_lambda\": trial.suggest_loguniform(\"reg_lambda\", 1e-6, 10),\n",
            "<ipython-input-93-22c9a6b91acf>:8: FutureWarning: suggest_loguniform has been deprecated in v3.0.0. This feature will be removed in v6.0.0. See https://github.com/optuna/optuna/releases/tag/v3.0.0. Use suggest_float(..., log=True) instead.\n",
            "  \"reg_alpha\": trial.suggest_loguniform(\"reg_alpha\", 1e-6, 10),\n",
            "<ipython-input-93-22c9a6b91acf>:11: FutureWarning: suggest_loguniform has been deprecated in v3.0.0. This feature will be removed in v6.0.0. See https://github.com/optuna/optuna/releases/tag/v3.0.0. Use suggest_float(..., log=True) instead.\n",
            "  \"learning_rate\": trial.suggest_loguniform('learning_rate', 1e-2, 1.0),\n",
            "<ipython-input-93-22c9a6b91acf>:13: FutureWarning: suggest_loguniform has been deprecated in v3.0.0. This feature will be removed in v6.0.0. See https://github.com/optuna/optuna/releases/tag/v3.0.0. Use suggest_float(..., log=True) instead.\n",
            "  \"min_child_weight\": trial.suggest_loguniform(\"min_child_weight\", 1e-4, 100),\n",
            "<ipython-input-93-22c9a6b91acf>:7: FutureWarning: suggest_loguniform has been deprecated in v3.0.0. This feature will be removed in v6.0.0. See https://github.com/optuna/optuna/releases/tag/v3.0.0. Use suggest_float(..., log=True) instead.\n",
            "  \"reg_lambda\": trial.suggest_loguniform(\"reg_lambda\", 1e-6, 10),\n",
            "<ipython-input-93-22c9a6b91acf>:8: FutureWarning: suggest_loguniform has been deprecated in v3.0.0. This feature will be removed in v6.0.0. See https://github.com/optuna/optuna/releases/tag/v3.0.0. Use suggest_float(..., log=True) instead.\n",
            "  \"reg_alpha\": trial.suggest_loguniform(\"reg_alpha\", 1e-6, 10),\n",
            "<ipython-input-93-22c9a6b91acf>:11: FutureWarning: suggest_loguniform has been deprecated in v3.0.0. This feature will be removed in v6.0.0. See https://github.com/optuna/optuna/releases/tag/v3.0.0. Use suggest_float(..., log=True) instead.\n",
            "  \"learning_rate\": trial.suggest_loguniform('learning_rate', 1e-2, 1.0),\n",
            "<ipython-input-93-22c9a6b91acf>:13: FutureWarning: suggest_loguniform has been deprecated in v3.0.0. This feature will be removed in v6.0.0. See https://github.com/optuna/optuna/releases/tag/v3.0.0. Use suggest_float(..., log=True) instead.\n",
            "  \"min_child_weight\": trial.suggest_loguniform(\"min_child_weight\", 1e-4, 100),\n",
            "<ipython-input-93-22c9a6b91acf>:7: FutureWarning: suggest_loguniform has been deprecated in v3.0.0. This feature will be removed in v6.0.0. See https://github.com/optuna/optuna/releases/tag/v3.0.0. Use suggest_float(..., log=True) instead.\n",
            "  \"reg_lambda\": trial.suggest_loguniform(\"reg_lambda\", 1e-6, 10),\n",
            "<ipython-input-93-22c9a6b91acf>:8: FutureWarning: suggest_loguniform has been deprecated in v3.0.0. This feature will be removed in v6.0.0. See https://github.com/optuna/optuna/releases/tag/v3.0.0. Use suggest_float(..., log=True) instead.\n",
            "  \"reg_alpha\": trial.suggest_loguniform(\"reg_alpha\", 1e-6, 10),\n",
            "<ipython-input-93-22c9a6b91acf>:11: FutureWarning: suggest_loguniform has been deprecated in v3.0.0. This feature will be removed in v6.0.0. See https://github.com/optuna/optuna/releases/tag/v3.0.0. Use suggest_float(..., log=True) instead.\n",
            "  \"learning_rate\": trial.suggest_loguniform('learning_rate', 1e-2, 1.0),\n",
            "<ipython-input-93-22c9a6b91acf>:13: FutureWarning: suggest_loguniform has been deprecated in v3.0.0. This feature will be removed in v6.0.0. See https://github.com/optuna/optuna/releases/tag/v3.0.0. Use suggest_float(..., log=True) instead.\n",
            "  \"min_child_weight\": trial.suggest_loguniform(\"min_child_weight\", 1e-4, 100),\n",
            "<ipython-input-93-22c9a6b91acf>:7: FutureWarning: suggest_loguniform has been deprecated in v3.0.0. This feature will be removed in v6.0.0. See https://github.com/optuna/optuna/releases/tag/v3.0.0. Use suggest_float(..., log=True) instead.\n",
            "  \"reg_lambda\": trial.suggest_loguniform(\"reg_lambda\", 1e-6, 10),\n",
            "<ipython-input-93-22c9a6b91acf>:8: FutureWarning: suggest_loguniform has been deprecated in v3.0.0. This feature will be removed in v6.0.0. See https://github.com/optuna/optuna/releases/tag/v3.0.0. Use suggest_float(..., log=True) instead.\n",
            "  \"reg_alpha\": trial.suggest_loguniform(\"reg_alpha\", 1e-6, 10),\n",
            "<ipython-input-93-22c9a6b91acf>:11: FutureWarning: suggest_loguniform has been deprecated in v3.0.0. This feature will be removed in v6.0.0. See https://github.com/optuna/optuna/releases/tag/v3.0.0. Use suggest_float(..., log=True) instead.\n",
            "  \"learning_rate\": trial.suggest_loguniform('learning_rate', 1e-2, 1.0),\n",
            "<ipython-input-93-22c9a6b91acf>:13: FutureWarning: suggest_loguniform has been deprecated in v3.0.0. This feature will be removed in v6.0.0. See https://github.com/optuna/optuna/releases/tag/v3.0.0. Use suggest_float(..., log=True) instead.\n",
            "  \"min_child_weight\": trial.suggest_loguniform(\"min_child_weight\", 1e-4, 100),\n",
            "<ipython-input-93-22c9a6b91acf>:7: FutureWarning: suggest_loguniform has been deprecated in v3.0.0. This feature will be removed in v6.0.0. See https://github.com/optuna/optuna/releases/tag/v3.0.0. Use suggest_float(..., log=True) instead.\n",
            "  \"reg_lambda\": trial.suggest_loguniform(\"reg_lambda\", 1e-6, 10),\n",
            "<ipython-input-93-22c9a6b91acf>:8: FutureWarning: suggest_loguniform has been deprecated in v3.0.0. This feature will be removed in v6.0.0. See https://github.com/optuna/optuna/releases/tag/v3.0.0. Use suggest_float(..., log=True) instead.\n",
            "  \"reg_alpha\": trial.suggest_loguniform(\"reg_alpha\", 1e-6, 10),\n",
            "<ipython-input-93-22c9a6b91acf>:11: FutureWarning: suggest_loguniform has been deprecated in v3.0.0. This feature will be removed in v6.0.0. See https://github.com/optuna/optuna/releases/tag/v3.0.0. Use suggest_float(..., log=True) instead.\n",
            "  \"learning_rate\": trial.suggest_loguniform('learning_rate', 1e-2, 1.0),\n",
            "<ipython-input-93-22c9a6b91acf>:13: FutureWarning: suggest_loguniform has been deprecated in v3.0.0. This feature will be removed in v6.0.0. See https://github.com/optuna/optuna/releases/tag/v3.0.0. Use suggest_float(..., log=True) instead.\n",
            "  \"min_child_weight\": trial.suggest_loguniform(\"min_child_weight\", 1e-4, 100),\n",
            "<ipython-input-93-22c9a6b91acf>:7: FutureWarning: suggest_loguniform has been deprecated in v3.0.0. This feature will be removed in v6.0.0. See https://github.com/optuna/optuna/releases/tag/v3.0.0. Use suggest_float(..., log=True) instead.\n",
            "  \"reg_lambda\": trial.suggest_loguniform(\"reg_lambda\", 1e-6, 10),\n",
            "<ipython-input-93-22c9a6b91acf>:8: FutureWarning: suggest_loguniform has been deprecated in v3.0.0. This feature will be removed in v6.0.0. See https://github.com/optuna/optuna/releases/tag/v3.0.0. Use suggest_float(..., log=True) instead.\n",
            "  \"reg_alpha\": trial.suggest_loguniform(\"reg_alpha\", 1e-6, 10),\n",
            "<ipython-input-93-22c9a6b91acf>:11: FutureWarning: suggest_loguniform has been deprecated in v3.0.0. This feature will be removed in v6.0.0. See https://github.com/optuna/optuna/releases/tag/v3.0.0. Use suggest_float(..., log=True) instead.\n",
            "  \"learning_rate\": trial.suggest_loguniform('learning_rate', 1e-2, 1.0),\n",
            "<ipython-input-93-22c9a6b91acf>:13: FutureWarning: suggest_loguniform has been deprecated in v3.0.0. This feature will be removed in v6.0.0. See https://github.com/optuna/optuna/releases/tag/v3.0.0. Use suggest_float(..., log=True) instead.\n",
            "  \"min_child_weight\": trial.suggest_loguniform(\"min_child_weight\", 1e-4, 100),\n",
            "<ipython-input-93-22c9a6b91acf>:7: FutureWarning: suggest_loguniform has been deprecated in v3.0.0. This feature will be removed in v6.0.0. See https://github.com/optuna/optuna/releases/tag/v3.0.0. Use suggest_float(..., log=True) instead.\n",
            "  \"reg_lambda\": trial.suggest_loguniform(\"reg_lambda\", 1e-6, 10),\n",
            "<ipython-input-93-22c9a6b91acf>:8: FutureWarning: suggest_loguniform has been deprecated in v3.0.0. This feature will be removed in v6.0.0. See https://github.com/optuna/optuna/releases/tag/v3.0.0. Use suggest_float(..., log=True) instead.\n",
            "  \"reg_alpha\": trial.suggest_loguniform(\"reg_alpha\", 1e-6, 10),\n",
            "<ipython-input-93-22c9a6b91acf>:11: FutureWarning: suggest_loguniform has been deprecated in v3.0.0. This feature will be removed in v6.0.0. See https://github.com/optuna/optuna/releases/tag/v3.0.0. Use suggest_float(..., log=True) instead.\n",
            "  \"learning_rate\": trial.suggest_loguniform('learning_rate', 1e-2, 1.0),\n",
            "<ipython-input-93-22c9a6b91acf>:13: FutureWarning: suggest_loguniform has been deprecated in v3.0.0. This feature will be removed in v6.0.0. See https://github.com/optuna/optuna/releases/tag/v3.0.0. Use suggest_float(..., log=True) instead.\n",
            "  \"min_child_weight\": trial.suggest_loguniform(\"min_child_weight\", 1e-4, 100),\n",
            "<ipython-input-93-22c9a6b91acf>:7: FutureWarning: suggest_loguniform has been deprecated in v3.0.0. This feature will be removed in v6.0.0. See https://github.com/optuna/optuna/releases/tag/v3.0.0. Use suggest_float(..., log=True) instead.\n",
            "  \"reg_lambda\": trial.suggest_loguniform(\"reg_lambda\", 1e-6, 10),\n",
            "<ipython-input-93-22c9a6b91acf>:8: FutureWarning: suggest_loguniform has been deprecated in v3.0.0. This feature will be removed in v6.0.0. See https://github.com/optuna/optuna/releases/tag/v3.0.0. Use suggest_float(..., log=True) instead.\n",
            "  \"reg_alpha\": trial.suggest_loguniform(\"reg_alpha\", 1e-6, 10),\n",
            "<ipython-input-93-22c9a6b91acf>:11: FutureWarning: suggest_loguniform has been deprecated in v3.0.0. This feature will be removed in v6.0.0. See https://github.com/optuna/optuna/releases/tag/v3.0.0. Use suggest_float(..., log=True) instead.\n",
            "  \"learning_rate\": trial.suggest_loguniform('learning_rate', 1e-2, 1.0),\n",
            "<ipython-input-93-22c9a6b91acf>:13: FutureWarning: suggest_loguniform has been deprecated in v3.0.0. This feature will be removed in v6.0.0. See https://github.com/optuna/optuna/releases/tag/v3.0.0. Use suggest_float(..., log=True) instead.\n",
            "  \"min_child_weight\": trial.suggest_loguniform(\"min_child_weight\", 1e-4, 100),\n",
            "<ipython-input-93-22c9a6b91acf>:7: FutureWarning: suggest_loguniform has been deprecated in v3.0.0. This feature will be removed in v6.0.0. See https://github.com/optuna/optuna/releases/tag/v3.0.0. Use suggest_float(..., log=True) instead.\n",
            "  \"reg_lambda\": trial.suggest_loguniform(\"reg_lambda\", 1e-6, 10),\n",
            "<ipython-input-93-22c9a6b91acf>:8: FutureWarning: suggest_loguniform has been deprecated in v3.0.0. This feature will be removed in v6.0.0. See https://github.com/optuna/optuna/releases/tag/v3.0.0. Use suggest_float(..., log=True) instead.\n",
            "  \"reg_alpha\": trial.suggest_loguniform(\"reg_alpha\", 1e-6, 10),\n",
            "<ipython-input-93-22c9a6b91acf>:11: FutureWarning: suggest_loguniform has been deprecated in v3.0.0. This feature will be removed in v6.0.0. See https://github.com/optuna/optuna/releases/tag/v3.0.0. Use suggest_float(..., log=True) instead.\n",
            "  \"learning_rate\": trial.suggest_loguniform('learning_rate', 1e-2, 1.0),\n",
            "<ipython-input-93-22c9a6b91acf>:13: FutureWarning: suggest_loguniform has been deprecated in v3.0.0. This feature will be removed in v6.0.0. See https://github.com/optuna/optuna/releases/tag/v3.0.0. Use suggest_float(..., log=True) instead.\n",
            "  \"min_child_weight\": trial.suggest_loguniform(\"min_child_weight\", 1e-4, 100),\n",
            "<ipython-input-93-22c9a6b91acf>:7: FutureWarning: suggest_loguniform has been deprecated in v3.0.0. This feature will be removed in v6.0.0. See https://github.com/optuna/optuna/releases/tag/v3.0.0. Use suggest_float(..., log=True) instead.\n",
            "  \"reg_lambda\": trial.suggest_loguniform(\"reg_lambda\", 1e-6, 10),\n",
            "<ipython-input-93-22c9a6b91acf>:8: FutureWarning: suggest_loguniform has been deprecated in v3.0.0. This feature will be removed in v6.0.0. See https://github.com/optuna/optuna/releases/tag/v3.0.0. Use suggest_float(..., log=True) instead.\n",
            "  \"reg_alpha\": trial.suggest_loguniform(\"reg_alpha\", 1e-6, 10),\n",
            "<ipython-input-93-22c9a6b91acf>:11: FutureWarning: suggest_loguniform has been deprecated in v3.0.0. This feature will be removed in v6.0.0. See https://github.com/optuna/optuna/releases/tag/v3.0.0. Use suggest_float(..., log=True) instead.\n",
            "  \"learning_rate\": trial.suggest_loguniform('learning_rate', 1e-2, 1.0),\n",
            "<ipython-input-93-22c9a6b91acf>:13: FutureWarning: suggest_loguniform has been deprecated in v3.0.0. This feature will be removed in v6.0.0. See https://github.com/optuna/optuna/releases/tag/v3.0.0. Use suggest_float(..., log=True) instead.\n",
            "  \"min_child_weight\": trial.suggest_loguniform(\"min_child_weight\", 1e-4, 100),\n",
            "<ipython-input-93-22c9a6b91acf>:7: FutureWarning: suggest_loguniform has been deprecated in v3.0.0. This feature will be removed in v6.0.0. See https://github.com/optuna/optuna/releases/tag/v3.0.0. Use suggest_float(..., log=True) instead.\n",
            "  \"reg_lambda\": trial.suggest_loguniform(\"reg_lambda\", 1e-6, 10),\n",
            "<ipython-input-93-22c9a6b91acf>:8: FutureWarning: suggest_loguniform has been deprecated in v3.0.0. This feature will be removed in v6.0.0. See https://github.com/optuna/optuna/releases/tag/v3.0.0. Use suggest_float(..., log=True) instead.\n",
            "  \"reg_alpha\": trial.suggest_loguniform(\"reg_alpha\", 1e-6, 10),\n",
            "<ipython-input-93-22c9a6b91acf>:11: FutureWarning: suggest_loguniform has been deprecated in v3.0.0. This feature will be removed in v6.0.0. See https://github.com/optuna/optuna/releases/tag/v3.0.0. Use suggest_float(..., log=True) instead.\n",
            "  \"learning_rate\": trial.suggest_loguniform('learning_rate', 1e-2, 1.0),\n",
            "<ipython-input-93-22c9a6b91acf>:13: FutureWarning: suggest_loguniform has been deprecated in v3.0.0. This feature will be removed in v6.0.0. See https://github.com/optuna/optuna/releases/tag/v3.0.0. Use suggest_float(..., log=True) instead.\n",
            "  \"min_child_weight\": trial.suggest_loguniform(\"min_child_weight\", 1e-4, 100),\n",
            "<ipython-input-93-22c9a6b91acf>:7: FutureWarning: suggest_loguniform has been deprecated in v3.0.0. This feature will be removed in v6.0.0. See https://github.com/optuna/optuna/releases/tag/v3.0.0. Use suggest_float(..., log=True) instead.\n",
            "  \"reg_lambda\": trial.suggest_loguniform(\"reg_lambda\", 1e-6, 10),\n",
            "<ipython-input-93-22c9a6b91acf>:8: FutureWarning: suggest_loguniform has been deprecated in v3.0.0. This feature will be removed in v6.0.0. See https://github.com/optuna/optuna/releases/tag/v3.0.0. Use suggest_float(..., log=True) instead.\n",
            "  \"reg_alpha\": trial.suggest_loguniform(\"reg_alpha\", 1e-6, 10),\n",
            "<ipython-input-93-22c9a6b91acf>:11: FutureWarning: suggest_loguniform has been deprecated in v3.0.0. This feature will be removed in v6.0.0. See https://github.com/optuna/optuna/releases/tag/v3.0.0. Use suggest_float(..., log=True) instead.\n",
            "  \"learning_rate\": trial.suggest_loguniform('learning_rate', 1e-2, 1.0),\n",
            "<ipython-input-93-22c9a6b91acf>:13: FutureWarning: suggest_loguniform has been deprecated in v3.0.0. This feature will be removed in v6.0.0. See https://github.com/optuna/optuna/releases/tag/v3.0.0. Use suggest_float(..., log=True) instead.\n",
            "  \"min_child_weight\": trial.suggest_loguniform(\"min_child_weight\", 1e-4, 100),\n",
            "<ipython-input-93-22c9a6b91acf>:7: FutureWarning: suggest_loguniform has been deprecated in v3.0.0. This feature will be removed in v6.0.0. See https://github.com/optuna/optuna/releases/tag/v3.0.0. Use suggest_float(..., log=True) instead.\n",
            "  \"reg_lambda\": trial.suggest_loguniform(\"reg_lambda\", 1e-6, 10),\n",
            "<ipython-input-93-22c9a6b91acf>:8: FutureWarning: suggest_loguniform has been deprecated in v3.0.0. This feature will be removed in v6.0.0. See https://github.com/optuna/optuna/releases/tag/v3.0.0. Use suggest_float(..., log=True) instead.\n",
            "  \"reg_alpha\": trial.suggest_loguniform(\"reg_alpha\", 1e-6, 10),\n",
            "<ipython-input-93-22c9a6b91acf>:11: FutureWarning: suggest_loguniform has been deprecated in v3.0.0. This feature will be removed in v6.0.0. See https://github.com/optuna/optuna/releases/tag/v3.0.0. Use suggest_float(..., log=True) instead.\n",
            "  \"learning_rate\": trial.suggest_loguniform('learning_rate', 1e-2, 1.0),\n",
            "<ipython-input-93-22c9a6b91acf>:13: FutureWarning: suggest_loguniform has been deprecated in v3.0.0. This feature will be removed in v6.0.0. See https://github.com/optuna/optuna/releases/tag/v3.0.0. Use suggest_float(..., log=True) instead.\n",
            "  \"min_child_weight\": trial.suggest_loguniform(\"min_child_weight\", 1e-4, 100),\n",
            "<ipython-input-93-22c9a6b91acf>:7: FutureWarning: suggest_loguniform has been deprecated in v3.0.0. This feature will be removed in v6.0.0. See https://github.com/optuna/optuna/releases/tag/v3.0.0. Use suggest_float(..., log=True) instead.\n",
            "  \"reg_lambda\": trial.suggest_loguniform(\"reg_lambda\", 1e-6, 10),\n",
            "<ipython-input-93-22c9a6b91acf>:8: FutureWarning: suggest_loguniform has been deprecated in v3.0.0. This feature will be removed in v6.0.0. See https://github.com/optuna/optuna/releases/tag/v3.0.0. Use suggest_float(..., log=True) instead.\n",
            "  \"reg_alpha\": trial.suggest_loguniform(\"reg_alpha\", 1e-6, 10),\n",
            "<ipython-input-93-22c9a6b91acf>:11: FutureWarning: suggest_loguniform has been deprecated in v3.0.0. This feature will be removed in v6.0.0. See https://github.com/optuna/optuna/releases/tag/v3.0.0. Use suggest_float(..., log=True) instead.\n",
            "  \"learning_rate\": trial.suggest_loguniform('learning_rate', 1e-2, 1.0),\n",
            "<ipython-input-93-22c9a6b91acf>:13: FutureWarning: suggest_loguniform has been deprecated in v3.0.0. This feature will be removed in v6.0.0. See https://github.com/optuna/optuna/releases/tag/v3.0.0. Use suggest_float(..., log=True) instead.\n",
            "  \"min_child_weight\": trial.suggest_loguniform(\"min_child_weight\", 1e-4, 100),\n",
            "<ipython-input-93-22c9a6b91acf>:7: FutureWarning: suggest_loguniform has been deprecated in v3.0.0. This feature will be removed in v6.0.0. See https://github.com/optuna/optuna/releases/tag/v3.0.0. Use suggest_float(..., log=True) instead.\n",
            "  \"reg_lambda\": trial.suggest_loguniform(\"reg_lambda\", 1e-6, 10),\n",
            "<ipython-input-93-22c9a6b91acf>:8: FutureWarning: suggest_loguniform has been deprecated in v3.0.0. This feature will be removed in v6.0.0. See https://github.com/optuna/optuna/releases/tag/v3.0.0. Use suggest_float(..., log=True) instead.\n",
            "  \"reg_alpha\": trial.suggest_loguniform(\"reg_alpha\", 1e-6, 10),\n",
            "<ipython-input-93-22c9a6b91acf>:11: FutureWarning: suggest_loguniform has been deprecated in v3.0.0. This feature will be removed in v6.0.0. See https://github.com/optuna/optuna/releases/tag/v3.0.0. Use suggest_float(..., log=True) instead.\n",
            "  \"learning_rate\": trial.suggest_loguniform('learning_rate', 1e-2, 1.0),\n",
            "<ipython-input-93-22c9a6b91acf>:13: FutureWarning: suggest_loguniform has been deprecated in v3.0.0. This feature will be removed in v6.0.0. See https://github.com/optuna/optuna/releases/tag/v3.0.0. Use suggest_float(..., log=True) instead.\n",
            "  \"min_child_weight\": trial.suggest_loguniform(\"min_child_weight\", 1e-4, 100),\n",
            "<ipython-input-93-22c9a6b91acf>:7: FutureWarning: suggest_loguniform has been deprecated in v3.0.0. This feature will be removed in v6.0.0. See https://github.com/optuna/optuna/releases/tag/v3.0.0. Use suggest_float(..., log=True) instead.\n",
            "  \"reg_lambda\": trial.suggest_loguniform(\"reg_lambda\", 1e-6, 10),\n",
            "<ipython-input-93-22c9a6b91acf>:8: FutureWarning: suggest_loguniform has been deprecated in v3.0.0. This feature will be removed in v6.0.0. See https://github.com/optuna/optuna/releases/tag/v3.0.0. Use suggest_float(..., log=True) instead.\n",
            "  \"reg_alpha\": trial.suggest_loguniform(\"reg_alpha\", 1e-6, 10),\n",
            "<ipython-input-93-22c9a6b91acf>:11: FutureWarning: suggest_loguniform has been deprecated in v3.0.0. This feature will be removed in v6.0.0. See https://github.com/optuna/optuna/releases/tag/v3.0.0. Use suggest_float(..., log=True) instead.\n",
            "  \"learning_rate\": trial.suggest_loguniform('learning_rate', 1e-2, 1.0),\n",
            "<ipython-input-93-22c9a6b91acf>:13: FutureWarning: suggest_loguniform has been deprecated in v3.0.0. This feature will be removed in v6.0.0. See https://github.com/optuna/optuna/releases/tag/v3.0.0. Use suggest_float(..., log=True) instead.\n",
            "  \"min_child_weight\": trial.suggest_loguniform(\"min_child_weight\", 1e-4, 100),\n",
            "<ipython-input-93-22c9a6b91acf>:7: FutureWarning: suggest_loguniform has been deprecated in v3.0.0. This feature will be removed in v6.0.0. See https://github.com/optuna/optuna/releases/tag/v3.0.0. Use suggest_float(..., log=True) instead.\n",
            "  \"reg_lambda\": trial.suggest_loguniform(\"reg_lambda\", 1e-6, 10),\n",
            "<ipython-input-93-22c9a6b91acf>:8: FutureWarning: suggest_loguniform has been deprecated in v3.0.0. This feature will be removed in v6.0.0. See https://github.com/optuna/optuna/releases/tag/v3.0.0. Use suggest_float(..., log=True) instead.\n",
            "  \"reg_alpha\": trial.suggest_loguniform(\"reg_alpha\", 1e-6, 10),\n",
            "<ipython-input-93-22c9a6b91acf>:11: FutureWarning: suggest_loguniform has been deprecated in v3.0.0. This feature will be removed in v6.0.0. See https://github.com/optuna/optuna/releases/tag/v3.0.0. Use suggest_float(..., log=True) instead.\n",
            "  \"learning_rate\": trial.suggest_loguniform('learning_rate', 1e-2, 1.0),\n",
            "<ipython-input-93-22c9a6b91acf>:13: FutureWarning: suggest_loguniform has been deprecated in v3.0.0. This feature will be removed in v6.0.0. See https://github.com/optuna/optuna/releases/tag/v3.0.0. Use suggest_float(..., log=True) instead.\n",
            "  \"min_child_weight\": trial.suggest_loguniform(\"min_child_weight\", 1e-4, 100),\n",
            "<ipython-input-93-22c9a6b91acf>:7: FutureWarning: suggest_loguniform has been deprecated in v3.0.0. This feature will be removed in v6.0.0. See https://github.com/optuna/optuna/releases/tag/v3.0.0. Use suggest_float(..., log=True) instead.\n",
            "  \"reg_lambda\": trial.suggest_loguniform(\"reg_lambda\", 1e-6, 10),\n",
            "<ipython-input-93-22c9a6b91acf>:8: FutureWarning: suggest_loguniform has been deprecated in v3.0.0. This feature will be removed in v6.0.0. See https://github.com/optuna/optuna/releases/tag/v3.0.0. Use suggest_float(..., log=True) instead.\n",
            "  \"reg_alpha\": trial.suggest_loguniform(\"reg_alpha\", 1e-6, 10),\n",
            "<ipython-input-93-22c9a6b91acf>:11: FutureWarning: suggest_loguniform has been deprecated in v3.0.0. This feature will be removed in v6.0.0. See https://github.com/optuna/optuna/releases/tag/v3.0.0. Use suggest_float(..., log=True) instead.\n",
            "  \"learning_rate\": trial.suggest_loguniform('learning_rate', 1e-2, 1.0),\n",
            "<ipython-input-93-22c9a6b91acf>:13: FutureWarning: suggest_loguniform has been deprecated in v3.0.0. This feature will be removed in v6.0.0. See https://github.com/optuna/optuna/releases/tag/v3.0.0. Use suggest_float(..., log=True) instead.\n",
            "  \"min_child_weight\": trial.suggest_loguniform(\"min_child_weight\", 1e-4, 100),\n",
            "<ipython-input-93-22c9a6b91acf>:7: FutureWarning: suggest_loguniform has been deprecated in v3.0.0. This feature will be removed in v6.0.0. See https://github.com/optuna/optuna/releases/tag/v3.0.0. Use suggest_float(..., log=True) instead.\n",
            "  \"reg_lambda\": trial.suggest_loguniform(\"reg_lambda\", 1e-6, 10),\n",
            "<ipython-input-93-22c9a6b91acf>:8: FutureWarning: suggest_loguniform has been deprecated in v3.0.0. This feature will be removed in v6.0.0. See https://github.com/optuna/optuna/releases/tag/v3.0.0. Use suggest_float(..., log=True) instead.\n",
            "  \"reg_alpha\": trial.suggest_loguniform(\"reg_alpha\", 1e-6, 10),\n",
            "<ipython-input-93-22c9a6b91acf>:11: FutureWarning: suggest_loguniform has been deprecated in v3.0.0. This feature will be removed in v6.0.0. See https://github.com/optuna/optuna/releases/tag/v3.0.0. Use suggest_float(..., log=True) instead.\n",
            "  \"learning_rate\": trial.suggest_loguniform('learning_rate', 1e-2, 1.0),\n",
            "<ipython-input-93-22c9a6b91acf>:13: FutureWarning: suggest_loguniform has been deprecated in v3.0.0. This feature will be removed in v6.0.0. See https://github.com/optuna/optuna/releases/tag/v3.0.0. Use suggest_float(..., log=True) instead.\n",
            "  \"min_child_weight\": trial.suggest_loguniform(\"min_child_weight\", 1e-4, 100),\n",
            "<ipython-input-93-22c9a6b91acf>:7: FutureWarning: suggest_loguniform has been deprecated in v3.0.0. This feature will be removed in v6.0.0. See https://github.com/optuna/optuna/releases/tag/v3.0.0. Use suggest_float(..., log=True) instead.\n",
            "  \"reg_lambda\": trial.suggest_loguniform(\"reg_lambda\", 1e-6, 10),\n",
            "<ipython-input-93-22c9a6b91acf>:8: FutureWarning: suggest_loguniform has been deprecated in v3.0.0. This feature will be removed in v6.0.0. See https://github.com/optuna/optuna/releases/tag/v3.0.0. Use suggest_float(..., log=True) instead.\n",
            "  \"reg_alpha\": trial.suggest_loguniform(\"reg_alpha\", 1e-6, 10),\n",
            "<ipython-input-93-22c9a6b91acf>:11: FutureWarning: suggest_loguniform has been deprecated in v3.0.0. This feature will be removed in v6.0.0. See https://github.com/optuna/optuna/releases/tag/v3.0.0. Use suggest_float(..., log=True) instead.\n",
            "  \"learning_rate\": trial.suggest_loguniform('learning_rate', 1e-2, 1.0),\n",
            "<ipython-input-93-22c9a6b91acf>:13: FutureWarning: suggest_loguniform has been deprecated in v3.0.0. This feature will be removed in v6.0.0. See https://github.com/optuna/optuna/releases/tag/v3.0.0. Use suggest_float(..., log=True) instead.\n",
            "  \"min_child_weight\": trial.suggest_loguniform(\"min_child_weight\", 1e-4, 100),\n",
            "<ipython-input-93-22c9a6b91acf>:7: FutureWarning: suggest_loguniform has been deprecated in v3.0.0. This feature will be removed in v6.0.0. See https://github.com/optuna/optuna/releases/tag/v3.0.0. Use suggest_float(..., log=True) instead.\n",
            "  \"reg_lambda\": trial.suggest_loguniform(\"reg_lambda\", 1e-6, 10),\n",
            "<ipython-input-93-22c9a6b91acf>:8: FutureWarning: suggest_loguniform has been deprecated in v3.0.0. This feature will be removed in v6.0.0. See https://github.com/optuna/optuna/releases/tag/v3.0.0. Use suggest_float(..., log=True) instead.\n",
            "  \"reg_alpha\": trial.suggest_loguniform(\"reg_alpha\", 1e-6, 10),\n",
            "<ipython-input-93-22c9a6b91acf>:11: FutureWarning: suggest_loguniform has been deprecated in v3.0.0. This feature will be removed in v6.0.0. See https://github.com/optuna/optuna/releases/tag/v3.0.0. Use suggest_float(..., log=True) instead.\n",
            "  \"learning_rate\": trial.suggest_loguniform('learning_rate', 1e-2, 1.0),\n",
            "<ipython-input-93-22c9a6b91acf>:13: FutureWarning: suggest_loguniform has been deprecated in v3.0.0. This feature will be removed in v6.0.0. See https://github.com/optuna/optuna/releases/tag/v3.0.0. Use suggest_float(..., log=True) instead.\n",
            "  \"min_child_weight\": trial.suggest_loguniform(\"min_child_weight\", 1e-4, 100),\n",
            "<ipython-input-93-22c9a6b91acf>:7: FutureWarning: suggest_loguniform has been deprecated in v3.0.0. This feature will be removed in v6.0.0. See https://github.com/optuna/optuna/releases/tag/v3.0.0. Use suggest_float(..., log=True) instead.\n",
            "  \"reg_lambda\": trial.suggest_loguniform(\"reg_lambda\", 1e-6, 10),\n",
            "<ipython-input-93-22c9a6b91acf>:8: FutureWarning: suggest_loguniform has been deprecated in v3.0.0. This feature will be removed in v6.0.0. See https://github.com/optuna/optuna/releases/tag/v3.0.0. Use suggest_float(..., log=True) instead.\n",
            "  \"reg_alpha\": trial.suggest_loguniform(\"reg_alpha\", 1e-6, 10),\n",
            "<ipython-input-93-22c9a6b91acf>:11: FutureWarning: suggest_loguniform has been deprecated in v3.0.0. This feature will be removed in v6.0.0. See https://github.com/optuna/optuna/releases/tag/v3.0.0. Use suggest_float(..., log=True) instead.\n",
            "  \"learning_rate\": trial.suggest_loguniform('learning_rate', 1e-2, 1.0),\n",
            "<ipython-input-93-22c9a6b91acf>:13: FutureWarning: suggest_loguniform has been deprecated in v3.0.0. This feature will be removed in v6.0.0. See https://github.com/optuna/optuna/releases/tag/v3.0.0. Use suggest_float(..., log=True) instead.\n",
            "  \"min_child_weight\": trial.suggest_loguniform(\"min_child_weight\", 1e-4, 100),\n",
            "<ipython-input-93-22c9a6b91acf>:7: FutureWarning: suggest_loguniform has been deprecated in v3.0.0. This feature will be removed in v6.0.0. See https://github.com/optuna/optuna/releases/tag/v3.0.0. Use suggest_float(..., log=True) instead.\n",
            "  \"reg_lambda\": trial.suggest_loguniform(\"reg_lambda\", 1e-6, 10),\n",
            "<ipython-input-93-22c9a6b91acf>:8: FutureWarning: suggest_loguniform has been deprecated in v3.0.0. This feature will be removed in v6.0.0. See https://github.com/optuna/optuna/releases/tag/v3.0.0. Use suggest_float(..., log=True) instead.\n",
            "  \"reg_alpha\": trial.suggest_loguniform(\"reg_alpha\", 1e-6, 10),\n",
            "<ipython-input-93-22c9a6b91acf>:11: FutureWarning: suggest_loguniform has been deprecated in v3.0.0. This feature will be removed in v6.0.0. See https://github.com/optuna/optuna/releases/tag/v3.0.0. Use suggest_float(..., log=True) instead.\n",
            "  \"learning_rate\": trial.suggest_loguniform('learning_rate', 1e-2, 1.0),\n",
            "<ipython-input-93-22c9a6b91acf>:13: FutureWarning: suggest_loguniform has been deprecated in v3.0.0. This feature will be removed in v6.0.0. See https://github.com/optuna/optuna/releases/tag/v3.0.0. Use suggest_float(..., log=True) instead.\n",
            "  \"min_child_weight\": trial.suggest_loguniform(\"min_child_weight\", 1e-4, 100),\n",
            "<ipython-input-93-22c9a6b91acf>:7: FutureWarning: suggest_loguniform has been deprecated in v3.0.0. This feature will be removed in v6.0.0. See https://github.com/optuna/optuna/releases/tag/v3.0.0. Use suggest_float(..., log=True) instead.\n",
            "  \"reg_lambda\": trial.suggest_loguniform(\"reg_lambda\", 1e-6, 10),\n",
            "<ipython-input-93-22c9a6b91acf>:8: FutureWarning: suggest_loguniform has been deprecated in v3.0.0. This feature will be removed in v6.0.0. See https://github.com/optuna/optuna/releases/tag/v3.0.0. Use suggest_float(..., log=True) instead.\n",
            "  \"reg_alpha\": trial.suggest_loguniform(\"reg_alpha\", 1e-6, 10),\n",
            "<ipython-input-93-22c9a6b91acf>:11: FutureWarning: suggest_loguniform has been deprecated in v3.0.0. This feature will be removed in v6.0.0. See https://github.com/optuna/optuna/releases/tag/v3.0.0. Use suggest_float(..., log=True) instead.\n",
            "  \"learning_rate\": trial.suggest_loguniform('learning_rate', 1e-2, 1.0),\n",
            "<ipython-input-93-22c9a6b91acf>:13: FutureWarning: suggest_loguniform has been deprecated in v3.0.0. This feature will be removed in v6.0.0. See https://github.com/optuna/optuna/releases/tag/v3.0.0. Use suggest_float(..., log=True) instead.\n",
            "  \"min_child_weight\": trial.suggest_loguniform(\"min_child_weight\", 1e-4, 100),\n",
            "<ipython-input-93-22c9a6b91acf>:7: FutureWarning: suggest_loguniform has been deprecated in v3.0.0. This feature will be removed in v6.0.0. See https://github.com/optuna/optuna/releases/tag/v3.0.0. Use suggest_float(..., log=True) instead.\n",
            "  \"reg_lambda\": trial.suggest_loguniform(\"reg_lambda\", 1e-6, 10),\n",
            "<ipython-input-93-22c9a6b91acf>:8: FutureWarning: suggest_loguniform has been deprecated in v3.0.0. This feature will be removed in v6.0.0. See https://github.com/optuna/optuna/releases/tag/v3.0.0. Use suggest_float(..., log=True) instead.\n",
            "  \"reg_alpha\": trial.suggest_loguniform(\"reg_alpha\", 1e-6, 10),\n",
            "<ipython-input-93-22c9a6b91acf>:11: FutureWarning: suggest_loguniform has been deprecated in v3.0.0. This feature will be removed in v6.0.0. See https://github.com/optuna/optuna/releases/tag/v3.0.0. Use suggest_float(..., log=True) instead.\n",
            "  \"learning_rate\": trial.suggest_loguniform('learning_rate', 1e-2, 1.0),\n",
            "<ipython-input-93-22c9a6b91acf>:13: FutureWarning: suggest_loguniform has been deprecated in v3.0.0. This feature will be removed in v6.0.0. See https://github.com/optuna/optuna/releases/tag/v3.0.0. Use suggest_float(..., log=True) instead.\n",
            "  \"min_child_weight\": trial.suggest_loguniform(\"min_child_weight\", 1e-4, 100),\n",
            "<ipython-input-93-22c9a6b91acf>:7: FutureWarning: suggest_loguniform has been deprecated in v3.0.0. This feature will be removed in v6.0.0. See https://github.com/optuna/optuna/releases/tag/v3.0.0. Use suggest_float(..., log=True) instead.\n",
            "  \"reg_lambda\": trial.suggest_loguniform(\"reg_lambda\", 1e-6, 10),\n",
            "<ipython-input-93-22c9a6b91acf>:8: FutureWarning: suggest_loguniform has been deprecated in v3.0.0. This feature will be removed in v6.0.0. See https://github.com/optuna/optuna/releases/tag/v3.0.0. Use suggest_float(..., log=True) instead.\n",
            "  \"reg_alpha\": trial.suggest_loguniform(\"reg_alpha\", 1e-6, 10),\n",
            "<ipython-input-93-22c9a6b91acf>:11: FutureWarning: suggest_loguniform has been deprecated in v3.0.0. This feature will be removed in v6.0.0. See https://github.com/optuna/optuna/releases/tag/v3.0.0. Use suggest_float(..., log=True) instead.\n",
            "  \"learning_rate\": trial.suggest_loguniform('learning_rate', 1e-2, 1.0),\n",
            "<ipython-input-93-22c9a6b91acf>:13: FutureWarning: suggest_loguniform has been deprecated in v3.0.0. This feature will be removed in v6.0.0. See https://github.com/optuna/optuna/releases/tag/v3.0.0. Use suggest_float(..., log=True) instead.\n",
            "  \"min_child_weight\": trial.suggest_loguniform(\"min_child_weight\", 1e-4, 100),\n",
            "<ipython-input-93-22c9a6b91acf>:7: FutureWarning: suggest_loguniform has been deprecated in v3.0.0. This feature will be removed in v6.0.0. See https://github.com/optuna/optuna/releases/tag/v3.0.0. Use suggest_float(..., log=True) instead.\n",
            "  \"reg_lambda\": trial.suggest_loguniform(\"reg_lambda\", 1e-6, 10),\n",
            "<ipython-input-93-22c9a6b91acf>:8: FutureWarning: suggest_loguniform has been deprecated in v3.0.0. This feature will be removed in v6.0.0. See https://github.com/optuna/optuna/releases/tag/v3.0.0. Use suggest_float(..., log=True) instead.\n",
            "  \"reg_alpha\": trial.suggest_loguniform(\"reg_alpha\", 1e-6, 10),\n",
            "<ipython-input-93-22c9a6b91acf>:11: FutureWarning: suggest_loguniform has been deprecated in v3.0.0. This feature will be removed in v6.0.0. See https://github.com/optuna/optuna/releases/tag/v3.0.0. Use suggest_float(..., log=True) instead.\n",
            "  \"learning_rate\": trial.suggest_loguniform('learning_rate', 1e-2, 1.0),\n",
            "<ipython-input-93-22c9a6b91acf>:13: FutureWarning: suggest_loguniform has been deprecated in v3.0.0. This feature will be removed in v6.0.0. See https://github.com/optuna/optuna/releases/tag/v3.0.0. Use suggest_float(..., log=True) instead.\n",
            "  \"min_child_weight\": trial.suggest_loguniform(\"min_child_weight\", 1e-4, 100),\n",
            "<ipython-input-93-22c9a6b91acf>:7: FutureWarning: suggest_loguniform has been deprecated in v3.0.0. This feature will be removed in v6.0.0. See https://github.com/optuna/optuna/releases/tag/v3.0.0. Use suggest_float(..., log=True) instead.\n",
            "  \"reg_lambda\": trial.suggest_loguniform(\"reg_lambda\", 1e-6, 10),\n",
            "<ipython-input-93-22c9a6b91acf>:8: FutureWarning: suggest_loguniform has been deprecated in v3.0.0. This feature will be removed in v6.0.0. See https://github.com/optuna/optuna/releases/tag/v3.0.0. Use suggest_float(..., log=True) instead.\n",
            "  \"reg_alpha\": trial.suggest_loguniform(\"reg_alpha\", 1e-6, 10),\n",
            "<ipython-input-93-22c9a6b91acf>:11: FutureWarning: suggest_loguniform has been deprecated in v3.0.0. This feature will be removed in v6.0.0. See https://github.com/optuna/optuna/releases/tag/v3.0.0. Use suggest_float(..., log=True) instead.\n",
            "  \"learning_rate\": trial.suggest_loguniform('learning_rate', 1e-2, 1.0),\n",
            "<ipython-input-93-22c9a6b91acf>:13: FutureWarning: suggest_loguniform has been deprecated in v3.0.0. This feature will be removed in v6.0.0. See https://github.com/optuna/optuna/releases/tag/v3.0.0. Use suggest_float(..., log=True) instead.\n",
            "  \"min_child_weight\": trial.suggest_loguniform(\"min_child_weight\", 1e-4, 100),\n",
            "<ipython-input-93-22c9a6b91acf>:7: FutureWarning: suggest_loguniform has been deprecated in v3.0.0. This feature will be removed in v6.0.0. See https://github.com/optuna/optuna/releases/tag/v3.0.0. Use suggest_float(..., log=True) instead.\n",
            "  \"reg_lambda\": trial.suggest_loguniform(\"reg_lambda\", 1e-6, 10),\n",
            "<ipython-input-93-22c9a6b91acf>:8: FutureWarning: suggest_loguniform has been deprecated in v3.0.0. This feature will be removed in v6.0.0. See https://github.com/optuna/optuna/releases/tag/v3.0.0. Use suggest_float(..., log=True) instead.\n",
            "  \"reg_alpha\": trial.suggest_loguniform(\"reg_alpha\", 1e-6, 10),\n",
            "<ipython-input-93-22c9a6b91acf>:11: FutureWarning: suggest_loguniform has been deprecated in v3.0.0. This feature will be removed in v6.0.0. See https://github.com/optuna/optuna/releases/tag/v3.0.0. Use suggest_float(..., log=True) instead.\n",
            "  \"learning_rate\": trial.suggest_loguniform('learning_rate', 1e-2, 1.0),\n",
            "<ipython-input-93-22c9a6b91acf>:13: FutureWarning: suggest_loguniform has been deprecated in v3.0.0. This feature will be removed in v6.0.0. See https://github.com/optuna/optuna/releases/tag/v3.0.0. Use suggest_float(..., log=True) instead.\n",
            "  \"min_child_weight\": trial.suggest_loguniform(\"min_child_weight\", 1e-4, 100),\n",
            "<ipython-input-93-22c9a6b91acf>:7: FutureWarning: suggest_loguniform has been deprecated in v3.0.0. This feature will be removed in v6.0.0. See https://github.com/optuna/optuna/releases/tag/v3.0.0. Use suggest_float(..., log=True) instead.\n",
            "  \"reg_lambda\": trial.suggest_loguniform(\"reg_lambda\", 1e-6, 10),\n",
            "<ipython-input-93-22c9a6b91acf>:8: FutureWarning: suggest_loguniform has been deprecated in v3.0.0. This feature will be removed in v6.0.0. See https://github.com/optuna/optuna/releases/tag/v3.0.0. Use suggest_float(..., log=True) instead.\n",
            "  \"reg_alpha\": trial.suggest_loguniform(\"reg_alpha\", 1e-6, 10),\n",
            "<ipython-input-93-22c9a6b91acf>:11: FutureWarning: suggest_loguniform has been deprecated in v3.0.0. This feature will be removed in v6.0.0. See https://github.com/optuna/optuna/releases/tag/v3.0.0. Use suggest_float(..., log=True) instead.\n",
            "  \"learning_rate\": trial.suggest_loguniform('learning_rate', 1e-2, 1.0),\n",
            "<ipython-input-93-22c9a6b91acf>:13: FutureWarning: suggest_loguniform has been deprecated in v3.0.0. This feature will be removed in v6.0.0. See https://github.com/optuna/optuna/releases/tag/v3.0.0. Use suggest_float(..., log=True) instead.\n",
            "  \"min_child_weight\": trial.suggest_loguniform(\"min_child_weight\", 1e-4, 100),\n",
            "<ipython-input-93-22c9a6b91acf>:7: FutureWarning: suggest_loguniform has been deprecated in v3.0.0. This feature will be removed in v6.0.0. See https://github.com/optuna/optuna/releases/tag/v3.0.0. Use suggest_float(..., log=True) instead.\n",
            "  \"reg_lambda\": trial.suggest_loguniform(\"reg_lambda\", 1e-6, 10),\n",
            "<ipython-input-93-22c9a6b91acf>:8: FutureWarning: suggest_loguniform has been deprecated in v3.0.0. This feature will be removed in v6.0.0. See https://github.com/optuna/optuna/releases/tag/v3.0.0. Use suggest_float(..., log=True) instead.\n",
            "  \"reg_alpha\": trial.suggest_loguniform(\"reg_alpha\", 1e-6, 10),\n",
            "<ipython-input-93-22c9a6b91acf>:11: FutureWarning: suggest_loguniform has been deprecated in v3.0.0. This feature will be removed in v6.0.0. See https://github.com/optuna/optuna/releases/tag/v3.0.0. Use suggest_float(..., log=True) instead.\n",
            "  \"learning_rate\": trial.suggest_loguniform('learning_rate', 1e-2, 1.0),\n",
            "<ipython-input-93-22c9a6b91acf>:13: FutureWarning: suggest_loguniform has been deprecated in v3.0.0. This feature will be removed in v6.0.0. See https://github.com/optuna/optuna/releases/tag/v3.0.0. Use suggest_float(..., log=True) instead.\n",
            "  \"min_child_weight\": trial.suggest_loguniform(\"min_child_weight\", 1e-4, 100),\n",
            "<ipython-input-93-22c9a6b91acf>:7: FutureWarning: suggest_loguniform has been deprecated in v3.0.0. This feature will be removed in v6.0.0. See https://github.com/optuna/optuna/releases/tag/v3.0.0. Use suggest_float(..., log=True) instead.\n",
            "  \"reg_lambda\": trial.suggest_loguniform(\"reg_lambda\", 1e-6, 10),\n",
            "<ipython-input-93-22c9a6b91acf>:8: FutureWarning: suggest_loguniform has been deprecated in v3.0.0. This feature will be removed in v6.0.0. See https://github.com/optuna/optuna/releases/tag/v3.0.0. Use suggest_float(..., log=True) instead.\n",
            "  \"reg_alpha\": trial.suggest_loguniform(\"reg_alpha\", 1e-6, 10),\n",
            "<ipython-input-93-22c9a6b91acf>:11: FutureWarning: suggest_loguniform has been deprecated in v3.0.0. This feature will be removed in v6.0.0. See https://github.com/optuna/optuna/releases/tag/v3.0.0. Use suggest_float(..., log=True) instead.\n",
            "  \"learning_rate\": trial.suggest_loguniform('learning_rate', 1e-2, 1.0),\n",
            "<ipython-input-93-22c9a6b91acf>:13: FutureWarning: suggest_loguniform has been deprecated in v3.0.0. This feature will be removed in v6.0.0. See https://github.com/optuna/optuna/releases/tag/v3.0.0. Use suggest_float(..., log=True) instead.\n",
            "  \"min_child_weight\": trial.suggest_loguniform(\"min_child_weight\", 1e-4, 100),\n",
            "<ipython-input-93-22c9a6b91acf>:7: FutureWarning: suggest_loguniform has been deprecated in v3.0.0. This feature will be removed in v6.0.0. See https://github.com/optuna/optuna/releases/tag/v3.0.0. Use suggest_float(..., log=True) instead.\n",
            "  \"reg_lambda\": trial.suggest_loguniform(\"reg_lambda\", 1e-6, 10),\n",
            "<ipython-input-93-22c9a6b91acf>:8: FutureWarning: suggest_loguniform has been deprecated in v3.0.0. This feature will be removed in v6.0.0. See https://github.com/optuna/optuna/releases/tag/v3.0.0. Use suggest_float(..., log=True) instead.\n",
            "  \"reg_alpha\": trial.suggest_loguniform(\"reg_alpha\", 1e-6, 10),\n",
            "<ipython-input-93-22c9a6b91acf>:11: FutureWarning: suggest_loguniform has been deprecated in v3.0.0. This feature will be removed in v6.0.0. See https://github.com/optuna/optuna/releases/tag/v3.0.0. Use suggest_float(..., log=True) instead.\n",
            "  \"learning_rate\": trial.suggest_loguniform('learning_rate', 1e-2, 1.0),\n",
            "<ipython-input-93-22c9a6b91acf>:13: FutureWarning: suggest_loguniform has been deprecated in v3.0.0. This feature will be removed in v6.0.0. See https://github.com/optuna/optuna/releases/tag/v3.0.0. Use suggest_float(..., log=True) instead.\n",
            "  \"min_child_weight\": trial.suggest_loguniform(\"min_child_weight\", 1e-4, 100),\n",
            "<ipython-input-93-22c9a6b91acf>:7: FutureWarning: suggest_loguniform has been deprecated in v3.0.0. This feature will be removed in v6.0.0. See https://github.com/optuna/optuna/releases/tag/v3.0.0. Use suggest_float(..., log=True) instead.\n",
            "  \"reg_lambda\": trial.suggest_loguniform(\"reg_lambda\", 1e-6, 10),\n",
            "<ipython-input-93-22c9a6b91acf>:8: FutureWarning: suggest_loguniform has been deprecated in v3.0.0. This feature will be removed in v6.0.0. See https://github.com/optuna/optuna/releases/tag/v3.0.0. Use suggest_float(..., log=True) instead.\n",
            "  \"reg_alpha\": trial.suggest_loguniform(\"reg_alpha\", 1e-6, 10),\n",
            "<ipython-input-93-22c9a6b91acf>:11: FutureWarning: suggest_loguniform has been deprecated in v3.0.0. This feature will be removed in v6.0.0. See https://github.com/optuna/optuna/releases/tag/v3.0.0. Use suggest_float(..., log=True) instead.\n",
            "  \"learning_rate\": trial.suggest_loguniform('learning_rate', 1e-2, 1.0),\n",
            "<ipython-input-93-22c9a6b91acf>:13: FutureWarning: suggest_loguniform has been deprecated in v3.0.0. This feature will be removed in v6.0.0. See https://github.com/optuna/optuna/releases/tag/v3.0.0. Use suggest_float(..., log=True) instead.\n",
            "  \"min_child_weight\": trial.suggest_loguniform(\"min_child_weight\", 1e-4, 100),\n",
            "<ipython-input-93-22c9a6b91acf>:7: FutureWarning: suggest_loguniform has been deprecated in v3.0.0. This feature will be removed in v6.0.0. See https://github.com/optuna/optuna/releases/tag/v3.0.0. Use suggest_float(..., log=True) instead.\n",
            "  \"reg_lambda\": trial.suggest_loguniform(\"reg_lambda\", 1e-6, 10),\n",
            "<ipython-input-93-22c9a6b91acf>:8: FutureWarning: suggest_loguniform has been deprecated in v3.0.0. This feature will be removed in v6.0.0. See https://github.com/optuna/optuna/releases/tag/v3.0.0. Use suggest_float(..., log=True) instead.\n",
            "  \"reg_alpha\": trial.suggest_loguniform(\"reg_alpha\", 1e-6, 10),\n",
            "<ipython-input-93-22c9a6b91acf>:11: FutureWarning: suggest_loguniform has been deprecated in v3.0.0. This feature will be removed in v6.0.0. See https://github.com/optuna/optuna/releases/tag/v3.0.0. Use suggest_float(..., log=True) instead.\n",
            "  \"learning_rate\": trial.suggest_loguniform('learning_rate', 1e-2, 1.0),\n",
            "<ipython-input-93-22c9a6b91acf>:13: FutureWarning: suggest_loguniform has been deprecated in v3.0.0. This feature will be removed in v6.0.0. See https://github.com/optuna/optuna/releases/tag/v3.0.0. Use suggest_float(..., log=True) instead.\n",
            "  \"min_child_weight\": trial.suggest_loguniform(\"min_child_weight\", 1e-4, 100),\n",
            "<ipython-input-93-22c9a6b91acf>:7: FutureWarning: suggest_loguniform has been deprecated in v3.0.0. This feature will be removed in v6.0.0. See https://github.com/optuna/optuna/releases/tag/v3.0.0. Use suggest_float(..., log=True) instead.\n",
            "  \"reg_lambda\": trial.suggest_loguniform(\"reg_lambda\", 1e-6, 10),\n",
            "<ipython-input-93-22c9a6b91acf>:8: FutureWarning: suggest_loguniform has been deprecated in v3.0.0. This feature will be removed in v6.0.0. See https://github.com/optuna/optuna/releases/tag/v3.0.0. Use suggest_float(..., log=True) instead.\n",
            "  \"reg_alpha\": trial.suggest_loguniform(\"reg_alpha\", 1e-6, 10),\n",
            "<ipython-input-93-22c9a6b91acf>:11: FutureWarning: suggest_loguniform has been deprecated in v3.0.0. This feature will be removed in v6.0.0. See https://github.com/optuna/optuna/releases/tag/v3.0.0. Use suggest_float(..., log=True) instead.\n",
            "  \"learning_rate\": trial.suggest_loguniform('learning_rate', 1e-2, 1.0),\n",
            "<ipython-input-93-22c9a6b91acf>:13: FutureWarning: suggest_loguniform has been deprecated in v3.0.0. This feature will be removed in v6.0.0. See https://github.com/optuna/optuna/releases/tag/v3.0.0. Use suggest_float(..., log=True) instead.\n",
            "  \"min_child_weight\": trial.suggest_loguniform(\"min_child_weight\", 1e-4, 100),\n",
            "<ipython-input-93-22c9a6b91acf>:7: FutureWarning: suggest_loguniform has been deprecated in v3.0.0. This feature will be removed in v6.0.0. See https://github.com/optuna/optuna/releases/tag/v3.0.0. Use suggest_float(..., log=True) instead.\n",
            "  \"reg_lambda\": trial.suggest_loguniform(\"reg_lambda\", 1e-6, 10),\n",
            "<ipython-input-93-22c9a6b91acf>:8: FutureWarning: suggest_loguniform has been deprecated in v3.0.0. This feature will be removed in v6.0.0. See https://github.com/optuna/optuna/releases/tag/v3.0.0. Use suggest_float(..., log=True) instead.\n",
            "  \"reg_alpha\": trial.suggest_loguniform(\"reg_alpha\", 1e-6, 10),\n",
            "<ipython-input-93-22c9a6b91acf>:11: FutureWarning: suggest_loguniform has been deprecated in v3.0.0. This feature will be removed in v6.0.0. See https://github.com/optuna/optuna/releases/tag/v3.0.0. Use suggest_float(..., log=True) instead.\n",
            "  \"learning_rate\": trial.suggest_loguniform('learning_rate', 1e-2, 1.0),\n",
            "<ipython-input-93-22c9a6b91acf>:13: FutureWarning: suggest_loguniform has been deprecated in v3.0.0. This feature will be removed in v6.0.0. See https://github.com/optuna/optuna/releases/tag/v3.0.0. Use suggest_float(..., log=True) instead.\n",
            "  \"min_child_weight\": trial.suggest_loguniform(\"min_child_weight\", 1e-4, 100),\n",
            "<ipython-input-93-22c9a6b91acf>:7: FutureWarning: suggest_loguniform has been deprecated in v3.0.0. This feature will be removed in v6.0.0. See https://github.com/optuna/optuna/releases/tag/v3.0.0. Use suggest_float(..., log=True) instead.\n",
            "  \"reg_lambda\": trial.suggest_loguniform(\"reg_lambda\", 1e-6, 10),\n",
            "<ipython-input-93-22c9a6b91acf>:8: FutureWarning: suggest_loguniform has been deprecated in v3.0.0. This feature will be removed in v6.0.0. See https://github.com/optuna/optuna/releases/tag/v3.0.0. Use suggest_float(..., log=True) instead.\n",
            "  \"reg_alpha\": trial.suggest_loguniform(\"reg_alpha\", 1e-6, 10),\n",
            "<ipython-input-93-22c9a6b91acf>:11: FutureWarning: suggest_loguniform has been deprecated in v3.0.0. This feature will be removed in v6.0.0. See https://github.com/optuna/optuna/releases/tag/v3.0.0. Use suggest_float(..., log=True) instead.\n",
            "  \"learning_rate\": trial.suggest_loguniform('learning_rate', 1e-2, 1.0),\n",
            "<ipython-input-93-22c9a6b91acf>:13: FutureWarning: suggest_loguniform has been deprecated in v3.0.0. This feature will be removed in v6.0.0. See https://github.com/optuna/optuna/releases/tag/v3.0.0. Use suggest_float(..., log=True) instead.\n",
            "  \"min_child_weight\": trial.suggest_loguniform(\"min_child_weight\", 1e-4, 100),\n",
            "<ipython-input-93-22c9a6b91acf>:7: FutureWarning: suggest_loguniform has been deprecated in v3.0.0. This feature will be removed in v6.0.0. See https://github.com/optuna/optuna/releases/tag/v3.0.0. Use suggest_float(..., log=True) instead.\n",
            "  \"reg_lambda\": trial.suggest_loguniform(\"reg_lambda\", 1e-6, 10),\n",
            "<ipython-input-93-22c9a6b91acf>:8: FutureWarning: suggest_loguniform has been deprecated in v3.0.0. This feature will be removed in v6.0.0. See https://github.com/optuna/optuna/releases/tag/v3.0.0. Use suggest_float(..., log=True) instead.\n",
            "  \"reg_alpha\": trial.suggest_loguniform(\"reg_alpha\", 1e-6, 10),\n",
            "<ipython-input-93-22c9a6b91acf>:11: FutureWarning: suggest_loguniform has been deprecated in v3.0.0. This feature will be removed in v6.0.0. See https://github.com/optuna/optuna/releases/tag/v3.0.0. Use suggest_float(..., log=True) instead.\n",
            "  \"learning_rate\": trial.suggest_loguniform('learning_rate', 1e-2, 1.0),\n",
            "<ipython-input-93-22c9a6b91acf>:13: FutureWarning: suggest_loguniform has been deprecated in v3.0.0. This feature will be removed in v6.0.0. See https://github.com/optuna/optuna/releases/tag/v3.0.0. Use suggest_float(..., log=True) instead.\n",
            "  \"min_child_weight\": trial.suggest_loguniform(\"min_child_weight\", 1e-4, 100),\n",
            "<ipython-input-93-22c9a6b91acf>:7: FutureWarning: suggest_loguniform has been deprecated in v3.0.0. This feature will be removed in v6.0.0. See https://github.com/optuna/optuna/releases/tag/v3.0.0. Use suggest_float(..., log=True) instead.\n",
            "  \"reg_lambda\": trial.suggest_loguniform(\"reg_lambda\", 1e-6, 10),\n",
            "<ipython-input-93-22c9a6b91acf>:8: FutureWarning: suggest_loguniform has been deprecated in v3.0.0. This feature will be removed in v6.0.0. See https://github.com/optuna/optuna/releases/tag/v3.0.0. Use suggest_float(..., log=True) instead.\n",
            "  \"reg_alpha\": trial.suggest_loguniform(\"reg_alpha\", 1e-6, 10),\n",
            "<ipython-input-93-22c9a6b91acf>:11: FutureWarning: suggest_loguniform has been deprecated in v3.0.0. This feature will be removed in v6.0.0. See https://github.com/optuna/optuna/releases/tag/v3.0.0. Use suggest_float(..., log=True) instead.\n",
            "  \"learning_rate\": trial.suggest_loguniform('learning_rate', 1e-2, 1.0),\n",
            "<ipython-input-93-22c9a6b91acf>:13: FutureWarning: suggest_loguniform has been deprecated in v3.0.0. This feature will be removed in v6.0.0. See https://github.com/optuna/optuna/releases/tag/v3.0.0. Use suggest_float(..., log=True) instead.\n",
            "  \"min_child_weight\": trial.suggest_loguniform(\"min_child_weight\", 1e-4, 100),\n"
          ]
        },
        {
          "output_type": "stream",
          "name": "stdout",
          "text": [
            "Best parameters found by Optuna:  {'reg_lambda': 1.0806509368571158e-06, 'reg_alpha': 3.839238175972588e-06, 'colsample_bytree': 0.9455596343231498, 'subsample': 0.8147154153348259, 'learning_rate': 0.5205650140793474, 'max_depth': 27, 'min_child_weight': 26.545257389243105, 'n_estimators': 529}\n"
          ]
        }
      ]
    },
    {
      "cell_type": "code",
      "source": [
        "# Define the XGBClassifier model with the best parameters\n",
        "xgb_model = xgb.XGBClassifier(\n",
        "    **best_params,\n",
        "    enable_categorical=True,\n",
        "    random_state=42,\n",
        "    eval_metric=\"logloss\",  # Use logloss for classification\n",
        "    early_stopping_rounds=10  # Enable early stopping\n",
        ")\n",
        "\n",
        "# Train the model with early stopping using the validation set\n",
        "eval_set = [(X_val, y_val)]\n",
        "xgb_model.fit(X_train, y_train, eval_set=eval_set, verbose=0)\n",
        "\n",
        "# Predict on the validation set\n",
        "y_xgb_pred = xgb_model.predict(X_val)\n",
        "# Predict class probabilities\n",
        "y_xgb_pred_prob = xgb_model.predict_proba(X_val)[:, 1]\n",
        "\n",
        "# Compute Accuracy\n",
        "xgb_acc = accuracy_score(y_val, y_xgb_pred)\n",
        "\n",
        "print(f\"XGBoost Classifier Accuracy: {xgb_acc:.4f}\")"
      ],
      "metadata": {
        "colab": {
          "base_uri": "https://localhost:8080/"
        },
        "id": "qiKMkzAFmM0b",
        "outputId": "eecba787-a6b8-4ead-912f-ee96c94da1f0"
      },
      "execution_count": 94,
      "outputs": [
        {
          "output_type": "stream",
          "name": "stdout",
          "text": [
            "XGBoost Classifier Accuracy: 0.8717\n"
          ]
        }
      ]
    },
    {
      "cell_type": "markdown",
      "source": [
        "## Evaluation"
      ],
      "metadata": {
        "id": "j6lgaw8ERZiE"
      }
    },
    {
      "cell_type": "code",
      "source": [
        "# print classification report\n",
        "# Print the logistic regression classification report\n",
        "target_names = ['Non-Default', 'Default']\n",
        "print(\"Loistic Regression\")\n",
        "print(classification_report(y_val, y_log_pred, target_names=target_names))\n",
        "print(\"\")\n",
        "\n",
        "# Print the gradient boosted tree classification report\n",
        "print(\"Decision tree classifier\")\n",
        "print(classification_report(y_val, y_dt_pred, target_names=target_names))\n",
        "\n",
        "# Print the XGB classification report\n",
        "print(\"XGB classifier\")\n",
        "print(classification_report(y_val, y_xgb_pred, target_names=target_names))\n"
      ],
      "metadata": {
        "id": "V4JzZTR5RpWl",
        "colab": {
          "base_uri": "https://localhost:8080/"
        },
        "outputId": "d7897fc3-468e-4de3-e103-16338ea89aba"
      },
      "execution_count": 95,
      "outputs": [
        {
          "output_type": "stream",
          "name": "stdout",
          "text": [
            "Loistic Regression\n",
            "              precision    recall  f1-score   support\n",
            "\n",
            " Non-Default       0.93      0.82      0.87      4609\n",
            "     Default       0.54      0.76      0.63      1283\n",
            "\n",
            "    accuracy                           0.81      5892\n",
            "   macro avg       0.73      0.79      0.75      5892\n",
            "weighted avg       0.84      0.81      0.82      5892\n",
            "\n",
            "\n",
            "Decision tree classifier\n",
            "              precision    recall  f1-score   support\n",
            "\n",
            " Non-Default       0.93      0.95      0.94      4609\n",
            "     Default       0.81      0.72      0.77      1283\n",
            "\n",
            "    accuracy                           0.90      5892\n",
            "   macro avg       0.87      0.84      0.85      5892\n",
            "weighted avg       0.90      0.90      0.90      5892\n",
            "\n",
            "XGB classifier\n",
            "              precision    recall  f1-score   support\n",
            "\n",
            " Non-Default       0.95      0.89      0.92      4609\n",
            "     Default       0.67      0.82      0.74      1283\n",
            "\n",
            "    accuracy                           0.87      5892\n",
            "   macro avg       0.81      0.85      0.83      5892\n",
            "weighted avg       0.89      0.87      0.88      5892\n",
            "\n"
          ]
        }
      ]
    },
    {
      "cell_type": "code",
      "source": [
        "# Calculate performance metrics\n",
        "log_reg_accuracy = round(accuracy_score(y_val, y_log_pred), 2)\n",
        "log_reg_auc = round(roc_auc_score(y_val, y_log_pred_prob), 2)\n",
        "log_reg_f1 = round(f1_score(y_val, y_log_pred), 2)\n",
        "\n",
        "dt_reg_accuracy = round(accuracy_score(y_val, y_dt_pred), 2)\n",
        "dt_reg_auc = round(roc_auc_score(y_val, y_dt_pred_prob), 2)\n",
        "dt_reg_f1 = round(f1_score(y_val, y_dt_pred), 2)\n",
        "\n",
        "xgb_accuracy = round(accuracy_score(y_val, y_xgb_pred), 2)\n",
        "xgb_auc = round(roc_auc_score(y_val, y_xgb_pred_prob), 2)\n",
        "xgb_f1 = round(f1_score(y_val, y_xgb_pred), 2)\n",
        "\n",
        "# Create a DataFrame\n",
        "data = {\n",
        "    'Model': ['Logistic Regression', 'Decision tree', 'XGB Classifier'],\n",
        "    'Accuracy': [log_reg_accuracy, dt_reg_accuracy, xgb_accuracy],\n",
        "    'AUC': [log_reg_auc, dt_reg_auc, xgb_auc],\n",
        "    'F1': [log_reg_f1, dt_reg_f1, xgb_f1]\n",
        "}\n",
        "performance_df = pd.DataFrame(data)\n",
        "\n",
        "# Set the Model column as the index\n",
        "performance_df.set_index('Model', inplace=True)\n",
        "\n",
        "print(performance_df)"
      ],
      "metadata": {
        "colab": {
          "base_uri": "https://localhost:8080/"
        },
        "id": "ucpqp254JDXS",
        "outputId": "5a0b3aa7-1a54-4316-8823-37a7a028b69b"
      },
      "execution_count": 96,
      "outputs": [
        {
          "output_type": "stream",
          "name": "stdout",
          "text": [
            "                     Accuracy   AUC    F1\n",
            "Model                                    \n",
            "Logistic Regression      0.81  0.86  0.63\n",
            "Decision tree            0.90  0.90  0.77\n",
            "XGB Classifier           0.87  0.92  0.74\n"
          ]
        }
      ]
    },
    {
      "cell_type": "code",
      "source": [
        "# ROC chart components\n",
        "fallout_lr, sensitivity_lr, thresholds_lr = roc_curve(y_val, y_log_pred_prob)\n",
        "fallout_dt, sensitivity_dt, thresholds_dt = roc_curve(y_val, y_dt_pred_prob)\n",
        "fallout_gbt, sensitivity_gbt, thresholds_gbt = roc_curve(y_val, y_xgb_pred_prob)\n",
        "\n",
        "# ROC Chart with both\n",
        "plt.plot(fallout_lr, sensitivity_lr, color = 'blue', label='%s' % 'Logistic Regression')\n",
        "plt.plot(fallout_dt, sensitivity_dt, color = 'orange', label='%s' % 'Decision tree')\n",
        "plt.plot(fallout_gbt, sensitivity_gbt, color = 'green', label='%s' % 'XGB')\n",
        "plt.plot([0, 1], [0, 1], linestyle='--', label='%s' % 'Random Prediction')\n",
        "plt.title(\"ROC Chart for LR, DT, XGB on the Probability of Default\")\n",
        "plt.xlabel('Fall-out')\n",
        "plt.ylabel('Sensitivity')\n",
        "plt.legend()\n",
        "plt.show()\n",
        "\n",
        "# Print the logistic regression AUC with formatting\n",
        "print(\"Logistic Regression AUC Score: %0.2f\" % log_reg_auc)\n",
        "\n",
        "# Print the logistic regression AUC with formatting\n",
        "print(\"Decision tree AUC Score: %0.2f\" % dt_reg_auc)\n",
        "\n",
        "# Print the gradient boosted tree AUC with formatting\n",
        "print(\"XGB Classifier AUC Score: %0.2f\" % xgb_auc)"
      ],
      "metadata": {
        "colab": {
          "base_uri": "https://localhost:8080/",
          "height": 524
        },
        "id": "s1rqz6xVMork",
        "outputId": "15581406-4c7e-4f30-deb8-44e3313f02e8"
      },
      "execution_count": 97,
      "outputs": [
        {
          "output_type": "display_data",
          "data": {
            "text/plain": [
              "<Figure size 640x480 with 1 Axes>"
            ],
            "image/png": "[encoded data removed]"
          },
          "metadata": {}
        },
        {
          "output_type": "stream",
          "name": "stdout",
          "text": [
            "Logistic Regression AUC Score: 0.86\n",
            "Decision tree AUC Score: 0.90\n",
            "XGB Classifier AUC Score: 0.92\n"
          ]
        }
      ]
    },
    {
      "cell_type": "code",
      "source": [
        "import joblib\n",
        "# Save the trained model to a file\n",
        "joblib.dump(dt_model, 'dt_model_optimized.pkl')"
      ],
      "metadata": {
        "colab": {
          "base_uri": "https://localhost:8080/"
        },
        "id": "d_a1bhqj6o-W",
        "outputId": "b474c0c9-e55a-4678-c707-fdc3e2d29202"
      },
      "execution_count": 116,
      "outputs": [
        {
          "output_type": "execute_result",
          "data": {
            "text/plain": [
              "['dt_model_optimized.pkl']"
            ]
          },
          "metadata": {},
          "execution_count": 116
        }
      ]
    },
    {
      "cell_type": "markdown",
      "source": [
        "Testing the performance"
      ],
      "metadata": {
        "id": "PnUhuRAgRb4I"
      }
    },
    {
      "cell_type": "code",
      "source": [
        "# Create a DataFrame with y_test\n",
        "test_summary_df = pd.DataFrame(y_test)\n",
        "test_summary_df = test_summary_df.rename(columns={'loan_status': 'true_loan_status'})\n",
        "# Add two more columns from your predictions\n",
        "y_dt_test_pred_prob= dt_model.predict_proba(X_test)[:, 1]\n",
        "y_dt_test_pred = dt_model.predict(X_test)\n",
        "test_summary_df['prob_default'] = y_dt_test_pred_prob\n",
        "test_summary_df['pred_loan_status'] = y_dt_test_pred\n",
        "test_summary_df['loan_amnt'] = X_test['loan_amnt']\n",
        "\n",
        "print(test_summary_df ['loan_amnt'].describe())"
      ],
      "metadata": {
        "colab": {
          "base_uri": "https://localhost:8080/"
        },
        "id": "p6JKugO8rAxt",
        "outputId": "57a60965-9512-44d1-f597-c5882c35ce01"
      },
      "execution_count": 98,
      "outputs": [
        {
          "output_type": "stream",
          "name": "stdout",
          "text": [
            "count     5893.000000\n",
            "mean      9592.393518\n",
            "std       6250.730027\n",
            "min        500.000000\n",
            "25%       5000.000000\n",
            "50%       8000.000000\n",
            "75%      12000.000000\n",
            "max      35000.000000\n",
            "Name: loan_amnt, dtype: float64\n"
          ]
        }
      ]
    },
    {
      "cell_type": "code",
      "source": [
        "# Get the value counts of 'loan_status'\n",
        "loan_status_counts = test_summary_df['true_loan_status'].value_counts()\n",
        "\n",
        "# Plot the bar plot\n",
        "loan_status_counts.plot(kind='bar')\n",
        "plt.xlabel('Loan Status')\n",
        "plt.ylabel('Count')\n",
        "plt.title('Loan Status Bar Plot')\n",
        "plt.show()"
      ],
      "metadata": {
        "colab": {
          "base_uri": "https://localhost:8080/",
          "height": 467
        },
        "id": "71fWfOCoU_-J",
        "outputId": "98ba006c-a492-44cf-f832-5cd20fbcf400"
      },
      "execution_count": 99,
      "outputs": [
        {
          "output_type": "display_data",
          "data": {
            "text/plain": [
              "<Figure size 640x480 with 1 Axes>"
            ],
            "image/png": "[encoded data removed]"
          },
          "metadata": {}
        }
      ]
    },
    {
      "cell_type": "code",
      "source": [
        "# classification report\n",
        "target_names = ['Non-Default', 'Default']\n",
        "print(classification_report(y_test, y_dt_test_pred, target_names = target_names))"
      ],
      "metadata": {
        "colab": {
          "base_uri": "https://localhost:8080/"
        },
        "id": "aTXA9DvUng4m",
        "outputId": "6420c40a-79c9-40e7-eb4e-da392f18b8b3"
      },
      "execution_count": 100,
      "outputs": [
        {
          "output_type": "stream",
          "name": "stdout",
          "text": [
            "              precision    recall  f1-score   support\n",
            "\n",
            " Non-Default       0.92      0.96      0.94      4581\n",
            "     Default       0.82      0.73      0.77      1312\n",
            "\n",
            "    accuracy                           0.90      5893\n",
            "   macro avg       0.87      0.84      0.86      5893\n",
            "weighted avg       0.90      0.90      0.90      5893\n",
            "\n"
          ]
        }
      ]
    },
    {
      "cell_type": "code",
      "source": [
        "# confusion matrix\n",
        "cm = confusion_matrix(y_test, y_dt_test_pred, labels=dt_model.classes_)\n",
        "disp = ConfusionMatrixDisplay(confusion_matrix=cm,\n",
        "                              display_labels=dt_model.classes_)\n",
        "disp.plot()\n",
        "plt.show()"
      ],
      "metadata": {
        "colab": {
          "base_uri": "https://localhost:8080/",
          "height": 449
        },
        "id": "74sf6WIiNS3m",
        "outputId": "346befe8-9c9f-45c9-89fa-fa7698eb7a1b"
      },
      "execution_count": 101,
      "outputs": [
        {
          "output_type": "display_data",
          "data": {
            "text/plain": [
              "<Figure size 640x480 with 2 Axes>"
            ],
            "image/png": "[encoded data removed]"
          },
          "metadata": {}
        }
      ]
    },
    {
      "cell_type": "code",
      "source": [
        "# Print or view the DataFrame\n",
        "print(test_summary_df)"
      ],
      "metadata": {
        "colab": {
          "base_uri": "https://localhost:8080/"
        },
        "id": "9JTs_fJ9iyAr",
        "outputId": "5c45948e-ab1d-4738-fb54-f5de6608f2fb"
      },
      "execution_count": 102,
      "outputs": [
        {
          "output_type": "stream",
          "name": "stdout",
          "text": [
            "       true_loan_status  prob_default  pred_loan_status  loan_amnt\n",
            "16239                 0      0.931034                 1       7000\n",
            "8358                  1      0.803922                 1       7500\n",
            "14335                 1      1.000000                 1      14500\n",
            "8104                  0      0.000000                 0      11000\n",
            "366                   1      1.000000                 1       4375\n",
            "...                 ...           ...               ...        ...\n",
            "3555                  0      0.133333                 0       6000\n",
            "29983                 0      0.097959                 0       8400\n",
            "28591                 0      0.133333                 0       5000\n",
            "28763                 0      0.259623                 0      11000\n",
            "23700                 0      0.133333                 0       9200\n",
            "\n",
            "[5893 rows x 4 columns]\n"
          ]
        }
      ]
    },
    {
      "cell_type": "code",
      "source": [
        "plt.hist(test_summary_df['prob_default'])"
      ],
      "metadata": {
        "colab": {
          "base_uri": "https://localhost:8080/",
          "height": 499
        },
        "id": "CTm41npzTosv",
        "outputId": "27f9774a-6e85-46e8-beb4-aeadc4596434"
      },
      "execution_count": 103,
      "outputs": [
        {
          "output_type": "execute_result",
          "data": {
            "text/plain": [
              "(array([ 753., 1752., 1538.,  194.,  495.,   66.,    0.,   93.,  103.,\n",
              "         899.]),\n",
              " array([0. , 0.1, 0.2, 0.3, 0.4, 0.5, 0.6, 0.7, 0.8, 0.9, 1. ]),\n",
              " <BarContainer object of 10 artists>)"
            ]
          },
          "metadata": {},
          "execution_count": 103
        },
        {
          "output_type": "display_data",
          "data": {
            "text/plain": [
              "<Figure size 640x480 with 1 Axes>"
            ],
            "image/png": "[encoded data removed]"
          },
          "metadata": {}
        }
      ]
    },
    {
      "cell_type": "code",
      "source": [
        "## Acceptance rate impact\n",
        "\n",
        "# Print the statistics of the loan amount column\n",
        "print(test_summary_df ['loan_amnt'].describe())\n",
        "print(\"\")\n",
        "# Store the average loan amount\n",
        "avg_loan = np.mean(test_summary_df ['loan_amnt'])\n",
        "\n",
        "# Set the formatting for currency, and print the cross tab\n",
        "pd.options.display.float_format = '${:,.2f}'.format\n",
        "print(pd.crosstab(test_summary_df ['true_loan_status'],\n",
        "                 test_summary_df ['pred_loan_status']).apply(lambda x: x * avg_loan, axis = 0))"
      ],
      "metadata": {
        "colab": {
          "base_uri": "https://localhost:8080/"
        },
        "id": "BYaks81tiyKe",
        "outputId": "00635033-31f7-43f5-eef0-b4835e222d43"
      },
      "execution_count": 104,
      "outputs": [
        {
          "output_type": "stream",
          "name": "stdout",
          "text": [
            "count     5893.000000\n",
            "mean      9592.393518\n",
            "std       6250.730027\n",
            "min        500.000000\n",
            "25%       5000.000000\n",
            "50%       8000.000000\n",
            "75%      12000.000000\n",
            "max      35000.000000\n",
            "Name: loan_amnt, dtype: float64\n",
            "\n",
            "pred_loan_status              0             1\n",
            "true_loan_status                             \n",
            "0                $41,976,314.03 $1,966,440.67\n",
            "1                 $3,414,892.09 $9,170,328.20\n"
          ]
        }
      ]
    },
    {
      "cell_type": "code",
      "source": [
        "# Reset the format to non-currency format\n",
        "pd.options.display.float_format = None\n",
        "# Making the strategy table\n",
        "\n",
        "accept_rates = [1.0, 0.95, 0.9, 0.85, 0.8, 0.75, 0.7, 0.65, 0.6, 0.55,\n",
        "                0.5, 0.45, 0.4, 0.35, 0.3, 0.25, 0.2, 0.15, 0.1, 0.05]\n",
        "\n",
        "# Create lists to store thresholds and bad rates\n",
        "thresholds = []\n",
        "bad_rates = []\n",
        "\n",
        "# Populate the arrays for the strategy table with a for loop\n",
        "for rate in accept_rates:\n",
        "\n",
        "    # Calculate the threshold for the acceptance rate\n",
        "    thresh = np.quantile(test_summary_df['prob_default'], \\\n",
        "                         rate).round(3)\n",
        "\n",
        "    # Add the threshold value to the list of thresholds\n",
        "    thresholds.append(np.quantile(test_summary_df['prob_default'],\\\n",
        "                                  rate).round(3))\n",
        "\n",
        "    # Reassign the loan_status value using the threshold\n",
        "    test_summary_df['pred_loan_status'] = test_summary_df['prob_default']\\\n",
        "                                        .apply(lambda x: 1 if x > thresh else 0)\n",
        "\n",
        "    # Create a set of accepted loans using this acceptance rate\n",
        "    accepted_loans = test_summary_df[test_summary_df['pred_loan_status'] == 0]\n",
        "\n",
        "    # Calculate and append the bad rate using the acceptance rate\n",
        "    bad_rates.append(np.sum((accepted_loans['true_loan_status']) /\\\n",
        "                            len(accepted_loans['true_loan_status'])).round(3))\n",
        "\n",
        "# Create a data frame of the strategy table\n",
        "strat_df = pd.DataFrame(zip(accept_rates, thresholds, bad_rates),\n",
        "                        columns = ['Acceptance Rate','Threshold','Bad Rate'])\n",
        "\n",
        "# Print the entire table\n",
        "print(strat_df)"
      ],
      "metadata": {
        "colab": {
          "base_uri": "https://localhost:8080/"
        },
        "id": "jpJJ_OtEn7gP",
        "outputId": "a0875461-d758-4216-958a-3cc4a13fdd39"
      },
      "execution_count": 105,
      "outputs": [
        {
          "output_type": "stream",
          "name": "stdout",
          "text": [
            "    Acceptance Rate  Threshold  Bad Rate\n",
            "0              1.00      1.000     0.223\n",
            "1              0.95      1.000     0.223\n",
            "2              0.90      0.976     0.102\n",
            "3              0.85      0.931     0.094\n",
            "4              0.80      0.488     0.071\n",
            "5              0.75      0.464     0.070\n",
            "6              0.70      0.375     0.062\n",
            "7              0.65      0.260     0.058\n",
            "8              0.60      0.260     0.058\n",
            "9              0.55      0.260     0.058\n",
            "10             0.50      0.260     0.058\n",
            "11             0.45      0.225     0.046\n",
            "12             0.40      0.133     0.025\n",
            "13             0.35      0.133     0.025\n",
            "14             0.30      0.133     0.025\n",
            "15             0.25      0.133     0.025\n",
            "16             0.20      0.133     0.025\n",
            "17             0.15      0.133     0.025\n",
            "18             0.10      0.098     0.024\n",
            "19             0.05      0.000     0.012\n"
          ]
        }
      ]
    },
    {
      "cell_type": "markdown",
      "source": [
        "threshold 0.133 while acceptance rate is 0.4 seems to be a good choice"
      ],
      "metadata": {
        "id": "wsWu-jk4w9qY"
      }
    },
    {
      "cell_type": "code",
      "source": [
        "test_summary_df['pred_loan_status_o.4_tresh'] = (y_dt_test_pred_prob > 0.1333).astype(int)\n",
        "test_summary_df['pred_loan_status_o.4_tresh']"
      ],
      "metadata": {
        "id": "T_Q4s7M2xQV-"
      },
      "execution_count": 106,
      "outputs": []
    },
    {
      "cell_type": "code",
      "source": [
        "# Visualize the distributions in the strategy table with a boxplot\n",
        "strat_df.boxplot()\n",
        "plt.show()\n"
      ],
      "metadata": {
        "colab": {
          "base_uri": "https://localhost:8080/",
          "height": 430
        },
        "id": "kzzacwk4pG-Q",
        "outputId": "3b9d13d6-a504-4a47-a327-1a16d4a3e32a"
      },
      "execution_count": 107,
      "outputs": [
        {
          "output_type": "display_data",
          "data": {
            "text/plain": [
              "<Figure size 640x480 with 1 Axes>"
            ],
            "image/png": "[encoded data removed]"
          },
          "metadata": {}
        }
      ]
    },
    {
      "cell_type": "code",
      "source": [
        "# Initialize an empty list to store the number of accepted loans for each threshold\n",
        "num_accepted_loans_list = []\n",
        "\n",
        "# Iterate over each threshold in the 'Threshold' column of strat_df\n",
        "for threshold in strat_df['Threshold']:\n",
        "    # Compute binary predictions using the current threshold\n",
        "    y_pred_non_default = (dt_model.predict_proba(X_test)[:, 1] < threshold).astype(int)\n",
        "\n",
        "    # Count the number of accepted loans (where non-default is predicted)\n",
        "    num_accepted_loans = np.sum(y_pred_non_default)\n",
        "\n",
        "    # Append the count to the list\n",
        "    num_accepted_loans_list.append(num_accepted_loans)\n",
        "\n",
        "# Assign the list of counts to the 'Num Accepted Loans' column in strat_df\n",
        "strat_df['Num Accepted Loans'] = num_accepted_loans_list\n",
        "\n",
        "strat_df['Avg Loan Amnt'] = avg_loan\n",
        "\n",
        "strat_df['Estimated Value'] = strat_df['Num Accepted Loans'] * strat_df['Avg Loan Amnt'] * (1-strat_df['Bad Rate']-strat_df['Bad Rate'])"
      ],
      "metadata": {
        "id": "R38ongAvy0rk"
      },
      "execution_count": 108,
      "outputs": []
    },
    {
      "cell_type": "code",
      "source": [
        "print(strat_df)"
      ],
      "metadata": {
        "colab": {
          "base_uri": "https://localhost:8080/"
        },
        "id": "TJCMwjPFvSGa",
        "outputId": "42ba06e5-56d7-48dc-84c4-ad7c7988a98f"
      },
      "execution_count": 109,
      "outputs": [
        {
          "output_type": "stream",
          "name": "stdout",
          "text": [
            "    Acceptance Rate  Threshold  Bad Rate  Num Accepted Loans  Avg Loan Amnt  \\\n",
            "0              1.00      1.000     0.223                5312    9592.393518   \n",
            "1              0.95      1.000     0.223                5312    9592.393518   \n",
            "2              0.90      0.976     0.102                5064    9592.393518   \n",
            "3              0.85      0.931     0.094                4994    9592.393518   \n",
            "4              0.80      0.488     0.071                4525    9592.393518   \n",
            "5              0.75      0.464     0.070                4477    9592.393518   \n",
            "6              0.70      0.375     0.062                4072    9592.393518   \n",
            "7              0.65      0.260     0.058                4043    9592.393518   \n",
            "8              0.60      0.260     0.058                4043    9592.393518   \n",
            "9              0.55      0.260     0.058                4043    9592.393518   \n",
            "10             0.50      0.260     0.058                4043    9592.393518   \n",
            "11             0.45      0.225     0.046                2511    9592.393518   \n",
            "12             0.40      0.133     0.025                 799    9592.393518   \n",
            "13             0.35      0.133     0.025                 799    9592.393518   \n",
            "14             0.30      0.133     0.025                 799    9592.393518   \n",
            "15             0.25      0.133     0.025                 799    9592.393518   \n",
            "16             0.20      0.133     0.025                 799    9592.393518   \n",
            "17             0.15      0.133     0.025                 799    9592.393518   \n",
            "18             0.10      0.098     0.024                 753    9592.393518   \n",
            "19             0.05      0.000     0.012                   0    9592.393518   \n",
            "\n",
            "    Estimated Value  \n",
            "0      2.822896e+07  \n",
            "1      2.822896e+07  \n",
            "2      3.866640e+07  \n",
            "3      3.889838e+07  \n",
            "4      3.724199e+07  \n",
            "5      3.693283e+07  \n",
            "6      3.421676e+07  \n",
            "7      3.428333e+07  \n",
            "8      3.428333e+07  \n",
            "9      3.428333e+07  \n",
            "10     3.428333e+07  \n",
            "11     2.187054e+07  \n",
            "12     7.281106e+06  \n",
            "13     7.281106e+06  \n",
            "14     7.281106e+06  \n",
            "15     7.281106e+06  \n",
            "16     7.281106e+06  \n",
            "17     7.281106e+06  \n",
            "18     6.876365e+06  \n",
            "19     0.000000e+00  \n"
          ]
        }
      ]
    },
    {
      "cell_type": "code",
      "source": [
        "# Plot the strategy curve\n",
        "plt.plot(strat_df['Acceptance Rate'],\n",
        "         strat_df['Bad Rate'])\n",
        "plt.xlabel('Acceptance Rate')\n",
        "plt.ylabel('Bad Rate')\n",
        "plt.title('Acceptance and Bad Rates')\n",
        "plt.grid(True)  # Add grid lines\n",
        "plt.show()"
      ],
      "metadata": {
        "colab": {
          "base_uri": "https://localhost:8080/",
          "height": 472
        },
        "id": "k9Juabkkpa10",
        "outputId": "0653fcfe-9d08-4ac3-9b53-c3b948a18259"
      },
      "execution_count": 110,
      "outputs": [
        {
          "output_type": "display_data",
          "data": {
            "text/plain": [
              "<Figure size 640x480 with 1 Axes>"
            ],
            "image/png": "[encoded data removed]"
          },
          "metadata": {}
        }
      ]
    }
  ]
}